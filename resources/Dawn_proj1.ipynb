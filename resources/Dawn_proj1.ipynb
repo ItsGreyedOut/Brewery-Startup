{
 "cells": [
  {
   "cell_type": "code",
   "execution_count": 1,
   "metadata": {},
   "outputs": [],
   "source": [
    "import re\n",
    "import pandas as pd\n",
    "import os\n",
    "import csv\n",
    "import matplotlib.pyplot as plt\n",
    "import numpy as np"
   ]
  },
  {
   "cell_type": "code",
   "execution_count": 2,
   "metadata": {},
   "outputs": [
    {
     "data": {
      "text/html": [
       "<div>\n",
       "<style scoped>\n",
       "    .dataframe tbody tr th:only-of-type {\n",
       "        vertical-align: middle;\n",
       "    }\n",
       "\n",
       "    .dataframe tbody tr th {\n",
       "        vertical-align: top;\n",
       "    }\n",
       "\n",
       "    .dataframe thead th {\n",
       "        text-align: right;\n",
       "    }\n",
       "</style>\n",
       "<table border=\"1\" class=\"dataframe\">\n",
       "  <thead>\n",
       "    <tr style=\"text-align: right;\">\n",
       "      <th></th>\n",
       "      <th>Unnamed: 0</th>\n",
       "      <th>abv</th>\n",
       "      <th>ibu</th>\n",
       "      <th>id</th>\n",
       "      <th>name</th>\n",
       "      <th>style</th>\n",
       "      <th>brewery_id</th>\n",
       "      <th>ounces</th>\n",
       "    </tr>\n",
       "  </thead>\n",
       "  <tbody>\n",
       "    <tr>\n",
       "      <th>0</th>\n",
       "      <td>0</td>\n",
       "      <td>0.050</td>\n",
       "      <td>NaN</td>\n",
       "      <td>1436</td>\n",
       "      <td>Pub Beer</td>\n",
       "      <td>American Pale Lager</td>\n",
       "      <td>408</td>\n",
       "      <td>12.0</td>\n",
       "    </tr>\n",
       "    <tr>\n",
       "      <th>1</th>\n",
       "      <td>1</td>\n",
       "      <td>0.066</td>\n",
       "      <td>NaN</td>\n",
       "      <td>2265</td>\n",
       "      <td>Devil's Cup</td>\n",
       "      <td>American Pale Ale (APA)</td>\n",
       "      <td>177</td>\n",
       "      <td>12.0</td>\n",
       "    </tr>\n",
       "    <tr>\n",
       "      <th>2</th>\n",
       "      <td>2</td>\n",
       "      <td>0.071</td>\n",
       "      <td>NaN</td>\n",
       "      <td>2264</td>\n",
       "      <td>Rise of the Phoenix</td>\n",
       "      <td>American IPA</td>\n",
       "      <td>177</td>\n",
       "      <td>12.0</td>\n",
       "    </tr>\n",
       "    <tr>\n",
       "      <th>3</th>\n",
       "      <td>3</td>\n",
       "      <td>0.090</td>\n",
       "      <td>NaN</td>\n",
       "      <td>2263</td>\n",
       "      <td>Sinister</td>\n",
       "      <td>American Double / Imperial IPA</td>\n",
       "      <td>177</td>\n",
       "      <td>12.0</td>\n",
       "    </tr>\n",
       "    <tr>\n",
       "      <th>4</th>\n",
       "      <td>4</td>\n",
       "      <td>0.075</td>\n",
       "      <td>NaN</td>\n",
       "      <td>2262</td>\n",
       "      <td>Sex and Candy</td>\n",
       "      <td>American IPA</td>\n",
       "      <td>177</td>\n",
       "      <td>12.0</td>\n",
       "    </tr>\n",
       "  </tbody>\n",
       "</table>\n",
       "</div>"
      ],
      "text/plain": [
       "   Unnamed: 0    abv  ibu    id                 name  \\\n",
       "0           0  0.050  NaN  1436             Pub Beer   \n",
       "1           1  0.066  NaN  2265          Devil's Cup   \n",
       "2           2  0.071  NaN  2264  Rise of the Phoenix   \n",
       "3           3  0.090  NaN  2263             Sinister   \n",
       "4           4  0.075  NaN  2262        Sex and Candy   \n",
       "\n",
       "                            style  brewery_id  ounces  \n",
       "0             American Pale Lager         408    12.0  \n",
       "1         American Pale Ale (APA)         177    12.0  \n",
       "2                    American IPA         177    12.0  \n",
       "3  American Double / Imperial IPA         177    12.0  \n",
       "4                    American IPA         177    12.0  "
      ]
     },
     "execution_count": 2,
     "metadata": {},
     "output_type": "execute_result"
    }
   ],
   "source": [
    "beers_csv = \"beers.csv\"\n",
    "breweries_csv = \"breweries.csv\"\n",
    "\n",
    "beers_df = pd.read_csv(beers_csv)\n",
    "breweries_df = pd.read_csv(breweries_csv)\n",
    "beers_df.head()"
   ]
  },
  {
   "cell_type": "code",
   "execution_count": 3,
   "metadata": {},
   "outputs": [
    {
     "data": {
      "text/html": [
       "<div>\n",
       "<style scoped>\n",
       "    .dataframe tbody tr th:only-of-type {\n",
       "        vertical-align: middle;\n",
       "    }\n",
       "\n",
       "    .dataframe tbody tr th {\n",
       "        vertical-align: top;\n",
       "    }\n",
       "\n",
       "    .dataframe thead th {\n",
       "        text-align: right;\n",
       "    }\n",
       "</style>\n",
       "<table border=\"1\" class=\"dataframe\">\n",
       "  <thead>\n",
       "    <tr style=\"text-align: right;\">\n",
       "      <th></th>\n",
       "      <th>brewery_id</th>\n",
       "      <th>name</th>\n",
       "      <th>city</th>\n",
       "      <th>state</th>\n",
       "    </tr>\n",
       "  </thead>\n",
       "  <tbody>\n",
       "    <tr>\n",
       "      <th>0</th>\n",
       "      <td>0</td>\n",
       "      <td>NorthGate Brewing</td>\n",
       "      <td>Minneapolis</td>\n",
       "      <td>MN</td>\n",
       "    </tr>\n",
       "    <tr>\n",
       "      <th>1</th>\n",
       "      <td>1</td>\n",
       "      <td>Against the Grain Brewery</td>\n",
       "      <td>Louisville</td>\n",
       "      <td>KY</td>\n",
       "    </tr>\n",
       "    <tr>\n",
       "      <th>2</th>\n",
       "      <td>2</td>\n",
       "      <td>Jack's Abby Craft Lagers</td>\n",
       "      <td>Framingham</td>\n",
       "      <td>MA</td>\n",
       "    </tr>\n",
       "    <tr>\n",
       "      <th>3</th>\n",
       "      <td>3</td>\n",
       "      <td>Mike Hess Brewing Company</td>\n",
       "      <td>San Diego</td>\n",
       "      <td>CA</td>\n",
       "    </tr>\n",
       "    <tr>\n",
       "      <th>4</th>\n",
       "      <td>4</td>\n",
       "      <td>Fort Point Beer Company</td>\n",
       "      <td>San Francisco</td>\n",
       "      <td>CA</td>\n",
       "    </tr>\n",
       "    <tr>\n",
       "      <th>...</th>\n",
       "      <td>...</td>\n",
       "      <td>...</td>\n",
       "      <td>...</td>\n",
       "      <td>...</td>\n",
       "    </tr>\n",
       "    <tr>\n",
       "      <th>553</th>\n",
       "      <td>553</td>\n",
       "      <td>Covington Brewhouse</td>\n",
       "      <td>Covington</td>\n",
       "      <td>LA</td>\n",
       "    </tr>\n",
       "    <tr>\n",
       "      <th>554</th>\n",
       "      <td>554</td>\n",
       "      <td>Dave's Brewfarm</td>\n",
       "      <td>Wilson</td>\n",
       "      <td>WI</td>\n",
       "    </tr>\n",
       "    <tr>\n",
       "      <th>555</th>\n",
       "      <td>555</td>\n",
       "      <td>Ukiah Brewing Company</td>\n",
       "      <td>Ukiah</td>\n",
       "      <td>CA</td>\n",
       "    </tr>\n",
       "    <tr>\n",
       "      <th>556</th>\n",
       "      <td>556</td>\n",
       "      <td>Butternuts Beer and Ale</td>\n",
       "      <td>Garrattsville</td>\n",
       "      <td>NY</td>\n",
       "    </tr>\n",
       "    <tr>\n",
       "      <th>557</th>\n",
       "      <td>557</td>\n",
       "      <td>Sleeping Lady Brewing Company</td>\n",
       "      <td>Anchorage</td>\n",
       "      <td>AK</td>\n",
       "    </tr>\n",
       "  </tbody>\n",
       "</table>\n",
       "<p>558 rows × 4 columns</p>\n",
       "</div>"
      ],
      "text/plain": [
       "     brewery_id                           name           city state\n",
       "0             0             NorthGate Brewing     Minneapolis    MN\n",
       "1             1      Against the Grain Brewery     Louisville    KY\n",
       "2             2       Jack's Abby Craft Lagers     Framingham    MA\n",
       "3             3      Mike Hess Brewing Company      San Diego    CA\n",
       "4             4        Fort Point Beer Company  San Francisco    CA\n",
       "..          ...                            ...            ...   ...\n",
       "553         553            Covington Brewhouse      Covington    LA\n",
       "554         554                Dave's Brewfarm         Wilson    WI\n",
       "555         555          Ukiah Brewing Company          Ukiah    CA\n",
       "556         556        Butternuts Beer and Ale  Garrattsville    NY\n",
       "557         557  Sleeping Lady Brewing Company      Anchorage    AK\n",
       "\n",
       "[558 rows x 4 columns]"
      ]
     },
     "execution_count": 3,
     "metadata": {},
     "output_type": "execute_result"
    }
   ],
   "source": [
    "breweries_df = breweries_df.rename(columns={\"Unnamed: 0\":\"brewery_id\"})\n",
    "breweries_df"
   ]
  },
  {
   "cell_type": "code",
   "execution_count": 4,
   "metadata": {},
   "outputs": [],
   "source": [
    "# pd.merge(beers_df, breweries_df, )\n",
    "poop_df = breweries_df.merge(beers_df, on=\"brewery_id\")\n",
    "#poop_df.to_csv(\"poop.csv\")"
   ]
  },
  {
   "cell_type": "code",
   "execution_count": 5,
   "metadata": {},
   "outputs": [
    {
     "ename": "SyntaxError",
     "evalue": "unexpected EOF while parsing (<ipython-input-5-3c4098f488aa>, line 1)",
     "output_type": "error",
     "traceback": [
      "\u001b[1;36m  File \u001b[1;32m\"<ipython-input-5-3c4098f488aa>\"\u001b[1;36m, line \u001b[1;32m1\u001b[0m\n\u001b[1;33m    poop_df.nlargest(5,['abv']\u001b[0m\n\u001b[1;37m                              ^\u001b[0m\n\u001b[1;31mSyntaxError\u001b[0m\u001b[1;31m:\u001b[0m unexpected EOF while parsing\n"
     ]
    }
   ],
   "source": [
    "poop_df.nlargest(5,['abv']"
   ]
  },
  {
   "cell_type": "code",
   "execution_count": 6,
   "metadata": {},
   "outputs": [
    {
     "data": {
      "text/plain": [
       "Text(0, 0.5, 'Count of Beer')"
      ]
     },
     "execution_count": 6,
     "metadata": {},
     "output_type": "execute_result"
    },
    {
     "data": {
      "image/png": "[encoded data removed]",
      "text/plain": [
       "<Figure size 432x288 with 1 Axes>"
      ]
     },
     "metadata": {},
     "output_type": "display_data"
    }
   ],
   "source": [
    "poop_df['state'].value_counts(15).plot(kind = \"pie\")\n",
    "plt.title(\"Most Popular Styles of Beer\")\n",
    "plt.xlabel(\"Styles of Beer\")\n",
    "plt.ylabel(\"Count of Beer\")"
   ]
  },
  {
   "cell_type": "code",
   "execution_count": 7,
   "metadata": {},
   "outputs": [
    {
     "name": "stdout",
     "output_type": "stream",
     "text": [
      "count    2348.000000\n",
      "mean        0.059773\n",
      "std         0.013542\n",
      "min         0.001000\n",
      "25%         0.050000\n",
      "50%         0.056000\n",
      "75%         0.067000\n",
      "max         0.128000\n",
      "Name: abv, dtype: float64\n"
     ]
    }
   ],
   "source": [
    "print(beers_df.abv.describe())"
   ]
  },
  {
   "cell_type": "code",
   "execution_count": 8,
   "metadata": {},
   "outputs": [
    {
     "data": {
      "text/plain": [
       "American IPA                      424\n",
       "American Pale Ale (APA)           245\n",
       "American Amber / Red Ale          133\n",
       "American Blonde Ale               108\n",
       "American Double / Imperial IPA    105\n",
       "American Pale Wheat Ale            97\n",
       "American Brown Ale                 70\n",
       "American Porter                    68\n",
       "Saison / Farmhouse Ale             52\n",
       "Witbier                            51\n",
       "Fruit / Vegetable Beer             49\n",
       "Kölsch                             42\n",
       "Hefeweizen                         40\n",
       "American Stout                     39\n",
       "American Pale Lager                39\n",
       "Name: style, dtype: int64"
      ]
     },
     "execution_count": 8,
     "metadata": {},
     "output_type": "execute_result"
    }
   ],
   "source": [
    "beers_df['style'].value_counts()[:15]"
   ]
  },
  {
   "cell_type": "code",
   "execution_count": 9,
   "metadata": {},
   "outputs": [
    {
     "data": {
      "text/html": [
       "<div>\n",
       "<style scoped>\n",
       "    .dataframe tbody tr th:only-of-type {\n",
       "        vertical-align: middle;\n",
       "    }\n",
       "\n",
       "    .dataframe tbody tr th {\n",
       "        vertical-align: top;\n",
       "    }\n",
       "\n",
       "    .dataframe thead tr th {\n",
       "        text-align: left;\n",
       "    }\n",
       "\n",
       "    .dataframe thead tr:last-of-type th {\n",
       "        text-align: right;\n",
       "    }\n",
       "</style>\n",
       "<table border=\"1\" class=\"dataframe\">\n",
       "  <thead>\n",
       "    <tr>\n",
       "      <th></th>\n",
       "      <th colspan=\"8\" halign=\"left\">brewery_id</th>\n",
       "      <th colspan=\"2\" halign=\"left\">Unnamed: 0</th>\n",
       "      <th>...</th>\n",
       "      <th colspan=\"2\" halign=\"left\">id</th>\n",
       "      <th colspan=\"8\" halign=\"left\">ounces</th>\n",
       "    </tr>\n",
       "    <tr>\n",
       "      <th></th>\n",
       "      <th>count</th>\n",
       "      <th>mean</th>\n",
       "      <th>std</th>\n",
       "      <th>min</th>\n",
       "      <th>25%</th>\n",
       "      <th>50%</th>\n",
       "      <th>75%</th>\n",
       "      <th>max</th>\n",
       "      <th>count</th>\n",
       "      <th>mean</th>\n",
       "      <th>...</th>\n",
       "      <th>75%</th>\n",
       "      <th>max</th>\n",
       "      <th>count</th>\n",
       "      <th>mean</th>\n",
       "      <th>std</th>\n",
       "      <th>min</th>\n",
       "      <th>25%</th>\n",
       "      <th>50%</th>\n",
       "      <th>75%</th>\n",
       "      <th>max</th>\n",
       "    </tr>\n",
       "    <tr>\n",
       "      <th>style</th>\n",
       "      <th></th>\n",
       "      <th></th>\n",
       "      <th></th>\n",
       "      <th></th>\n",
       "      <th></th>\n",
       "      <th></th>\n",
       "      <th></th>\n",
       "      <th></th>\n",
       "      <th></th>\n",
       "      <th></th>\n",
       "      <th></th>\n",
       "      <th></th>\n",
       "      <th></th>\n",
       "      <th></th>\n",
       "      <th></th>\n",
       "      <th></th>\n",
       "      <th></th>\n",
       "      <th></th>\n",
       "      <th></th>\n",
       "      <th></th>\n",
       "      <th></th>\n",
       "    </tr>\n",
       "  </thead>\n",
       "  <tbody>\n",
       "    <tr>\n",
       "      <th>Abbey Single Ale</th>\n",
       "      <td>2.0</td>\n",
       "      <td>57.000000</td>\n",
       "      <td>0.000000</td>\n",
       "      <td>57.0</td>\n",
       "      <td>57.0</td>\n",
       "      <td>57.0</td>\n",
       "      <td>57.00</td>\n",
       "      <td>57.0</td>\n",
       "      <td>2.0</td>\n",
       "      <td>716.500000</td>\n",
       "      <td>...</td>\n",
       "      <td>2350.50</td>\n",
       "      <td>2505.0</td>\n",
       "      <td>2.0</td>\n",
       "      <td>12.000000</td>\n",
       "      <td>0.000000</td>\n",
       "      <td>12.0</td>\n",
       "      <td>12.0</td>\n",
       "      <td>12.0</td>\n",
       "      <td>12.0</td>\n",
       "      <td>12.0</td>\n",
       "    </tr>\n",
       "    <tr>\n",
       "      <th>Altbier</th>\n",
       "      <td>13.0</td>\n",
       "      <td>220.000000</td>\n",
       "      <td>137.471209</td>\n",
       "      <td>25.0</td>\n",
       "      <td>122.0</td>\n",
       "      <td>200.0</td>\n",
       "      <td>270.00</td>\n",
       "      <td>490.0</td>\n",
       "      <td>13.0</td>\n",
       "      <td>1124.153846</td>\n",
       "      <td>...</td>\n",
       "      <td>2339.00</td>\n",
       "      <td>2605.0</td>\n",
       "      <td>13.0</td>\n",
       "      <td>13.538462</td>\n",
       "      <td>2.025479</td>\n",
       "      <td>12.0</td>\n",
       "      <td>12.0</td>\n",
       "      <td>12.0</td>\n",
       "      <td>16.0</td>\n",
       "      <td>16.0</td>\n",
       "    </tr>\n",
       "    <tr>\n",
       "      <th>American Adjunct Lager</th>\n",
       "      <td>18.0</td>\n",
       "      <td>163.000000</td>\n",
       "      <td>89.903216</td>\n",
       "      <td>38.0</td>\n",
       "      <td>131.0</td>\n",
       "      <td>131.0</td>\n",
       "      <td>149.75</td>\n",
       "      <td>473.0</td>\n",
       "      <td>18.0</td>\n",
       "      <td>1684.277778</td>\n",
       "      <td>...</td>\n",
       "      <td>2273.75</td>\n",
       "      <td>2369.0</td>\n",
       "      <td>18.0</td>\n",
       "      <td>13.333333</td>\n",
       "      <td>3.067860</td>\n",
       "      <td>12.0</td>\n",
       "      <td>12.0</td>\n",
       "      <td>12.0</td>\n",
       "      <td>12.0</td>\n",
       "      <td>24.0</td>\n",
       "    </tr>\n",
       "    <tr>\n",
       "      <th>American Amber / Red Ale</th>\n",
       "      <td>133.0</td>\n",
       "      <td>248.045113</td>\n",
       "      <td>158.265641</td>\n",
       "      <td>4.0</td>\n",
       "      <td>101.0</td>\n",
       "      <td>219.0</td>\n",
       "      <td>375.00</td>\n",
       "      <td>552.0</td>\n",
       "      <td>133.0</td>\n",
       "      <td>1146.699248</td>\n",
       "      <td>...</td>\n",
       "      <td>1952.00</td>\n",
       "      <td>2660.0</td>\n",
       "      <td>133.0</td>\n",
       "      <td>13.293233</td>\n",
       "      <td>1.878031</td>\n",
       "      <td>12.0</td>\n",
       "      <td>12.0</td>\n",
       "      <td>12.0</td>\n",
       "      <td>16.0</td>\n",
       "      <td>16.0</td>\n",
       "    </tr>\n",
       "    <tr>\n",
       "      <th>American Amber / Red Lager</th>\n",
       "      <td>29.0</td>\n",
       "      <td>305.965517</td>\n",
       "      <td>169.837208</td>\n",
       "      <td>35.0</td>\n",
       "      <td>129.0</td>\n",
       "      <td>390.0</td>\n",
       "      <td>439.00</td>\n",
       "      <td>533.0</td>\n",
       "      <td>29.0</td>\n",
       "      <td>1324.620690</td>\n",
       "      <td>...</td>\n",
       "      <td>1598.00</td>\n",
       "      <td>2588.0</td>\n",
       "      <td>29.0</td>\n",
       "      <td>13.241379</td>\n",
       "      <td>2.641092</td>\n",
       "      <td>12.0</td>\n",
       "      <td>12.0</td>\n",
       "      <td>12.0</td>\n",
       "      <td>12.0</td>\n",
       "      <td>24.0</td>\n",
       "    </tr>\n",
       "    <tr>\n",
       "      <th>...</th>\n",
       "      <td>...</td>\n",
       "      <td>...</td>\n",
       "      <td>...</td>\n",
       "      <td>...</td>\n",
       "      <td>...</td>\n",
       "      <td>...</td>\n",
       "      <td>...</td>\n",
       "      <td>...</td>\n",
       "      <td>...</td>\n",
       "      <td>...</td>\n",
       "      <td>...</td>\n",
       "      <td>...</td>\n",
       "      <td>...</td>\n",
       "      <td>...</td>\n",
       "      <td>...</td>\n",
       "      <td>...</td>\n",
       "      <td>...</td>\n",
       "      <td>...</td>\n",
       "      <td>...</td>\n",
       "      <td>...</td>\n",
       "      <td>...</td>\n",
       "    </tr>\n",
       "    <tr>\n",
       "      <th>Tripel</th>\n",
       "      <td>11.0</td>\n",
       "      <td>155.454545</td>\n",
       "      <td>159.177488</td>\n",
       "      <td>6.0</td>\n",
       "      <td>27.5</td>\n",
       "      <td>64.0</td>\n",
       "      <td>339.00</td>\n",
       "      <td>368.0</td>\n",
       "      <td>11.0</td>\n",
       "      <td>1155.454545</td>\n",
       "      <td>...</td>\n",
       "      <td>2153.00</td>\n",
       "      <td>2646.0</td>\n",
       "      <td>11.0</td>\n",
       "      <td>14.990909</td>\n",
       "      <td>3.655258</td>\n",
       "      <td>12.0</td>\n",
       "      <td>12.0</td>\n",
       "      <td>16.0</td>\n",
       "      <td>16.0</td>\n",
       "      <td>24.0</td>\n",
       "    </tr>\n",
       "    <tr>\n",
       "      <th>Vienna Lager</th>\n",
       "      <td>20.0</td>\n",
       "      <td>296.250000</td>\n",
       "      <td>134.294991</td>\n",
       "      <td>51.0</td>\n",
       "      <td>192.0</td>\n",
       "      <td>300.0</td>\n",
       "      <td>370.25</td>\n",
       "      <td>498.0</td>\n",
       "      <td>20.0</td>\n",
       "      <td>1111.300000</td>\n",
       "      <td>...</td>\n",
       "      <td>1223.75</td>\n",
       "      <td>2226.0</td>\n",
       "      <td>20.0</td>\n",
       "      <td>13.000000</td>\n",
       "      <td>1.777047</td>\n",
       "      <td>12.0</td>\n",
       "      <td>12.0</td>\n",
       "      <td>12.0</td>\n",
       "      <td>13.0</td>\n",
       "      <td>16.0</td>\n",
       "    </tr>\n",
       "    <tr>\n",
       "      <th>Wheat Ale</th>\n",
       "      <td>1.0</td>\n",
       "      <td>3.000000</td>\n",
       "      <td>NaN</td>\n",
       "      <td>3.0</td>\n",
       "      <td>3.0</td>\n",
       "      <td>3.0</td>\n",
       "      <td>3.00</td>\n",
       "      <td>3.0</td>\n",
       "      <td>1.0</td>\n",
       "      <td>1337.000000</td>\n",
       "      <td>...</td>\n",
       "      <td>2666.00</td>\n",
       "      <td>2666.0</td>\n",
       "      <td>1.0</td>\n",
       "      <td>16.000000</td>\n",
       "      <td>NaN</td>\n",
       "      <td>16.0</td>\n",
       "      <td>16.0</td>\n",
       "      <td>16.0</td>\n",
       "      <td>16.0</td>\n",
       "      <td>16.0</td>\n",
       "    </tr>\n",
       "    <tr>\n",
       "      <th>Winter Warmer</th>\n",
       "      <td>15.0</td>\n",
       "      <td>221.733333</td>\n",
       "      <td>130.581374</td>\n",
       "      <td>30.0</td>\n",
       "      <td>115.5</td>\n",
       "      <td>179.0</td>\n",
       "      <td>362.00</td>\n",
       "      <td>371.0</td>\n",
       "      <td>15.0</td>\n",
       "      <td>1073.066667</td>\n",
       "      <td>...</td>\n",
       "      <td>1896.00</td>\n",
       "      <td>2255.0</td>\n",
       "      <td>15.0</td>\n",
       "      <td>13.066667</td>\n",
       "      <td>1.830951</td>\n",
       "      <td>12.0</td>\n",
       "      <td>12.0</td>\n",
       "      <td>12.0</td>\n",
       "      <td>14.0</td>\n",
       "      <td>16.0</td>\n",
       "    </tr>\n",
       "    <tr>\n",
       "      <th>Witbier</th>\n",
       "      <td>51.0</td>\n",
       "      <td>257.490196</td>\n",
       "      <td>164.659330</td>\n",
       "      <td>7.0</td>\n",
       "      <td>122.0</td>\n",
       "      <td>284.0</td>\n",
       "      <td>377.00</td>\n",
       "      <td>535.0</td>\n",
       "      <td>51.0</td>\n",
       "      <td>1175.352941</td>\n",
       "      <td>...</td>\n",
       "      <td>1990.00</td>\n",
       "      <td>2525.0</td>\n",
       "      <td>51.0</td>\n",
       "      <td>13.333333</td>\n",
       "      <td>1.904381</td>\n",
       "      <td>12.0</td>\n",
       "      <td>12.0</td>\n",
       "      <td>12.0</td>\n",
       "      <td>16.0</td>\n",
       "      <td>16.0</td>\n",
       "    </tr>\n",
       "  </tbody>\n",
       "</table>\n",
       "<p>99 rows × 48 columns</p>\n",
       "</div>"
      ],
      "text/plain": [
       "                           brewery_id                                       \\\n",
       "                                count        mean         std   min    25%   \n",
       "style                                                                        \n",
       "Abbey Single Ale                  2.0   57.000000    0.000000  57.0   57.0   \n",
       "Altbier                          13.0  220.000000  137.471209  25.0  122.0   \n",
       "American Adjunct Lager           18.0  163.000000   89.903216  38.0  131.0   \n",
       "American Amber / Red Ale        133.0  248.045113  158.265641   4.0  101.0   \n",
       "American Amber / Red Lager       29.0  305.965517  169.837208  35.0  129.0   \n",
       "...                               ...         ...         ...   ...    ...   \n",
       "Tripel                           11.0  155.454545  159.177488   6.0   27.5   \n",
       "Vienna Lager                     20.0  296.250000  134.294991  51.0  192.0   \n",
       "Wheat Ale                         1.0    3.000000         NaN   3.0    3.0   \n",
       "Winter Warmer                    15.0  221.733333  130.581374  30.0  115.5   \n",
       "Witbier                          51.0  257.490196  164.659330   7.0  122.0   \n",
       "\n",
       "                                                 Unnamed: 0               ...  \\\n",
       "                              50%     75%    max      count         mean  ...   \n",
       "style                                                                     ...   \n",
       "Abbey Single Ale             57.0   57.00   57.0        2.0   716.500000  ...   \n",
       "Altbier                     200.0  270.00  490.0       13.0  1124.153846  ...   \n",
       "American Adjunct Lager      131.0  149.75  473.0       18.0  1684.277778  ...   \n",
       "American Amber / Red Ale    219.0  375.00  552.0      133.0  1146.699248  ...   \n",
       "American Amber / Red Lager  390.0  439.00  533.0       29.0  1324.620690  ...   \n",
       "...                           ...     ...    ...        ...          ...  ...   \n",
       "Tripel                       64.0  339.00  368.0       11.0  1155.454545  ...   \n",
       "Vienna Lager                300.0  370.25  498.0       20.0  1111.300000  ...   \n",
       "Wheat Ale                     3.0    3.00    3.0        1.0  1337.000000  ...   \n",
       "Winter Warmer               179.0  362.00  371.0       15.0  1073.066667  ...   \n",
       "Witbier                     284.0  377.00  535.0       51.0  1175.352941  ...   \n",
       "\n",
       "                                 id         ounces                             \\\n",
       "                                75%     max  count       mean       std   min   \n",
       "style                                                                           \n",
       "Abbey Single Ale            2350.50  2505.0    2.0  12.000000  0.000000  12.0   \n",
       "Altbier                     2339.00  2605.0   13.0  13.538462  2.025479  12.0   \n",
       "American Adjunct Lager      2273.75  2369.0   18.0  13.333333  3.067860  12.0   \n",
       "American Amber / Red Ale    1952.00  2660.0  133.0  13.293233  1.878031  12.0   \n",
       "American Amber / Red Lager  1598.00  2588.0   29.0  13.241379  2.641092  12.0   \n",
       "...                             ...     ...    ...        ...       ...   ...   \n",
       "Tripel                      2153.00  2646.0   11.0  14.990909  3.655258  12.0   \n",
       "Vienna Lager                1223.75  2226.0   20.0  13.000000  1.777047  12.0   \n",
       "Wheat Ale                   2666.00  2666.0    1.0  16.000000       NaN  16.0   \n",
       "Winter Warmer               1896.00  2255.0   15.0  13.066667  1.830951  12.0   \n",
       "Witbier                     1990.00  2525.0   51.0  13.333333  1.904381  12.0   \n",
       "\n",
       "                                                    \n",
       "                             25%   50%   75%   max  \n",
       "style                                               \n",
       "Abbey Single Ale            12.0  12.0  12.0  12.0  \n",
       "Altbier                     12.0  12.0  16.0  16.0  \n",
       "American Adjunct Lager      12.0  12.0  12.0  24.0  \n",
       "American Amber / Red Ale    12.0  12.0  16.0  16.0  \n",
       "American Amber / Red Lager  12.0  12.0  12.0  24.0  \n",
       "...                          ...   ...   ...   ...  \n",
       "Tripel                      12.0  16.0  16.0  24.0  \n",
       "Vienna Lager                12.0  12.0  13.0  16.0  \n",
       "Wheat Ale                   16.0  16.0  16.0  16.0  \n",
       "Winter Warmer               12.0  12.0  14.0  16.0  \n",
       "Witbier                     12.0  12.0  16.0  16.0  \n",
       "\n",
       "[99 rows x 48 columns]"
      ]
     },
     "execution_count": 9,
     "metadata": {},
     "output_type": "execute_result"
    }
   ],
   "source": [
    "total_df = poop_df.groupby(by = \"style\").describe()\n",
    "total_df"
   ]
  },
  {
   "cell_type": "code",
   "execution_count": 10,
   "metadata": {},
   "outputs": [],
   "source": [
    "total_df.to_csv(\"ABV by descrb.csv\")"
   ]
  },
  {
   "cell_type": "code",
   "execution_count": 11,
   "metadata": {},
   "outputs": [
    {
     "data": {
      "text/plain": [
       "Text(0, 0.5, 'Count of Beer')"
      ]
     },
     "execution_count": 11,
     "metadata": {},
     "output_type": "execute_result"
    },
    {
     "data": {
      "image/png": "[encoded data removed]",
      "text/plain": [
       "<Figure size 432x288 with 1 Axes>"
      ]
     },
     "metadata": {
      "needs_background": "light"
     },
     "output_type": "display_data"
    }
   ],
   "source": [
    "beers_df['style'].value_counts()[:15].plot(kind = \"bar\", color = \"blue\")\n",
    "plt.title(\"Most Popular Styles of Beer\")\n",
    "plt.xlabel(\"Styles of Beer\")\n",
    "plt.ylabel(\"Count of Beer\")"
   ]
  },
  {
   "cell_type": "code",
   "execution_count": 12,
   "metadata": {
    "tags": []
   },
   "outputs": [
    {
     "data": {
      "text/plain": [
       "Text(0.5, 1.0, 'Distribution of ABV')"
      ]
     },
     "execution_count": 12,
     "metadata": {},
     "output_type": "execute_result"
    },
    {
     "data": {
      "image/png": "[encoded data removed]",
      "text/plain": [
       "<Figure size 432x288 with 1 Axes>"
      ]
     },
     "metadata": {
      "needs_background": "light"
     },
     "output_type": "display_data"
    }
   ],
   "source": [
    "plt.hist(\"abv\", 8, data = beers_df, alpha = 0.8, color = \"blue\")\n",
    "plt.title(\"Distribution of ABV\")"
   ]
  },
  {
   "cell_type": "code",
   "execution_count": 13,
   "metadata": {
    "tags": []
   },
   "outputs": [
    {
     "data": {
      "text/plain": [
       "Text(0.5, 1.0, 'Distribution of IBU')"
      ]
     },
     "execution_count": 13,
     "metadata": {},
     "output_type": "execute_result"
    },
    {
     "data": {
      "image/png": "[encoded data removed]",
      "text/plain": [
       "<Figure size 432x288 with 1 Axes>"
      ]
     },
     "metadata": {
      "needs_background": "light"
     },
     "output_type": "display_data"
    }
   ],
   "source": [
    "plt.hist(\"ibu\", 8, data = beers_df, alpha = 0.8, color = \"blue\")\n",
    "plt.title(\"Distribution of IBU\")"
   ]
  },
  {
   "cell_type": "code",
   "execution_count": 14,
   "metadata": {},
   "outputs": [
    {
     "data": {
      "text/plain": [
       "Text(0.5, 1.0, 'IBU vs. ABV')"
      ]
     },
     "execution_count": 14,
     "metadata": {},
     "output_type": "execute_result"
    },
    {
     "data": {
      "image/png": "[encoded data removed]",
      "text/plain": [
       "<Figure size 432x288 with 1 Axes>"
      ]
     },
     "metadata": {
      "needs_background": "light"
     },
     "output_type": "display_data"
    }
   ],
   "source": [
    "plt.scatter(\"ibu\", \"abv\", data = beers_df, color = \"blue\")\n",
    "plt.title(\"IBU vs. ABV\")"
   ]
  },
  {
   "cell_type": "code",
   "execution_count": null,
   "metadata": {},
   "outputs": [],
   "source": []
  },
  {
   "cell_type": "code",
   "execution_count": null,
   "metadata": {},
   "outputs": [],
   "source": []
  },
  {
   "cell_type": "code",
   "execution_count": null,
   "metadata": {},
   "outputs": [],
   "source": []
  },
  {
   "cell_type": "code",
   "execution_count": null,
   "metadata": {},
   "outputs": [],
   "source": []
  }
 ],
 "metadata": {
  "kernelspec": {
   "display_name": "Python 3",
   "language": "python",
   "name": "python3"
  },
  "language_info": {
   "codemirror_mode": {
    "name": "ipython",
    "version": 3
   },
   "file_extension": ".py",
   "mimetype": "text/x-python",
   "name": "python",
   "nbconvert_exporter": "python",
   "pygments_lexer": "ipython3",
   "version": "3.8.8"
  }
 },
 "nbformat": 4,
 "nbformat_minor": 4
}
