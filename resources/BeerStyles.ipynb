{
 "cells": [
  {
   "cell_type": "code",
   "execution_count": 2,
   "metadata": {},
   "outputs": [],
   "source": [
    "import re\n",
    "import pandas as pd\n",
    "import os\n",
    "import csv\n",
    "import numpy as np\n",
    "import matplotlib.pyplot as plt\n",
    "import scipy.stats as st"
   ]
  },
  {
   "cell_type": "code",
   "execution_count": 3,
   "metadata": {},
   "outputs": [
    {
     "data": {
      "text/html": [
       "<div>\n",
       "<style scoped>\n",
       "    .dataframe tbody tr th:only-of-type {\n",
       "        vertical-align: middle;\n",
       "    }\n",
       "\n",
       "    .dataframe tbody tr th {\n",
       "        vertical-align: top;\n",
       "    }\n",
       "\n",
       "    .dataframe thead th {\n",
       "        text-align: right;\n",
       "    }\n",
       "</style>\n",
       "<table border=\"1\" class=\"dataframe\">\n",
       "  <thead>\n",
       "    <tr style=\"text-align: right;\">\n",
       "      <th></th>\n",
       "      <th>Unnamed: 0</th>\n",
       "      <th>abv</th>\n",
       "      <th>ibu</th>\n",
       "      <th>id</th>\n",
       "      <th>name</th>\n",
       "      <th>style</th>\n",
       "      <th>brewery_id</th>\n",
       "      <th>ounces</th>\n",
       "    </tr>\n",
       "  </thead>\n",
       "  <tbody>\n",
       "    <tr>\n",
       "      <th>0</th>\n",
       "      <td>0</td>\n",
       "      <td>0.050</td>\n",
       "      <td>NaN</td>\n",
       "      <td>1436</td>\n",
       "      <td>Pub Beer</td>\n",
       "      <td>American Pale Lager</td>\n",
       "      <td>408</td>\n",
       "      <td>12.0</td>\n",
       "    </tr>\n",
       "    <tr>\n",
       "      <th>1</th>\n",
       "      <td>1</td>\n",
       "      <td>0.066</td>\n",
       "      <td>NaN</td>\n",
       "      <td>2265</td>\n",
       "      <td>Devil's Cup</td>\n",
       "      <td>American Pale Ale (APA)</td>\n",
       "      <td>177</td>\n",
       "      <td>12.0</td>\n",
       "    </tr>\n",
       "    <tr>\n",
       "      <th>2</th>\n",
       "      <td>2</td>\n",
       "      <td>0.071</td>\n",
       "      <td>NaN</td>\n",
       "      <td>2264</td>\n",
       "      <td>Rise of the Phoenix</td>\n",
       "      <td>American IPA</td>\n",
       "      <td>177</td>\n",
       "      <td>12.0</td>\n",
       "    </tr>\n",
       "    <tr>\n",
       "      <th>3</th>\n",
       "      <td>3</td>\n",
       "      <td>0.090</td>\n",
       "      <td>NaN</td>\n",
       "      <td>2263</td>\n",
       "      <td>Sinister</td>\n",
       "      <td>American Double / Imperial IPA</td>\n",
       "      <td>177</td>\n",
       "      <td>12.0</td>\n",
       "    </tr>\n",
       "    <tr>\n",
       "      <th>4</th>\n",
       "      <td>4</td>\n",
       "      <td>0.075</td>\n",
       "      <td>NaN</td>\n",
       "      <td>2262</td>\n",
       "      <td>Sex and Candy</td>\n",
       "      <td>American IPA</td>\n",
       "      <td>177</td>\n",
       "      <td>12.0</td>\n",
       "    </tr>\n",
       "  </tbody>\n",
       "</table>\n",
       "</div>"
      ],
      "text/plain": [
       "   Unnamed: 0    abv  ibu    id                 name  \\\n",
       "0           0  0.050  NaN  1436             Pub Beer   \n",
       "1           1  0.066  NaN  2265          Devil's Cup   \n",
       "2           2  0.071  NaN  2264  Rise of the Phoenix   \n",
       "3           3  0.090  NaN  2263             Sinister   \n",
       "4           4  0.075  NaN  2262        Sex and Candy   \n",
       "\n",
       "                            style  brewery_id  ounces  \n",
       "0             American Pale Lager         408    12.0  \n",
       "1         American Pale Ale (APA)         177    12.0  \n",
       "2                    American IPA         177    12.0  \n",
       "3  American Double / Imperial IPA         177    12.0  \n",
       "4                    American IPA         177    12.0  "
      ]
     },
     "execution_count": 3,
     "metadata": {},
     "output_type": "execute_result"
    }
   ],
   "source": [
    "beers_csv = \"beers.csv\"\n",
    "breweries_csv = \"breweries.csv\"\n",
    "\n",
    "beers_df = pd.read_csv(beers_csv)\n",
    "breweries_df = pd.read_csv(breweries_csv)\n",
    "beers_df.head()"
   ]
  },
  {
   "cell_type": "code",
   "execution_count": 4,
   "metadata": {},
   "outputs": [
    {
     "data": {
      "text/html": [
       "<div>\n",
       "<style scoped>\n",
       "    .dataframe tbody tr th:only-of-type {\n",
       "        vertical-align: middle;\n",
       "    }\n",
       "\n",
       "    .dataframe tbody tr th {\n",
       "        vertical-align: top;\n",
       "    }\n",
       "\n",
       "    .dataframe thead th {\n",
       "        text-align: right;\n",
       "    }\n",
       "</style>\n",
       "<table border=\"1\" class=\"dataframe\">\n",
       "  <thead>\n",
       "    <tr style=\"text-align: right;\">\n",
       "      <th></th>\n",
       "      <th>brewery_id</th>\n",
       "      <th>name</th>\n",
       "      <th>city</th>\n",
       "      <th>state</th>\n",
       "    </tr>\n",
       "  </thead>\n",
       "  <tbody>\n",
       "    <tr>\n",
       "      <th>0</th>\n",
       "      <td>0</td>\n",
       "      <td>NorthGate Brewing</td>\n",
       "      <td>Minneapolis</td>\n",
       "      <td>MN</td>\n",
       "    </tr>\n",
       "    <tr>\n",
       "      <th>1</th>\n",
       "      <td>1</td>\n",
       "      <td>Against the Grain Brewery</td>\n",
       "      <td>Louisville</td>\n",
       "      <td>KY</td>\n",
       "    </tr>\n",
       "    <tr>\n",
       "      <th>2</th>\n",
       "      <td>2</td>\n",
       "      <td>Jack's Abby Craft Lagers</td>\n",
       "      <td>Framingham</td>\n",
       "      <td>MA</td>\n",
       "    </tr>\n",
       "    <tr>\n",
       "      <th>3</th>\n",
       "      <td>3</td>\n",
       "      <td>Mike Hess Brewing Company</td>\n",
       "      <td>San Diego</td>\n",
       "      <td>CA</td>\n",
       "    </tr>\n",
       "    <tr>\n",
       "      <th>4</th>\n",
       "      <td>4</td>\n",
       "      <td>Fort Point Beer Company</td>\n",
       "      <td>San Francisco</td>\n",
       "      <td>CA</td>\n",
       "    </tr>\n",
       "    <tr>\n",
       "      <th>...</th>\n",
       "      <td>...</td>\n",
       "      <td>...</td>\n",
       "      <td>...</td>\n",
       "      <td>...</td>\n",
       "    </tr>\n",
       "    <tr>\n",
       "      <th>553</th>\n",
       "      <td>553</td>\n",
       "      <td>Covington Brewhouse</td>\n",
       "      <td>Covington</td>\n",
       "      <td>LA</td>\n",
       "    </tr>\n",
       "    <tr>\n",
       "      <th>554</th>\n",
       "      <td>554</td>\n",
       "      <td>Dave's Brewfarm</td>\n",
       "      <td>Wilson</td>\n",
       "      <td>WI</td>\n",
       "    </tr>\n",
       "    <tr>\n",
       "      <th>555</th>\n",
       "      <td>555</td>\n",
       "      <td>Ukiah Brewing Company</td>\n",
       "      <td>Ukiah</td>\n",
       "      <td>CA</td>\n",
       "    </tr>\n",
       "    <tr>\n",
       "      <th>556</th>\n",
       "      <td>556</td>\n",
       "      <td>Butternuts Beer and Ale</td>\n",
       "      <td>Garrattsville</td>\n",
       "      <td>NY</td>\n",
       "    </tr>\n",
       "    <tr>\n",
       "      <th>557</th>\n",
       "      <td>557</td>\n",
       "      <td>Sleeping Lady Brewing Company</td>\n",
       "      <td>Anchorage</td>\n",
       "      <td>AK</td>\n",
       "    </tr>\n",
       "  </tbody>\n",
       "</table>\n",
       "<p>558 rows × 4 columns</p>\n",
       "</div>"
      ],
      "text/plain": [
       "     brewery_id                           name           city state\n",
       "0             0             NorthGate Brewing     Minneapolis    MN\n",
       "1             1      Against the Grain Brewery     Louisville    KY\n",
       "2             2       Jack's Abby Craft Lagers     Framingham    MA\n",
       "3             3      Mike Hess Brewing Company      San Diego    CA\n",
       "4             4        Fort Point Beer Company  San Francisco    CA\n",
       "..          ...                            ...            ...   ...\n",
       "553         553            Covington Brewhouse      Covington    LA\n",
       "554         554                Dave's Brewfarm         Wilson    WI\n",
       "555         555          Ukiah Brewing Company          Ukiah    CA\n",
       "556         556        Butternuts Beer and Ale  Garrattsville    NY\n",
       "557         557  Sleeping Lady Brewing Company      Anchorage    AK\n",
       "\n",
       "[558 rows x 4 columns]"
      ]
     },
     "execution_count": 4,
     "metadata": {},
     "output_type": "execute_result"
    }
   ],
   "source": [
    "breweries_df = breweries_df.rename(columns={\"Unnamed: 0\":\"brewery_id\"})\n",
    "breweries_df"
   ]
  },
  {
   "cell_type": "code",
   "execution_count": 5,
   "metadata": {},
   "outputs": [
    {
     "data": {
      "text/html": [
       "<div>\n",
       "<style scoped>\n",
       "    .dataframe tbody tr th:only-of-type {\n",
       "        vertical-align: middle;\n",
       "    }\n",
       "\n",
       "    .dataframe tbody tr th {\n",
       "        vertical-align: top;\n",
       "    }\n",
       "\n",
       "    .dataframe thead th {\n",
       "        text-align: right;\n",
       "    }\n",
       "</style>\n",
       "<table border=\"1\" class=\"dataframe\">\n",
       "  <thead>\n",
       "    <tr style=\"text-align: right;\">\n",
       "      <th></th>\n",
       "      <th>brewery_id</th>\n",
       "      <th>name_x</th>\n",
       "      <th>city</th>\n",
       "      <th>state</th>\n",
       "      <th>Unnamed: 0</th>\n",
       "      <th>abv</th>\n",
       "      <th>ibu</th>\n",
       "      <th>id</th>\n",
       "      <th>name_y</th>\n",
       "      <th>style</th>\n",
       "      <th>ounces</th>\n",
       "    </tr>\n",
       "  </thead>\n",
       "  <tbody>\n",
       "    <tr>\n",
       "      <th>0</th>\n",
       "      <td>0</td>\n",
       "      <td>NorthGate Brewing</td>\n",
       "      <td>Minneapolis</td>\n",
       "      <td>MN</td>\n",
       "      <td>1493</td>\n",
       "      <td>0.045</td>\n",
       "      <td>50.0</td>\n",
       "      <td>2692</td>\n",
       "      <td>Get Together</td>\n",
       "      <td>American IPA</td>\n",
       "      <td>16.0</td>\n",
       "    </tr>\n",
       "    <tr>\n",
       "      <th>1</th>\n",
       "      <td>0</td>\n",
       "      <td>NorthGate Brewing</td>\n",
       "      <td>Minneapolis</td>\n",
       "      <td>MN</td>\n",
       "      <td>1494</td>\n",
       "      <td>0.049</td>\n",
       "      <td>26.0</td>\n",
       "      <td>2691</td>\n",
       "      <td>Maggie's Leap</td>\n",
       "      <td>Milk / Sweet Stout</td>\n",
       "      <td>16.0</td>\n",
       "    </tr>\n",
       "    <tr>\n",
       "      <th>2</th>\n",
       "      <td>0</td>\n",
       "      <td>NorthGate Brewing</td>\n",
       "      <td>Minneapolis</td>\n",
       "      <td>MN</td>\n",
       "      <td>1495</td>\n",
       "      <td>0.048</td>\n",
       "      <td>19.0</td>\n",
       "      <td>2690</td>\n",
       "      <td>Wall's End</td>\n",
       "      <td>English Brown Ale</td>\n",
       "      <td>16.0</td>\n",
       "    </tr>\n",
       "    <tr>\n",
       "      <th>3</th>\n",
       "      <td>0</td>\n",
       "      <td>NorthGate Brewing</td>\n",
       "      <td>Minneapolis</td>\n",
       "      <td>MN</td>\n",
       "      <td>1496</td>\n",
       "      <td>0.060</td>\n",
       "      <td>38.0</td>\n",
       "      <td>2689</td>\n",
       "      <td>Pumpion</td>\n",
       "      <td>Pumpkin Ale</td>\n",
       "      <td>16.0</td>\n",
       "    </tr>\n",
       "    <tr>\n",
       "      <th>4</th>\n",
       "      <td>0</td>\n",
       "      <td>NorthGate Brewing</td>\n",
       "      <td>Minneapolis</td>\n",
       "      <td>MN</td>\n",
       "      <td>1497</td>\n",
       "      <td>0.060</td>\n",
       "      <td>25.0</td>\n",
       "      <td>2688</td>\n",
       "      <td>Stronghold</td>\n",
       "      <td>American Porter</td>\n",
       "      <td>16.0</td>\n",
       "    </tr>\n",
       "    <tr>\n",
       "      <th>...</th>\n",
       "      <td>...</td>\n",
       "      <td>...</td>\n",
       "      <td>...</td>\n",
       "      <td>...</td>\n",
       "      <td>...</td>\n",
       "      <td>...</td>\n",
       "      <td>...</td>\n",
       "      <td>...</td>\n",
       "      <td>...</td>\n",
       "      <td>...</td>\n",
       "      <td>...</td>\n",
       "    </tr>\n",
       "    <tr>\n",
       "      <th>2405</th>\n",
       "      <td>556</td>\n",
       "      <td>Butternuts Beer and Ale</td>\n",
       "      <td>Garrattsville</td>\n",
       "      <td>NY</td>\n",
       "      <td>488</td>\n",
       "      <td>0.049</td>\n",
       "      <td>NaN</td>\n",
       "      <td>52</td>\n",
       "      <td>Heinnieweisse Weissebier</td>\n",
       "      <td>Hefeweizen</td>\n",
       "      <td>12.0</td>\n",
       "    </tr>\n",
       "    <tr>\n",
       "      <th>2406</th>\n",
       "      <td>556</td>\n",
       "      <td>Butternuts Beer and Ale</td>\n",
       "      <td>Garrattsville</td>\n",
       "      <td>NY</td>\n",
       "      <td>489</td>\n",
       "      <td>0.068</td>\n",
       "      <td>NaN</td>\n",
       "      <td>51</td>\n",
       "      <td>Snapperhead IPA</td>\n",
       "      <td>American IPA</td>\n",
       "      <td>12.0</td>\n",
       "    </tr>\n",
       "    <tr>\n",
       "      <th>2407</th>\n",
       "      <td>556</td>\n",
       "      <td>Butternuts Beer and Ale</td>\n",
       "      <td>Garrattsville</td>\n",
       "      <td>NY</td>\n",
       "      <td>490</td>\n",
       "      <td>0.049</td>\n",
       "      <td>NaN</td>\n",
       "      <td>50</td>\n",
       "      <td>Moo Thunder Stout</td>\n",
       "      <td>Milk / Sweet Stout</td>\n",
       "      <td>12.0</td>\n",
       "    </tr>\n",
       "    <tr>\n",
       "      <th>2408</th>\n",
       "      <td>556</td>\n",
       "      <td>Butternuts Beer and Ale</td>\n",
       "      <td>Garrattsville</td>\n",
       "      <td>NY</td>\n",
       "      <td>491</td>\n",
       "      <td>0.043</td>\n",
       "      <td>NaN</td>\n",
       "      <td>49</td>\n",
       "      <td>Porkslap Pale Ale</td>\n",
       "      <td>American Pale Ale (APA)</td>\n",
       "      <td>12.0</td>\n",
       "    </tr>\n",
       "    <tr>\n",
       "      <th>2409</th>\n",
       "      <td>557</td>\n",
       "      <td>Sleeping Lady Brewing Company</td>\n",
       "      <td>Anchorage</td>\n",
       "      <td>AK</td>\n",
       "      <td>1897</td>\n",
       "      <td>0.049</td>\n",
       "      <td>NaN</td>\n",
       "      <td>30</td>\n",
       "      <td>Urban Wilderness Pale Ale</td>\n",
       "      <td>English Pale Ale</td>\n",
       "      <td>12.0</td>\n",
       "    </tr>\n",
       "  </tbody>\n",
       "</table>\n",
       "<p>2410 rows × 11 columns</p>\n",
       "</div>"
      ],
      "text/plain": [
       "      brewery_id                         name_x           city state  \\\n",
       "0              0             NorthGate Brewing     Minneapolis    MN   \n",
       "1              0             NorthGate Brewing     Minneapolis    MN   \n",
       "2              0             NorthGate Brewing     Minneapolis    MN   \n",
       "3              0             NorthGate Brewing     Minneapolis    MN   \n",
       "4              0             NorthGate Brewing     Minneapolis    MN   \n",
       "...          ...                            ...            ...   ...   \n",
       "2405         556        Butternuts Beer and Ale  Garrattsville    NY   \n",
       "2406         556        Butternuts Beer and Ale  Garrattsville    NY   \n",
       "2407         556        Butternuts Beer and Ale  Garrattsville    NY   \n",
       "2408         556        Butternuts Beer and Ale  Garrattsville    NY   \n",
       "2409         557  Sleeping Lady Brewing Company      Anchorage    AK   \n",
       "\n",
       "      Unnamed: 0    abv   ibu    id                     name_y  \\\n",
       "0           1493  0.045  50.0  2692               Get Together   \n",
       "1           1494  0.049  26.0  2691              Maggie's Leap   \n",
       "2           1495  0.048  19.0  2690                 Wall's End   \n",
       "3           1496  0.060  38.0  2689                    Pumpion   \n",
       "4           1497  0.060  25.0  2688                 Stronghold   \n",
       "...          ...    ...   ...   ...                        ...   \n",
       "2405         488  0.049   NaN    52   Heinnieweisse Weissebier   \n",
       "2406         489  0.068   NaN    51            Snapperhead IPA   \n",
       "2407         490  0.049   NaN    50          Moo Thunder Stout   \n",
       "2408         491  0.043   NaN    49          Porkslap Pale Ale   \n",
       "2409        1897  0.049   NaN    30  Urban Wilderness Pale Ale   \n",
       "\n",
       "                        style  ounces  \n",
       "0                American IPA    16.0  \n",
       "1          Milk / Sweet Stout    16.0  \n",
       "2           English Brown Ale    16.0  \n",
       "3                 Pumpkin Ale    16.0  \n",
       "4             American Porter    16.0  \n",
       "...                       ...     ...  \n",
       "2405               Hefeweizen    12.0  \n",
       "2406             American IPA    12.0  \n",
       "2407       Milk / Sweet Stout    12.0  \n",
       "2408  American Pale Ale (APA)    12.0  \n",
       "2409         English Pale Ale    12.0  \n",
       "\n",
       "[2410 rows x 11 columns]"
      ]
     },
     "execution_count": 5,
     "metadata": {},
     "output_type": "execute_result"
    }
   ],
   "source": [
    "# pd.merge(beers_df, breweries_df, )\n",
    "poop_df = breweries_df.merge(beers_df, on=\"brewery_id\")\n",
    "poop_df"
   ]
  },
  {
   "cell_type": "code",
<<<<<<< HEAD
   "execution_count": 6,
   "metadata": {},
   "outputs": [],
   "source": [
    "def get_var_category(series):\n",
    "    unique_count = series.nunique(dropna=False)\n",
    "    total_count = len(series)\n",
    "    if pd.api.types.is_numeric_dtype(series):\n",
    "        return 'Numerical'\n",
    "    elif pd.api.types.is_datetime64_dtype(series):\n",
    "        return 'Date'\n",
    "    elif unique_count==total_count:\n",
    "        return 'Text (Unique)'\n",
    "    else:\n",
    "        return 'Categorical'\n",
    "\n",
    "def print_categories(df):\n",
    "    for column_name in df.columns:\n",
    "        print(column_name, \": \", get_var_category(df[column_name]))"
   ]
  },
  {
   "cell_type": "code",
   "execution_count": 7,
=======
   "execution_count": 5,
>>>>>>> 8457d42fc39d225daf96f9ce7fe033f29a6b50da
   "metadata": {},
   "outputs": [],
   "source": [
    "brew_group = poop_df.groupby('style')"
   ]
  },
  {
   "cell_type": "code",
<<<<<<< HEAD
   "execution_count": 8,
=======
   "execution_count": 6,
>>>>>>> 8457d42fc39d225daf96f9ce7fe033f29a6b50da
   "metadata": {},
   "outputs": [
    {
     "data": {
      "text/plain": [
       "style\n",
       "Abbey Single Ale                2\n",
       "Altbier                        13\n",
       "American Adjunct Lager         18\n",
       "American Amber / Red Ale      133\n",
       "American Amber / Red Lager     29\n",
       "                             ... \n",
       "Tripel                         11\n",
       "Vienna Lager                   20\n",
       "Wheat Ale                       1\n",
       "Winter Warmer                  15\n",
       "Witbier                        51\n",
       "Name: style, Length: 99, dtype: int64"
      ]
     },
<<<<<<< HEAD
     "execution_count": 8,
=======
     "execution_count": 6,
>>>>>>> 8457d42fc39d225daf96f9ce7fe033f29a6b50da
     "metadata": {},
     "output_type": "execute_result"
    }
   ],
   "source": [
    "count_brew = brew_group['style'].count()\n",
    "\n",
    "count_brew"
   ]
  },
  {
   "cell_type": "code",
<<<<<<< HEAD
   "execution_count": 9,
=======
   "execution_count": 7,
>>>>>>> 8457d42fc39d225daf96f9ce7fe033f29a6b50da
   "metadata": {},
   "outputs": [],
   "source": [
    "state_data = poop_df[\"state\"].value_counts()\n",
    "style_data = poop_df[\"style\"].value_counts()"
   ]
  },
  {
   "cell_type": "code",
<<<<<<< HEAD
   "execution_count": 10,
=======
   "execution_count": 8,
>>>>>>> 8457d42fc39d225daf96f9ce7fe033f29a6b50da
   "metadata": {},
   "outputs": [],
   "source": [
    "style_state_data= state_data.add(style_data, fill_value=0)"
   ]
  },
  {
   "cell_type": "code",
<<<<<<< HEAD
   "execution_count": 11,
   "metadata": {},
   "outputs": [
    {
     "ename": "NameError",
     "evalue": "name 'state_chart' is not defined",
     "output_type": "error",
     "traceback": [
      "\u001b[1;31m---------------------------------------------------------------------------\u001b[0m",
      "\u001b[1;31mNameError\u001b[0m                                 Traceback (most recent call last)",
      "\u001b[1;32m<ipython-input-11-72669195e3c6>\u001b[0m in \u001b[0;36m<module>\u001b[1;34m\u001b[0m\n\u001b[0;32m      1\u001b[0m \u001b[0mstyle_chart\u001b[0m \u001b[1;33m=\u001b[0m \u001b[0mstyle_data\u001b[0m\u001b[1;33m.\u001b[0m\u001b[0mplot\u001b[0m\u001b[1;33m(\u001b[0m\u001b[0mkind\u001b[0m\u001b[1;33m=\u001b[0m\u001b[1;34m'bar'\u001b[0m\u001b[1;33m,\u001b[0m \u001b[0mfacecolor\u001b[0m\u001b[1;33m=\u001b[0m\u001b[1;34m\"blue\"\u001b[0m\u001b[1;33m,\u001b[0m \u001b[0mfigsize\u001b[0m\u001b[1;33m=\u001b[0m\u001b[1;33m(\u001b[0m\u001b[1;36m30\u001b[0m\u001b[1;33m,\u001b[0m\u001b[1;36m5\u001b[0m\u001b[1;33m)\u001b[0m\u001b[1;33m)\u001b[0m\u001b[1;33m\u001b[0m\u001b[1;33m\u001b[0m\u001b[0m\n\u001b[0;32m      2\u001b[0m \u001b[0mplt\u001b[0m\u001b[1;33m.\u001b[0m\u001b[0mtitle\u001b[0m\u001b[1;33m(\u001b[0m\u001b[1;34m\"Style Brewed Popularity\"\u001b[0m\u001b[1;33m)\u001b[0m\u001b[1;33m\u001b[0m\u001b[1;33m\u001b[0m\u001b[0m\n\u001b[1;32m----> 3\u001b[1;33m \u001b[0mstate_chart\u001b[0m\u001b[1;33m.\u001b[0m\u001b[0mset_xlabel\u001b[0m\u001b[1;33m(\u001b[0m\u001b[1;34m\"Style\"\u001b[0m\u001b[1;33m)\u001b[0m\u001b[1;33m\u001b[0m\u001b[1;33m\u001b[0m\u001b[0m\n\u001b[0m\u001b[0;32m      4\u001b[0m \u001b[0mstate_chart\u001b[0m\u001b[1;33m.\u001b[0m\u001b[0mset_ylabel\u001b[0m\u001b[1;33m(\u001b[0m\u001b[1;34m\"Number of Times Brewed\"\u001b[0m\u001b[1;33m)\u001b[0m\u001b[1;33m\u001b[0m\u001b[1;33m\u001b[0m\u001b[0m\n\u001b[0;32m      5\u001b[0m \u001b[0mplt\u001b[0m\u001b[1;33m.\u001b[0m\u001b[0mshow\u001b[0m\u001b[1;33m(\u001b[0m\u001b[1;33m)\u001b[0m\u001b[1;33m\u001b[0m\u001b[1;33m\u001b[0m\u001b[0m\n",
      "\u001b[1;31mNameError\u001b[0m: name 'state_chart' is not defined"
     ]
    },
    {
     "data": {
      "image/png": "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\n",
=======
   "execution_count": 9,
   "metadata": {},
   "outputs": [],
   "source": [
    "state_data = poop_df[\"state\"].value_counts()"
   ]
  },
  {
   "cell_type": "code",
   "execution_count": 87,
   "metadata": {},
   "outputs": [
    {
     "data": {
      "image/png": "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\n",
>>>>>>> 8457d42fc39d225daf96f9ce7fe033f29a6b50da
      "text/plain": [
       "<Figure size 720x360 with 1 Axes>"
      ]
     },
     "metadata": {
      "needs_background": "light"
     },
     "output_type": "display_data"
    },
    {
     "data": {
      "text/plain": [
       "<function matplotlib.pyplot.tight_layout(pad=1.08, h_pad=None, w_pad=None, rect=None)>"
      ]
     },
     "execution_count": 87,
     "metadata": {},
     "output_type": "execute_result"
    }
   ],
   "source": [
    "state_chart = count_brew.plot(kind='bar', facecolor=\"blue\", figsize=(10,5))\n",
    "plt.title(\"State Brewery Popularity\")\n",
    "state_chart.set_xlabel(\"State\")\n",
    "state_chart.set_ylabel(\"Number of Breweries\")\n",
    "plt.show()\n",
    "plt.tight_layout"
   ]
  },
  {
   "cell_type": "code",
<<<<<<< HEAD
   "execution_count": null,
   "metadata": {},
   "outputs": [],
   "source": [
    "state_data = poop_df[\"state\"].value_counts()"
   ]
  },
  {
   "cell_type": "code",
   "execution_count": null,
   "metadata": {},
   "outputs": [],
=======
   "execution_count": 10,
   "metadata": {},
   "outputs": [
    {
     "data": {
      "image/png": "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\n",
      "text/plain": [
       "<Figure size 720x360 with 1 Axes>"
      ]
     },
     "metadata": {
      "needs_background": "light"
     },
     "output_type": "display_data"
    },
    {
     "data": {
      "text/plain": [
       "<function matplotlib.pyplot.tight_layout(pad=1.08, h_pad=None, w_pad=None, rect=None)>"
      ]
     },
     "execution_count": 10,
     "metadata": {},
     "output_type": "execute_result"
    }
   ],
>>>>>>> 8457d42fc39d225daf96f9ce7fe033f29a6b50da
   "source": [
    "state_chart = state_data.plot(kind='bar', facecolor=\"blue\", figsize=(10,5))\n",
    "plt.title(\"State Brewery Popularity\")\n",
    "state_chart.set_xlabel(\"State\")\n",
    "state_chart.set_ylabel(\"Number of Breweries\")\n",
    "plt.show()\n",
    "plt.tight_layout"
   ]
  },
  {
   "cell_type": "code",
<<<<<<< HEAD
   "execution_count": null,
   "metadata": {},
   "outputs": [],
=======
   "execution_count": 11,
   "metadata": {},
   "outputs": [
    {
     "data": {
      "text/html": [
       "<div>\n",
       "<style scoped>\n",
       "    .dataframe tbody tr th:only-of-type {\n",
       "        vertical-align: middle;\n",
       "    }\n",
       "\n",
       "    .dataframe tbody tr th {\n",
       "        vertical-align: top;\n",
       "    }\n",
       "\n",
       "    .dataframe thead th {\n",
       "        text-align: right;\n",
       "    }\n",
       "</style>\n",
       "<table border=\"1\" class=\"dataframe\">\n",
       "  <thead>\n",
       "    <tr style=\"text-align: right;\">\n",
       "      <th></th>\n",
       "      <th>style</th>\n",
       "    </tr>\n",
       "    <tr>\n",
       "      <th>state</th>\n",
       "      <th></th>\n",
       "    </tr>\n",
       "  </thead>\n",
       "  <tbody>\n",
       "    <tr>\n",
       "      <th>MN</th>\n",
       "      <td>American IPA</td>\n",
       "    </tr>\n",
       "    <tr>\n",
       "      <th>MN</th>\n",
       "      <td>Milk / Sweet Stout</td>\n",
       "    </tr>\n",
       "    <tr>\n",
       "      <th>MN</th>\n",
       "      <td>English Brown Ale</td>\n",
       "    </tr>\n",
       "    <tr>\n",
       "      <th>MN</th>\n",
       "      <td>Pumpkin Ale</td>\n",
       "    </tr>\n",
       "    <tr>\n",
       "      <th>MN</th>\n",
       "      <td>American Porter</td>\n",
       "    </tr>\n",
       "    <tr>\n",
       "      <th>...</th>\n",
       "      <td>...</td>\n",
       "    </tr>\n",
       "    <tr>\n",
       "      <th>NY</th>\n",
       "      <td>Hefeweizen</td>\n",
       "    </tr>\n",
       "    <tr>\n",
       "      <th>NY</th>\n",
       "      <td>American IPA</td>\n",
       "    </tr>\n",
       "    <tr>\n",
       "      <th>NY</th>\n",
       "      <td>Milk / Sweet Stout</td>\n",
       "    </tr>\n",
       "    <tr>\n",
       "      <th>NY</th>\n",
       "      <td>American Pale Ale (APA)</td>\n",
       "    </tr>\n",
       "    <tr>\n",
       "      <th>AK</th>\n",
       "      <td>English Pale Ale</td>\n",
       "    </tr>\n",
       "  </tbody>\n",
       "</table>\n",
       "<p>2410 rows × 1 columns</p>\n",
       "</div>"
      ],
      "text/plain": [
       "                         style\n",
       "state                         \n",
       " MN               American IPA\n",
       " MN         Milk / Sweet Stout\n",
       " MN          English Brown Ale\n",
       " MN                Pumpkin Ale\n",
       " MN            American Porter\n",
       "...                        ...\n",
       " NY                 Hefeweizen\n",
       " NY               American IPA\n",
       " NY         Milk / Sweet Stout\n",
       " NY    American Pale Ale (APA)\n",
       " AK           English Pale Ale\n",
       "\n",
       "[2410 rows x 1 columns]"
      ]
     },
     "execution_count": 11,
     "metadata": {},
     "output_type": "execute_result"
    }
   ],
>>>>>>> 8457d42fc39d225daf96f9ce7fe033f29a6b50da
   "source": [
    "state_and_style = poop_df[[\"state\",\"style\"]]\n",
    "state_and_style = state_and_style.set_index(\"state\")\n",
    "state_and_style"
   ]
  },
  {
   "cell_type": "code",
<<<<<<< HEAD
   "execution_count": null,
=======
   "execution_count": 12,
>>>>>>> 8457d42fc39d225daf96f9ce7fe033f29a6b50da
   "metadata": {},
   "outputs": [],
   "source": [
    "state_and_style_df = pd.DataFrame(state_and_style)"
   ]
  },
  {
   "cell_type": "code",
<<<<<<< HEAD
   "execution_count": null,
   "metadata": {},
   "outputs": [],
   "source": [
    "plt.style.use('ggplot')\n",
    "\n",
    "state_and_style_df.groupby(['state', 'style'])\\\n",
    "      .style.count().unstack().plot.bar(legend=True, figsize=(50,10))"
   ]
  },
  {
   "cell_type": "code",
   "execution_count": null,
   "metadata": {},
   "outputs": [],
=======
   "execution_count": 13,
   "metadata": {},
   "outputs": [
    {
     "data": {
      "text/html": [
       "<div>\n",
       "<style scoped>\n",
       "    .dataframe tbody tr th:only-of-type {\n",
       "        vertical-align: middle;\n",
       "    }\n",
       "\n",
       "    .dataframe tbody tr th {\n",
       "        vertical-align: top;\n",
       "    }\n",
       "\n",
       "    .dataframe thead th {\n",
       "        text-align: right;\n",
       "    }\n",
       "</style>\n",
       "<table border=\"1\" class=\"dataframe\">\n",
       "  <thead>\n",
       "    <tr style=\"text-align: right;\">\n",
       "      <th></th>\n",
       "    </tr>\n",
       "    <tr>\n",
       "      <th>style</th>\n",
       "    </tr>\n",
       "  </thead>\n",
       "  <tbody>\n",
       "    <tr>\n",
       "      <th>American IPA</th>\n",
       "    </tr>\n",
       "    <tr>\n",
       "      <th>Milk / Sweet Stout</th>\n",
       "    </tr>\n",
       "    <tr>\n",
       "      <th>English Brown Ale</th>\n",
       "    </tr>\n",
       "    <tr>\n",
       "      <th>Pumpkin Ale</th>\n",
       "    </tr>\n",
       "    <tr>\n",
       "      <th>American Porter</th>\n",
       "    </tr>\n",
       "    <tr>\n",
       "      <th>...</th>\n",
       "    </tr>\n",
       "    <tr>\n",
       "      <th>Hefeweizen</th>\n",
       "    </tr>\n",
       "    <tr>\n",
       "      <th>American IPA</th>\n",
       "    </tr>\n",
       "    <tr>\n",
       "      <th>Milk / Sweet Stout</th>\n",
       "    </tr>\n",
       "    <tr>\n",
       "      <th>American Pale Ale (APA)</th>\n",
       "    </tr>\n",
       "    <tr>\n",
       "      <th>English Pale Ale</th>\n",
       "    </tr>\n",
       "  </tbody>\n",
       "</table>\n",
       "<p>2410 rows × 0 columns</p>\n",
       "</div>"
      ],
      "text/plain": [
       "Empty DataFrame\n",
       "Columns: []\n",
       "Index: [American IPA, Milk / Sweet Stout, English Brown Ale, Pumpkin Ale, American Porter, Extra Special / Strong Bitter (ESB), American Double / Imperial IPA, English Barleywine, Milk / Sweet Stout, American Pale Ale (APA), German Pilsener, Pumpkin Ale, Belgian Pale Ale, American Pilsner, American Double / Imperial IPA, Saison / Farmhouse Ale, American Wild Ale, American IPA, English Brown Ale, Keller Bier / Zwickel Bier, American Pale Lager, American India Pale Lager, American India Pale Lager, American India Pale Lager, American Double / Imperial IPA, American IPA, Wheat Ale, American Double / Imperial IPA, Cream Ale, Kölsch, American Pale Wheat Ale, American Amber / Red Ale, Kölsch, American IPA, American Double / Imperial Stout, American Brown Ale, American Pale Ale (APA), Kölsch, American IPA, American Double / Imperial IPA, American Pale Ale (APA), Old Ale, American Pale Wheat Ale, American IPA, Tripel, American IPA, Russian Imperial Stout, Saison / Farmhouse Ale, American IPA, American Porter, American IPA, Witbier, American Stout, American IPA, American Pale Ale (APA), Saison / Farmhouse Ale, Belgian Pale Ale, American Double / Imperial Stout, American IPA, Rauchbier, Bière de Garde, Belgian IPA, Doppelbock, Saison / Farmhouse Ale, Witbier, Belgian IPA, Saison / Farmhouse Ale, Belgian IPA, Saison / Farmhouse Ale, Rye Beer, Dunkelweizen, Belgian Strong Pale Ale, Dubbel, Belgian Dark Ale, Belgian Dark Ale, Belgian Pale Ale, Witbier, Oatmeal Stout, American Porter, Quadrupel (Quad), Rauchbier, Belgian IPA, Belgian Dark Ale, Belgian IPA, Rye Beer, American Stout, Fruit / Vegetable Beer, Belgian Dark Ale, Belgian Dark Ale, Belgian Pale Ale, Bière de Garde, Belgian Dark Ale, Witbier, American Stout, Belgian IPA, American Wild Ale, Fruit / Vegetable Beer, American Double / Imperial IPA, Bière de Garde, American Black Ale, ...]\n",
       "\n",
       "[2410 rows x 0 columns]"
      ]
     },
     "execution_count": 13,
     "metadata": {},
     "output_type": "execute_result"
    }
   ],
>>>>>>> 8457d42fc39d225daf96f9ce7fe033f29a6b50da
   "source": [
    "abv_and_style = poop_df[[\"abv\",\"style\"]]\n",
    "abv_and_style = state_and_style.set_index(\"style\")\n",
    "abv_and_style"
   ]
  },
  {
   "cell_type": "code",
<<<<<<< HEAD
   "execution_count": null,
   "metadata": {},
   "outputs": [],
=======
   "execution_count": 78,
   "metadata": {},
   "outputs": [],
   "source": [
    "style_data = style_data.head(5)"
   ]
  },
  {
   "cell_type": "code",
   "execution_count": 79,
   "metadata": {},
   "outputs": [
    {
     "data": {
      "image/png": "iVBORw0KGgoAAAANSUhEUgAAAmcAAAG4CAYAAAAAMkB2AAAABHNCSVQICAgIfAhkiAAAAAlwSFlzAAALEgAACxIB0t1+/AAAADh0RVh0U29mdHdhcmUAbWF0cGxvdGxpYiB2ZXJzaW9uMy4xLjMsIGh0dHA6Ly9tYXRwbG90bGliLm9yZy+AADFEAAAgAElEQVR4nOzdd5zcVb3G8c8DoSlIDYgJTQ0ioiAE1GuhqRT1ggUElSJ4AQEbFkCvBa8IKAo2UHpQEJEuhN6RZkBEOqEIgQhBioC0hOf+cc7Az3UTAmR2fpl93q/XvnbnN7+ZPcnszDxzzvecI9tERERERDvM0esGRERERMTzEs4iIiIiWiThLCIiIqJFEs4iIiIiWiThLCIiIqJFEs4iIiIiWiThLCJeNknfkfSbXrejmyRdIOkzvW5Hk6Q7Jb33Zdz+MUmvnZVtioiXL+EsYpiS9C5Jl0p6RNKDkv4oafV63daSLhmidtwp6YkaFB6SdJqkpYbid88qNZw+U/8ND9f/13f0ul0vxPb8tm8HkHSEpO/1uk0RkXAWMSxJehVwKvAzYBFgFLAH8FSPmvQh2/MDSwL31XYNStKcQ9aqF+d39d8wErgEOEGSetymQUka0es2RMT0JZxFDE/LA9j+re1ptp+wfZbtayW9Efgl8I5GT9Dqku5rvqlL+qikawa7c0lvr71HD0v6i6S1ZqZRtp8EjgNWbNzXEZIOlDRe0uPA2pLmkbSvpLtqu34pab56/oWSPlp/fpckS9qwXn5vs82StpF0Y+2xO1PSMo3r3ifpptqz+HNgpoKW7WeAccCrgUUlzSHpfyX9TdL9ko6UtGD9HcvW9m0n6V5JkyV9ecC//XuNy2tJmjTY75W0hqTL6v/5ZEk/lzR343pL2knSrcCtjWOvl7Qd8Enga/Ux/4Okr0o6fsDv+Jmk/Wfm/yEiXrqEs4jh6RZgmqRxkjaQtHDnCts3AjsAl9Vhr4Vs/wn4B/C+xn18Cvj1wDuWNAo4DfgepVfuK8Dxkka+UKMkvQL4OHD5gKs+AewJLEDpldqHEjBXAV5P6fn7Vj33QmCt+vN7gNuBNRuXL6y/a2Pg68BHKL1dFwO/rdctBhwP/C+wGHAb8M4Xan+97TzA1sAk2w/Un7cG1gZeC8wP/HzAzdYGxgDvB3Z7iXVk04Av1fa+A1gX2HHAORsDb6MRfgFsHwQcBfygPuYfAn4DrC9pofrvGkF5bP7jMY+IWSvhLGIYsv1P4F2AgYOBKZJOkbTEDG42jhLIkLQIsB5w9CDnfQoYb3u87Wdtnw1MADacwX2fJOlh4J+UAPjDAdefbPuPtp+lDL3+D/Al2w/afhT4PrBZPfdC/j2M7dW4vGa9HmB7YC/bN9qeWu9jldp7tiFwg+3jak/Y/sDfZ9B+gE3rv+FuYDVKEILSI/Vj27fbfgzYHdhswNDiHrYft/1X4HBg8xf4Xf/B9lW2L7c91fadwK8a/+6Over/2RMzcX+TgYuATeqh9YEHbF/1YtsWES9OwlnEMFVDyda2RwMrAa+hhJDp+Q3wIUnzA5sCF9c38IGWATapw2sP18DyLko92fRsbHshYB5gZ+BCSa9uXH934+eRwCuAqxr3f0Y9DnAZsHwNmqsARwJL1d6wNSiBo9POnzTu40HK0OWo+n/x3O+07QFtGMyxtZdxcdvrNELMa4C/Nc77GzACaAbhuwdc/5oX+F3/QdLykk6V9HdJ/6SEzcUGnPZC/4aBngvkTKenNCJmvYSziMD2TcARlJAGpUdt4Dn3UILPh4EtmP4b9d3Ar2tQ6Xy90vbeM9GOabZPoAzRvat5VePnB4AngDc17n/BWoyP7X8BVwFfAK6z/TRwKbALcFsdauy0c/sB7ZzP9qXAZOC5GaO1sP+lziC9lxIEO5YGplImPnQsNeD6e+vPj1OCaEczsA50IHATMMb2qyhDtgPr5P7jcX2B604C3iJpJeCDlKHPiOiyhLOIYUjSCpK+LGl0vbwUZSitU+t1HzC6WVBeHQl8DXgzcOJ07r7Tw7aepDklzVsL2UfPRLskaSNgYeDGwc6pQ5sHA/tJWrzebpSk9RqnXUjtgauXLxhwGcqkh90lvanex4KSOkN4pwFvkvSROvz4eWYcjGbkt8CXJC1Xex2/T5nZObVxzjclvaK25dPA7+rxa4ANJS1SexK/OIPfswBlWPgxSSsAn32R7byPUhP3nMYEjaOBK23f9SLvMyJegoSziOHpUUph+BUqMyAvB64DOjMFzwOuB/4u6YHG7U6k9AKdaPvxwe7Y9t3ARpSemymUHqqvMuPXmz9IeowSLvYEtrJ9/QzO3xWYCFxeh/DOAd7QuP5CSli5aDqXsX0iZWLBMfU+rgM2qNc9QKm12psyEWIM8McZtGdGDqP0Ml4E3AE8CXxuwDkX1n/PucC+ts+qx38N/AW4EziL50PbYL5CmTjxKCW8zujcwRwKrFiHeU9qHB9HCeMZ0owYIiqlFBERM0fSbZThwHN63ZbZnaRlKYFtrgE9aa0haWnKcOmr60SSiOiy9JxFxExTWT/MlJ616HOS5qDU6h2TYBYxdLJKdETMFEkXUNbH2qLWfUUfk/RKSh3a3yjLaETEEMmwZkRERESLZFgzIiIiokUSziIiIiJaZLauOVtsscW87LLL9roZERERES/oqquuesD2C+4zPFuHs2WXXZYJEyb0uhkRERERL0jS3174rAxrRkRERLRKwllEREREiyScRURERLRIwllEREREiyScRURERLRIwllEREREiyScRURERLRIwllEREREiyScRURERLRIwllEREREiyScRURERLTIbL235lCTet2C7rJ73YKIiIhIz1lEREREiyScRURERLRIwllEREREiyScRURERLRIwllEREREiyScRURERLRIwllEREREiyScRURERLRIwllEREREiyScRURERLRI18OZpDkl/VnSqfXycpKukHSrpN9Jmrsen6denlivX7bbbYuIiIhom6HoOfsCcGPj8j7AfrbHAA8B29bj2wIP2X49sF89LyIiImJY6Wo4kzQa+ABwSL0sYB3guHrKOGDj+vNG9TL1+nXr+RERERHDRrd7zvYHvgY8Wy8vCjxse2q9PAkYVX8eBdwNUK9/pJ4fERERMWx0LZxJ+iBwv+2rmocHOdUzcV3zfreTNEHShClTpsyClkZERES0Rzd7zt4J/LekO4FjKMOZ+wMLSRpRzxkN3Ft/ngQsBVCvXxB4cOCd2j7I9ljbY0eOHNnF5kdEREQMva6FM9u72x5te1lgM+A8258Ezgc+Vk/bCji5/nxKvUy9/jzb/9FzFhEREdHPerHO2a7ALpImUmrKDq3HDwUWrcd3AXbrQdsiIiIiemrEC5/y8tm+ALig/nw7sMYg5zwJbDIU7YmIiIhoq+wQEBEREdEiCWcRERERLZJwFhEREdEiCWcRERERLZJwFhEREdEiCWcRERERLZJwFhEREdEiCWcRERERLZJwFhEREdEiCWcRERERLZJwFhEREdEiCWcRERERLZJwFhEREdEiCWcRERERLZJwFhEREdEiCWcRERERLZJwFhEREdEiCWcRERERLZJwFhEREdEiCWcRERERLZJwFhEREdEiXQtnkuaVdKWkv0i6XtIe9fgRku6QdE39WqUel6SfSpoo6VpJq3arbRERERFtNaKL9/0UsI7txyTNBVwi6fR63VdtHzfg/A2AMfXrbcCB9XtERETEsNG1njMXj9WLc9Uvz+AmGwFH1ttdDiwkaclutS8iIiKijbpacyZpTknXAPcDZ9u+ol61Zx263E/SPPXYKODuxs0n1WMRERERw0ZXw5ntabZXAUYDa0haCdgdWAFYHVgE2LWersHuYuABSdtJmiBpwpQpU7rU8oiIiIjeGJLZmrYfBi4A1rc9uQ5dPgUcDqxRT5sELNW42Wjg3kHu6yDbY22PHTlyZJdbHhERETG0ujlbc6SkherP8wHvBW7q1JFJErAxcF29ySnAlnXW5tuBR2xP7lb7IiIiItqom7M1lwTGSZqTEgKPtX2qpPMkjaQMY14D7FDPHw9sCEwE/gV8uotti4iIiGilroUz29cCbx3k+DrTOd/ATt1qT0RERMTsIDsERERERLRIwllEREREiyScRURERLRIwllEREREiyScRURERLRIwllEREREiyScRURERLRIwllEREREiyScRURERLRIwllEREREiyScRURERLRIwllEREREiyScRURERLRIwllEREREiyScRURERLRIwllEREREiyScRURERLRIwllEREREiyScRURERLRIwllEREREiyScRURERLRIwllEREREi3QtnEmaV9KVkv4i6XpJe9Tjy0m6QtKtkn4nae56fJ56eWK9ftlutS0iIiKirbrZc/YUsI7tlYFVgPUlvR3YB9jP9hjgIWDbev62wEO2Xw/sV8+LiIiIGFa6Fs5cPFYvzlW/DKwDHFePjwM2rj9vVC9Tr19XkrrVvoiIiIg26mrNmaQ5JV0D3A+cDdwGPGx7aj1lEjCq/jwKuBugXv8IsGg32xcRERHRNl0NZ7an2V4FGA2sAbxxsNPq98F6yTzwgKTtJE2QNGHKlCmzrrERERERLTAkszVtPwxcALwdWEjSiHrVaODe+vMkYCmAev2CwIOD3NdBtsfaHjty5MhuNz0iIiJiSHVztuZISQvVn+cD3gvcCJwPfKyethVwcv35lHqZev15tv+j5ywiIiKin4144VNesiWBcZLmpITAY22fKukG4BhJ3wP+DBxazz8U+LWkiZQes8262LaIiIiIVupaOLN9LfDWQY7fTqk/G3j8SWCTbrUnIiIiYnaQHQIiIiIiWiThLCIiIqJFEs4iIiIiWiThLCIiIqJFEs4iIiIiWiThLCIiIqJFEs4iIiIiWiThLCIiIqJFEs4iIiIiWiThLCIiIqJFEs4iIiIiWiThLCIiIqJFEs4iIiIiWiThLCIiIqJFEs4iIiIiWiThLCIiIqJFEs4iIiIiWiThLCIiIqJFEs4iIiIiWiThLCIiIqJFEs4iIiIiWqRr4UzSUpLOl3SjpOslfaEe/46keyRdU782bNxmd0kTJd0sab1utS0iIiKirUZ08b6nAl+2fbWkBYCrJJ1dr9vP9r7NkyWtCGwGvAl4DXCOpOVtT+tiGyMiIiJapWs9Z7Yn2766/vwocCMwagY32Qg4xvZTtu8AJgJrdKt9EREREW00JDVnkpYF3gpcUQ/tLOlaSYdJWrgeGwXc3bjZJGYc5iIiIiL6TtfDmaT5geOBL9r+J3Ag8DpgFWAy8KPOqYPc3IPc33aSJkiaMGXKlC61OiIiIqI3uhrOJM1FCWZH2T4BwPZ9tqfZfhY4mOeHLicBSzVuPhq4d+B92j7I9ljbY0eOHNnN5kdEREQMuW7O1hRwKHCj7R83ji/ZOO3DwHX151OAzSTNI2k5YAxwZbfaFxEREdFG3Zyt+U5gC+Cvkq6px74ObC5pFcqQ5Z3A9gC2r5d0LHADZabnTpmpGbOSBhs47yP+jyKAiIiYHXUtnNm+hMHryMbP4DZ7Ant2q00RERERbZcdAiIiIiJaJOEsIiIiokWmO6wp6SEGWcqCMlRp24t0rVURERERw9SMas4WG7JWRERERAQwg3A2cKakpEWAeRuH/mMNsoiIiIh4eV6w5kzSByTdQlkk9or6/bxuNywiIiJiOJqZCQF7UtYsu9n2UsB6wAXdbFRERETEcDUz4Wyq7SnAHJJk+2xg1S63KyIiImJYmplFaB+R9ErgEuBISfcDz3a3WRERERHD08z0nG0MPAl8kTKceQ/wwS62KSIiImLYmplwtrvtabafsX1o3cR8l243LCIiImI4mplwtv4gxz4wqxsSERERETPeIWB7YAdgeUlXN65aAJjQ7YZFREREDEczmhBwLHAusBewW+P4o7bv72qrIiIiIoapGe0Q8BDwELCJpJWAd9WrLgYSziIiIiK6YGZ2CNiJ0ou2dP06VtKO3W5YRERExHA0M+ucbQ+sYfsxAEnfBy4FDuhmwyIiIiKGo5mZrSngmcblZ+qxiIiIiJjFZjRbc4TtqcCvgcslHV+v+jAwbigaFxERETHczGhY80pgVds/kHQ+8G5Kj9kOtv80JK2LiIiIGGZmFM6eG7qsYSyBLCIiIqLLZhTORkqa7jZNdRuniIiIiJiFZjQhYE5gfsqOAIN9zZCkpSSdL+lGSddL+kI9voiksyXdWr8vXI9L0k8lTZR0raRVX+4/LiIiImJ2M6Oes8m2v/sy7nsq8GXbV0taALhK0tnA1sC5tveWtBtl94FdgQ2AMfXrbcCB9XtERETEsDGjnrOXtVyG7cm2r64/PwrcCIwCNuL52Z7jgI3rzxsBR7q4HFhI0pIvpw0RERERs5sZhbN1Z9UvkbQs8FbgCmAJ25OhBDhg8XraKODuxs0m1WMRERERw8Z0w5ntB2fFL5A0P3A88EXb/5zRqYM1Y5D7207SBEkTpkyZMiuaGBEREdEaM7NDwEsmaS5KMDvK9gn18H2d4cr6vbOJ+iRgqcbNRwP3DrxP2wfZHmt77MiRI7vX+IiIiIge6Fo4kyTgUODGActunAJsVX/eCji5cXzLOmvz7cAjneHPiIiIiOFiZjY+f6neCWwB/FXSNfXY14G9gWMlbQvcBWxSrxsPbAhMBP4FfLqLbYuIiIhopa6FM9uXMP0Zn/8x2cC2gZ261Z6IiIiI2UFXa84iIiIi4sVJOIuIiIhokYSziIiIiBZJOIuIiIhokYSziIiIiBZJOIuIiIhokYSziIiIiBZJOIuIiIhokYSziIiIiBZJOIuIiIhokYSziIiIiBZJOIuIiIhokYSziIiIiBZJOIuIiIhokYSziIiIiBZJOIuIiIhokYSziIiIiBZJOIuIiIhokYSziIiIiBZJOIuIiIhokYSziIiIiBbpWjiTdJik+yVd1zj2HUn3SLqmfm3YuG53SRMl3SxpvW61KyIiIqLNutlzdgSw/iDH97O9Sv0aDyBpRWAz4E31NgdImrOLbYuIiIhopa6FM9sXAQ/O5OkbAcfYfsr2HcBEYI1utS0iIiKirXpRc7azpGvrsOfC9dgo4O7GOZPqsYiIiIhhZajD2YHA64BVgMnAj+pxDXKuB7sDSdtJmiBpwpQpU7rTyoiIiIgeGdJwZvs+29NsPwsczPNDl5OApRqnjgbunc59HGR7rO2xI0eO7G6DIyIiIobYkIYzSUs2Ln4Y6MzkPAXYTNI8kpYDxgBXDmXbIiIiItpgRLfuWNJvgbWAxSRNAr4NrCVpFcqQ5Z3A9gC2r5d0LHADMBXYyfa0brUtIiIioq1kD1raNVsYO3asJ0yYMGS/T4NVxvWR2fhPYabk8YuIiF6SdJXtsS90XnYIiIiIiGiRhLOIiIiIFkk4i4iIiGiRhLOIiIiIFkk4i4iIiGiRhLOIiIiIFunaOmcREbNKlkGJiOEkPWcRERERLZJwFhEREdEiCWcRERERLZJwFhEREdEiCWcRERERLZJwFhEREdEiCWcRERERLZJwFhEREdEiCWcRERERLZJwFhEREdEiCWcRERERLZJwFhEREdEiCWcRERERLZJwFhEREdEiI3rdgIiI6G9Sr1vQXXavWxD9pms9Z5IOk3S/pOsaxxaRdLakW+v3hetxSfqppImSrpW0arfaFREREdFm3RzWPAJYf8Cx3YBzbY8Bzq2XATYAxtSv7YADu9iuiIiImElS/361VdfCme2LgAcHHN4IGFd/Hgds3Dh+pIvLgYUkLdmttkVERES01VBPCFjC9mSA+n3xenwUcHfjvEn1WERERMSw0pbZmoN1Lg5aYilpO0kTJE2YMmVKl5sVERERMbSGOpzd1xmurN/vr8cnAUs1zhsN3DvYHdg+yPZY22NHjhzZ1cZGREREDLWhDmenAFvVn7cCTm4c37LO2nw78Ehn+DMiIiJiOOnaOmeSfgusBSwmaRLwbWBv4FhJ2wJ3AZvU08cDGwITgX8Bn+5WuyIiIiLarGvhzPbm07lq3UHONbBTt9oSERERMbtoy4SAiIiIiCDhLCIiIqJVEs4iIiIiWiThLCIiIqJFEs4iIiIiWiThLCIiIqJFEs4iIiIiWiThLCIiIqJFEs4iIiIiWiThLCIiIqJFEs4iIiIiWiThLCIiIqJFEs4iIiIiWiThLCIiIqJFEs4iIiIiWiThLCIiIqJFEs4iIiIiWiThLCIiIqJFEs4iIiIiWiThLCIiIqJFEs4iIiIiWmREL36ppDuBR4FpwFTbYyUtAvwOWBa4E9jU9kO9aF9EREREr/Sy52xt26vYHlsv7waca3sMcG69HBERETGstGlYcyNgXP15HLBxD9sSERER0RO9CmcGzpJ0laTt6rElbE8GqN8X71HbIiIiInqmJzVnwDtt3ytpceBsSTfN7A1rmNsOYOmll+5W+yIiIiJ6oic9Z7bvrd/vB04E1gDuk7QkQP1+/3Rue5DtsbbHjhw5cqiaHBERETEkhjycSXqlpAU6PwPvB64DTgG2qqdtBZw81G2LiIiI6LVeDGsuAZwoqfP7j7Z9hqQ/AcdK2ha4C9ikB22LiIiI6KkhD2e2bwdWHuT4P4B1h7o9EREREW3SpqU0IiIiIoa9hLOIiIiIFkk4i4iIiGiRhLOIiIiIFkk4i4iIiGiRhLOIiIiIFkk4i4iIiGiRhLOIiIiIFkk4i4iIiGiRhLOIiIiIFkk4i4iIiGiRhLOIiIiIFkk4i4iIiGiRhLOIiIiIFkk4i4iIiGiRhLOIiIiIFkk4i4iIiGiRhLOIiIiIFkk4i4iIiGiRhLOIiIiIFkk4i4iIiGiRhLOIiIiIFmldOJO0vqSbJU2UtFuv2xMRERExlFoVziTNCfwC2ABYEdhc0oq9bVVERETE0GlVOAPWACbavt3208AxwEY9blNERETEkGlbOBsF3N24PKkei4iIiBgWRvS6AQNokGP+txOk7YDt6sXHJN3c9Vb1zmLAA0P1yzTY/368HHn8Zl957GZvefxmX/3+2C0zMye1LZxNApZqXB4N3Ns8wfZBwEFD2ahekTTB9thetyNemjx+s688drO3PH6zrzx2RduGNf8EjJG0nKS5gc2AU3rcpoiIiIgh06qeM9tTJe0MnAnMCRxm+/oeNysiIiJiyLQqnAHYHg+M73U7WmJYDN/2sTx+s688drO3PH6zrzx2gGy/8FkRERERMSTaVnMWERERMawlnEVERES0SMLZMCEpj3U8R8rKTBGzWp5X0fRy3nfzht3nJL1F0uK2n20cywvIMCXpfZLe4hSbztbqPsQDj+V53UOS1HleSdpE0gaSsv3gMCNpWUn7SVoMmOul3k/rZmvGrCNpWeAPwH2S9gLut/3HxguI8iY9fEhaChgD7C3pEOBm2+f1uFnxIkma0/a0+qn805QP2UfbfrzHTRvWGq+rXwA+ChwKfEPSM3UVghgetgW+ACwCTJR0ue2zO1dKmqPZWTI96Tnrb38DJgALAa8HfihpN0lLJZgNP7bvtn0AsBUwH7C5pM/3uFnxIjWC2XhgCWBjYLykRXrbsuFJ0qKS5q0/Lwm8x/Z7gKWBG4EzO9fHsPBT4BzgHsquR/tI+oakdwPMTDCDhLO+VsPXdym7LBwHrA9sAYwDDpE0OrVo/U/SqOZl29dRPtUfC7xd0jY9aVi8KJKWb1zcBrjC9vcpQye/t/1g49wMcQ6BOjrxA+B9kuYD/gVMk7QvsBqwme1pwCaS3tizhkZXNcsMbE8BTgPutX048G3gm8C3JJ0paaWZuc+8MfcZSStL+pCkpeuhByhDWa+hvIi/CvglZZP5Ayk9KNGnJO0K3CBpS0nv6xy3/QhwKSW0rzAwwEW7SFoTGCfpPfXQRMCSLgHOsf1zSctI+go8P8QW3WX7TuB24APAmvV5dSewNbCN7SckbQV8EXi4R82MLqqh+0eSDpH0+nr4ZuBTktYBdge+Yft9wN3ATPWiJpz1EUnrU3pDPgmcLel9tu8BjqDUnt0I7Gz7WNvbAFunTqXvPQ7MQwnnX5L0C0krSJq3PvYTgMWANXrZyHhB1wOHA1+R9F/AHcBGwJ9s/6Cesy/w2h61b1gZ0FOyJyWgbSrp/ZQPvYcB50v6AaX+aCvbk3vS2OiaGsyOpDw/5wAOkLSU7TOAsynDmyfb/hGA7c/YnjBT950PWP1B0juBk4ENbV8paRfgc8BbbT8s6VDgBts/kjRf/USXurNhQNI44ArKG8belOGW24A9bN9RayG+RnkDeXD69xS9JGkk8BHgv4GvUmpJ96H01LwamGT70/XcPLe7RNK7gE2AH1KGrp6tx3ejhOMTKPtDf4Dy4ehvtm/vUXOjSyQtSHmcb2w8746h/E3sImk1YDfgk7afljSX7Wdm9v7Tc9Y/RgGXAcsC2P4xcBUwf73+z5QZRNh+on7Pi3cfkvR2Sa9rFCGfDyxu+0nKMPaTwP3AaZI2sH0xpYj1n71pcQymDpP8j6RV4LlaluMo9Sz7UkoWPgrsD+zbeIOYI8/trtqG8sH3N8Aukj4CYHtv4AZgU0owO8f2+Qlm/aeOPDwCHA08JmnTetWfgPsAbF8FLAgcXC/PdDCD9JzN9iStCrzO9u8lbQK8D7gAWKl+bWL7qXruscCXbd/dq/ZGd0k6DFiOMox5AGUT4SWB04FHgEeB99cZf6vVFxA6vak9anYMIGkJ4AxKndKNlGWPvgQ8DTwL7ABsAPxkwDT99Jh1maRXA1+nzIZ/lDL7+RrgUNtX1xnQY4DdUjbSfyS9ivK6+ivgQsrSGatSasnGAJvavreeuzSwtO1LXuzvyTpns7E603I5YMe6ls7v67HPAMvYXr6eN2/tNdm8zhyKPiTp18DctteutS/fBG61PV7SHpShyy06SzE0gpkSzNrF9n31w9TGwJ6UIbR9gCeA/SizbZ8F3kypbencLsGs+/5Vvz9ge5ykh4CjgIVrcPsU8ESCWd8ScDHlw9IzlOeiKL2pBzSC2Ry27wLueim/JOFsNmb7WUlnAtOAz9Q/ht9JehZYT9Kmtfj/yXp+glmfkvQaSg/Z9QC2z6q1MStQ1sO6itID8yoadTL13Lyht8N2b9oAACAASURBVEij9+sHlN7vxW1/QtKFwOKUmrOjKYXG1/SwqcOS7X9KOomymPOCwPbAJ2wfJ+nHwDydN+joP7YfkXQUpTxkd2Av2wdJMvAWSZ+wffTMrmc2Pak5m83ZfozyyfkwYBtJH7P9e0qh4kclbdHTBsZQ+TuwCzCPpB+o7AawDqVYHNs3U2rKPtOzFsYMddYma4RlUQL1epL2qde9EdiRUoScYNYDNTyfR/nQswewq+3jAGzvYvuOnjYwukbSCADbDwPHUyZ/7F4/CB8K3ERZ826Jl/278qG5P0h6JbAepVj1ENsnSfowcHmmcA8P9YXjTZSp+x+jrK3zM0kjbE/tbetiRiTNXWd0zdns4Za0DGW5kwdtv2GQ26XGrEs6/7fN/+MBP28A/K/td9bLM7UtT8xeatD6IuX19Nnmc1TSQpRJORsBPwIuAkbPirru9JzNRjTIav6dY7W+4UzgEODLkj5k+8QEs/6lsrnunyV9StIbawD7K2Um33jKEBi2pzbXZer00EQ71N7tyyS9stYDzlmPz2H7b5Q3huPrsX/bSDnBrDsGhN5XS3oFlP/vzuNj+3TgcUn718sJZv1pEWAZykKzczSfo40etPGUSSILzaoJd+k5mw1JWp0yjf5+248PSPLzA2sBf8mszP5Ve8m+BWwO/ATYmbJNyDW2b5a0AvBlYF7bGdpuqUbvzC+ApYCPu6xB2HxOv4OybMP7sizD0JK0E6XG7wZgqu2v1uOdzedXBv5he1Iv2xndUz/Mvgn4PKXO7IuD9KAtDLxyVv4dpOdsNtDs6ZC0I3AiZSbeQZIWHZDkHwNOSzDrb7WX7HBgKqXOYRvgHZQVqr9KmeZ/BGUJjWihAeuRXU/5dH60pFfU53SnvuUyyhI4CWZdNqCHeRNKecDWlN6T0Z3rOm/Ktv+SYNafBtSAXk+ZJf1KYP9GD1rnOfrQrP47SDibDTRqHN4LLA28kxLO7gYOHiSgpTu0T6ns0wdALTzeD3iz7Uspq8Qb+CBlav+Cto+ut8tQZsvUT9+SdAFlpu2+lGUaTqoBbaqkeeq5J8HgpQ0xa6hsSP2ROgMTyiz4bwEfojw+W9bzVu1NC2OoNHq016q12x+0fSNlOZv5eX6Is2u1vHmizwYkzSFpMcoeXqsBkymz8/YHbgF+J2mRLJUxLKynsplux+3Ah1S2DRlp+7221wT2tz2+c1ICe2stSlkv65u2f03pAX0Y+E0NaE81T05dU1e9nbK6/7qS5qMs+DueskzG+20/I+l/KBtaz9fLhkb3dHq0JX2QsnPKAsD/Sdrd9i3AXsASwM+62Y6Es5Ya2NNh+wHKbMwlge1sT7P9d8ofzx+BVwx9K2OoNP4eLgZe3zlu+xzgWmBNSm1M5/hFA24XLdAcNqumAStL6myt9hRlaZwVKbsARJc1JlUdQvmwuzll+6WzgO8Dz0paRdJngZ2Aw5xFm/uOpNEqm5Y/K2kUZdb7xpSQ/iRlY/u9bN8KfAf4ZTfbk0VoW2jAdO1PAstLutz26ZI2A06QhO2f275X0nfTa9bfGj1fl1Ae/wdsn1CPHQDMAywo6QlngdlWahSRz0FZH+um+rU1cGR9Th8PjKVs/XNS71o7fPj5jcs/Syn8HgHsSikROJKyK8P/Ut6gP2n7+h41Nbqk1o6tB1wp6e+275G0A6XWcHfgPcDqlJKDOWzv2u02peeshRrBbEfKgpO3AAdK+gZwGyXNf0fS9vX8BLNhoIb2v1L+Jr4vaaN61V3AWyh1ERn2aqlGMDsNmJNSYP4bSs/nLpTn9EnAqxo1Zun5HAKSxlD2yNzK9gcpSxJ9HHib7f1tfwzYMsGsP9XascMor6XHSRpj+zZKODvdZZNzUUaqxk//nmadLKXRIgN6zJYH/o+yovsWlFqUmyk1RntQhraeqX9AMUw0ClU3otQ8fN32b5SFZluvBrN1gFVt/0DSRcAxtg+o188HjLD9aL2cBWa7ZOD/bV2C6ARgH9vn1mO/oPSm7AKcmg8+/anxmvoeYEHKJuYrUtYtm5/yOnsx8ElgM9uXD8VzMz1nLTEgmI2qhYefBVYBPmJ7LPA7yj5uOwI3J5j1r0Fqk4Dne1Vtn0x5sdhC0vcpbyDpaWkZSSvXtbA6w2dzA2tKOh/4ne0DJM0t6cvA/Alm3TfgtXa0pNF1CaJLKfV/b6mnngNcSdllJcGsT9Vgtiplnci7gAMpi3nvTVmS6EuU8oPP2L68c5tutys1Zy0w4MXiS8BKdWbI/ZIW4fkQPRU4Dzg2L9z9q7GGzhzAV4BnKENhd9p+unHOxZK2pHy6e7ekBWv3e7SApIMpPdyvlnSe7Z1sj6+1LCNs/6Ke+jtgku0pndvm+d0dA15rv0IZupxT0r6UIavvUoaXn6D0nmxi+/6eNTi6rg5p7wBcYfsv9dgRlFrQo4DP1ZnUQyrhrAUaLxYfAzYDPtR4QTgX2FbShcDCwKZ1lmb0qTpbSJQFZM8DVqbMIPsY5ZPdc0XMtu8D7qPUIkZLSPolsJjttevMr9MlfcD2aZSdG/aR9EfgIeBe25+rt0uPWRc1Xmv/i1LkvQEwhlJHtL3tnSWNpTznvuks/DsczEupJ1td0ljbE2xPknQkpWNkoV40KjVnPSRpNWCpRvHv14A5be8laR7bT9XhrVdRZorcYvvO3rU4uknSqravrj9vDKxh++uSzqDs+vAzSfPafrK3LY0ZkfRWyjT7fSmP278k7QLcAdxm+9p63pso22tdVS9n4+whUB+f7wMPAlvUD0NvB/4AfNd2V9evit5q1JitTikzuB+YQqkx+xdwku1r6rnzeMBag0MlNWc9UkPXfMAVkl5bDz8MvAaeW+8Iyno7y9s+K8Gsf9U3jPEqq1FD6QlbSNLVwNk1mI0EdlNdNT7ayfafgV9QemXWqcMmX6XUBf5B0m8l/QS4vRHMlGDWHQPrMOvjczxlcdH3Spq/1hJ9GPiypIWVnRj6Vg1m6wPjKDXdNwPLAkcDcwGb1xo0ehXMIMOaPVFfiKcBl0haFDhc0lHAscBnag/axcBrKduHrNe71sZQsP3nWov0HUnPAmdQtmP6E/CretoBwCO9fMGIGVNdy8z2kTUUfAJ4K/Bj2z+UtBBlseC53VjINEOZ3TGgxmwLysruT1Nm4JlSLiBJl9q+RNIK6ZnuX/U5OZLyQem/KaHsRmCy7fskPQ1sCzzWs0ZWGdYcYgNeLLahFHPfQVky4yBgAmUJjbmAxSiLUWZtnWGiDmf+H/A5YBJlJeqFKR+kJtveup6X2qQWkfRp4BTb/5A0l+1n6vEPU9bPOhCYUK9/bvgyj+PQUFkTchvgUJ7faeWd9dh6lA9A50GCcr+ro1a7AY9SwvlWtm9RWeD9XOAxt2AHiPScDbFGMFuLspjsJ4DHgWcpS2ccYnu7es4Cnan10X8kjQPuAS60fSaUDa5VVqv+OfBZ25+qw96L2b6y3i61Se2zGrAu8CmXPRg7PWgnSlqA8jwfLekY2493bpQg0B2SVgQWtH1Z7S35L8oH3fOBg2qx9+G2t1ZZ4+yGPBb9qVFjthjwaK3lfh1lpu7IWhO6KmVXiFs6db+9lnDWA3UdnR2AZ13W16HOxjSwa10SYRwt6FqN7pA0L6XX9B2U7bk+Q5nGP8n2cbVM5heSfmD7N5TFh1Ob1DKdF/46y28fSRvYPt1lKZTOdUfq+QVmH3/BO42XRdIrgQ8BK6psiXVZLRVYDji/nvZNypZM2P5Jb1oaQ6EGsw0pk0Cul/QP29vUWtCDJE0G3gt8py3BDDIhYEgMLEilbMd0FmV9nY/XnpDHKHVme1K6VvOpuo/VupZTKbOFtqDUPWwBjJP0RuBEyp5uKwy4Xf4mWqS+8Ks+x68D3jDwuvrzr2z/anr3E7NODcC/pTweW0t6A3Aw8CNJG9TT1gTGSFpgkNfn6CP19XRjyhI2uwFvlHSU7XdTXoP/DOxk++Q2/S2k5qzLBtSYbUdZFkO1OHhHyho7lwLH1yndqUHpcwP+Jn4P/N72sZJOoKyvdA+lp2w/10URo70awyZLAscAv7T92163a7iRtC6wNmX23amUnunNKa+x36Z80NmP8mb8FsoyGqnn7VO1tuzVlF0erqCsETq1XncecKDt3/ewiTOUnrMua7wJb0/Zbuc0ygKUW1Km8t5KmXK/UfP86F/1jbzz3DsBeJOkXwGL2n4dZcj76ASzduo8do1eMdeANhn4AvB+lb1xY4hIWo+yrtwclNq/dW3fTdl94XZKycBEyiSA3YENE8z6U+N5Oc32PZRasrdSFh3uuIQS3lsr4WwI1Pqi1YBNKZ/szqBsePw4pbv9YkrvWQwTjbqx84CPAu+3vWa97gbbZ0H2ymybzmSM+qn8Z7WwuDmEeTNwPTCqnj/oHqkx69TJVUdTesK+Tglja0paG5hGWTbjVspeiSvanuzsstK36nPxvZL2lfSuWrO7O3CwpN1U1jjbBLi7ty2dsUwI6IJBZtM9DTwF/JhSY/RR209L2hW4yvbhvWhnDI3pza6sx++rw9vbqqyB9c/muelJbZfGY/Nd4D7btzWuM/CEpInA9yR90PZDvWjncFED8WKURZsXlDQ3ZQu8aymLyr6bsu3ZUZTV3+/qUVNjiEhaBdiLMpT5WUlrUIazn6YsDv174MO2b2pzGVF6zrrAz69htFYtRp0buIjSc7a77SckbUqZXn9H71oa3VaXVHi21oyvJGnhznWNN/p7KAsOvz4zMduv1o6uC9w52PUu27H9nlJfGl1U31hPp0yk+hbl9XRv25sBXwHOBja2PQn4VXrM+lNnhEHSEpQaw71t70wZ1l4G+BJle64dgffTo/0yX4z0nM1CAwq9t6G8YJxK2Vj1c5TZIkdJuo3yB/PJ5ifv6C+1Z2xarVE6jzIjc3VJe1EWLH0GwPZtkr5le0Iv2xuDqwF7WuPQ2cCbgHdKus5lO6DOuZ3lM/Yf8oYOU7Yfl3Q25f3sa5Rt8KijE6Is4oztp3vXyuiWxoScDShD2A8Az1Am2Z0iaRqlpnsX2/tIWpqyTNG7bf+rh02foYSzWWRAMHsNsCBls/InKAXeBwPbUWojXgU8UQuIo0/VHrM5gB9RNtPdX9K99brOCvKdxUrPr5db280+HA0I2HtTVhW/CNgH+DywscpaWn+GDEP3istCouMpi3n/j6Sp9ee1gC172bboDkkjbE+tweyNwKcp9bu3AX+SNM72VrZPq7Wft0NZ107SEW0OZpBhzVliQDDbEfgJ8CnKHl4PAodQpm//HljE9u0JZv1L0nckfQWeG7q8G3hA0lmUPRaPl7SMpCUH9Mjkzb1lGgH7BMpz+SHgTMquHr+llCxsLWmZ3rVy+NAgG5J3jrlsuXMW5fV2n/p9K9s3Dmkjo+skLUIp8O/Mit4JWB7orBm6MrCypOMAbJ9i+7rG388/h7zRL1LC2SzQCGYbUfZp+xHlRXwzyvYQ9wGHA+MpRanR3y4ENpe0U708lVIPc5btfeuxgyk1iNF+7wauphQTbwB83fYjdamTw4FLbf+tlw0cLhr1vKtLWk7SKxuzZzsL0J4DfANY2/YNPWxudM88wH3Ad2ud2U8oEwA+IGnFOoT9NuDNklZuLK/xbP3e+g/BWYR2FpG0AqVn7EiXBWYXp2x2fDvwI9t/H6R2JfqUpHdS9sfcDziO0svyZ8ontv+izMrcpnctjOkZ+DyVtBqlZnQ5Sh3LT1W2CPoesIfth+t5GZLukkFGJ75O6SWbB/i8y4byeX0dRiSNAj5Dqf/8PKW2cDvgfuBU23+dnZ+T6Tl7iWpab/oncDywpaT/sn0/5Q/lrcDOndqVoW5nDI2B61nZ/iPwRcokkA9S6l7upryAXNYJZoMN00RvdWrM6mzrt9q+ijJ8uUANZnNQeszm7QSzervZ8k1gdtAIZu8FlqYsJvtNynPqYEmL1sct68r1KUmLSHpuBrTLArOHUNYV/Cml7OBXlMl2H64foGbbdSLTc/YS1F6yG4D9gRttH1yPz0sp/l8X2Mv2pXVs/BV1Knf0oc4n9vqmvSdlSPtS25eoLJC5H/AT20cMuN2g659Fb0jaBzjd9gWSzugcBv5h+xO14Pwpysrit9neod5utv10Pruoz61FKOuXXQ98gLLA7EjKh6CxlO15HuxZI6NrVNav2xG4vc7AHOHnt2Lq9KC9AdiF8nfi2b3WMJ/aX5rHgcsoY94fk3SkpA8Cc9Yp9GcAe0t6u+0HE8z6W+MT+ymU2blTgVMlrWv7Asqbx56S3jfgdglm7XIXpRdmD+CPtte3vR6wsKTDbW9IeSy/1AhmcySYdUenTqjD9gOUmt4lge3qLOe/U3pN/gi8YuhbGUOh1pA9AbyrXp7amAjS6UG7EzgAmDi7BzNIz9lLJmk/4DWU/TI3oRT/L0RJ7vPV6y5z2d8t+pCkZYG7azj7BGW20A+BE4F7KX8TH7B9rqQ32L65Z42N6WrWKknagrJkxim2P1uPjQBOooSyWxu3S49ZlwyoMfsk5bl1ue3TJa1EmT37U9s/r+ek3mwYkHQyZVRin0GuG00pNZg49C2b9dJz9iI1Ps3tCpiydchk4M3ATZRZQpsBZyaY9S9JhwCHAWfUxQ/PpGwZ8lNKr8vWlJB2tqQVOsEsNWbt0hiS7sz2+zVlWv76kp77lA4sSlm78DkJZt0zoPh/R+AW4EBJ36CsY7Ux8B1J29fzE8z6WKOW8IvAQqp72jbZntQvwQyyCO2LZj+3wbGAiZT9MlelrD58Ul13ZYrtR3rZzugeSUdQ/hTWkfRt4LPAn20/Jek+yt8FlE2wv2j7ps5tM5TZLo1aweNVVhI/wfZRkuYCjpR0HuXD103ODg5dN6DHbHlgTWB9YAvKyu8rUmZq7kEZ4nqmR02NIdQI3w9SFhd+E3BbP/de51P8S+DiKeDXwHuBo1z208P2Lc5mx31L0lhK3cu5ALb3oMzke1s95WFgbUlXA0va/mm9XZ5rLTJgVt/ulAk+x1G2ZPoaZdjsc8DWwA22P11vl8exSwYEs1G2b6F88FkF+IjtsZS9Eren9Kbd7Gx/17c6o1TN2sPa6TEe+Kak1fs1mEF6zl4W2zdL2hVYRtIr3PLtIGKWuIHyxrClpMcpkwAWoMzQhDKDd3lgadvj4bk3nfSYtYT+fUum9SmlCT+0fa+kfwLvo9SO7g+s7ro1Ux7H7hkQzL4ErCRpd9v31xnvnVA8lbJP7bH9/MY8nDX+FhanTLqbC+jsk4rtP0ram7Lg7I0uOwL0nYSzl+8y4CO9bkQMDZc9/M6qF3egbLT7LdsX1fqlp4Hr6leWy2iZzuNRX+hPobzZrwy8FtjIZR8+Ax8H3m/7tObtetbwPtcIZh+j1Ox+yGWtSCi91NtKupCyTuCmdZZm9JlOMJP0AeDzkq4BHpL0qwEjUtdTRjAWBPoynGW25iyQXrPhpy5wuD7wVcoq8af3uEnxIkjaBRhj+7O1vuwq4K+2P1mvX9lle6boIpXdF5bqlIXUIeU5be8laZ5axzkn8CpgdeAW23f2rsXRbZLeCoyjLN79f5RVED7hsjVX87z1bJ/ZgyYOidRPzAIJZv1r4FpLja71xym1D3sDn5W0XQ+aFy+BpJUpk3hWqiHsmcblMwA6wWzg4x+zTg1d8wFXSHptPfwwZRkial0vlAVnl7d9VoJZ/5H0WkkfbRxaHDiIstL/CpRJVY9LeqPKzh2d1+Az6+378jmacBYxHXWYsjPcMkJlVWo3ll14AjgbOAZ4ZQ+bGjMg6SeSPlXXQeoEr59Qess2kLRSXS5j1XrsOalr6o46fDXN9iXA08ABKmvMHQu8TdLXJL1DZY2zH1Jqj6I/jQYOk7R5vXwn8D/AwZTh7TvqMOdXgfkHPif79TmaYc2IQTRqk+agbLB8F6W24Tu2H9S/L1w6d601i5apPTIXUN7cxwOL2t65Xrcq8CnK9Pzxtq9u3K5vp+j32oDi/20o22HdQdmC5yBgAmU4ay7KZI3dbF/fo+ZGFzVqzNalhLFv1qVs9qCsLXgWZbJVp7b3lB42d0glnEVMR+0u3xlYDjiaUqi8HGXrmH+osb9btJfKwqUfAD4PfA14EvgT8FtKPcuXKeHsDz1r5DCksu/sLsAnKFvibUhZOuOQRg3aArYf7Vkjo2sGvn5KWhs4FPgKZaLdupSlbO4BjnfZU3PYfGhKOIsYoPFp7jfAssBWtm+T9GrgS8DrgR1sT+llO2PGGr2fSwDfBva2fZekv1BmaS4OfI+yXtYFPWzqsCPpLZTFZOe1vXE9Nj/wHsruK4fZHjec3oyHC0mLueyTiqR1gLWAq4FzgDdS1rL7mu3j6mSdOerEkGH1t5Cas4iqUUvWeQHYj9Kz8vF6/O/12APA5oPdR7RHY+mLhylbrX26Dpc8bHs1ylIodIJZvxYWt8Eg/7e3UIas5pT08RqkHwMuBvbk+UWeh82b8XAgaR7gu5J+IGkN4AfAPMDHKK+tD1J6Ug+UtKXtZzoTQ4bb30J6ziL4tz0WBfw3cJvt6/T8Jss/s/2zeu6CzvZcs4VGL+iSwF+BybbfPL3zhr6F/W9Ajdl2lGUxZPuHKntnjgEupQxdPZvHon/VD8BrAJ+mbMW1p8tm9mOA9wOvsf0NSesBT9s+v4fN7aksQhvBv+2xeB5lF4DVJJ1AmdW3MXCipPlt79UJZnkTaZfBHo/O7FrbkyV9v3HuPI2lGobdp/Kh1Ahm21N6RXYArlfZh3YcsBWwAWWo+cQ8Fv2p9o5OAy6T9CRl8sdOwOm2b5W0MLCXpEWay2QM17+HDGtGPO9A4FTbO1JWIl+HMn37RsrQ5sLNk4fri0YbDbbsSf2584YAcC3wbUlLNYNZdJ+keYHVgE2BtYEzgGNc1gs8mDKceWnvWhjdVntF15S0r8uWaNsCT0r6YT3lYUoZyQKN2wzb19gMa8aw1VwOo15eA7iZstbS8cCfgdOAw4Fv236ynjdsP8210Uwse/LcrDBJG3dmAkb3aMB2V/Wx+QmwCDA3sKXtJ1T2Jr7K9jk9amoMIUkjKa+xB9neTdIqwC8p2zD9Bfi165Zpw116zmJYUmPz61qcurLtKylvHs/aPsj2nyiziG7pBDMY3p/m2sjP75W5E6V37ADKwqYHS1rU9tQ664vGEg157euiTjCTtJakN1AC2UWUnrPdazDblDLMeUfvWhpDQdISkkbWGe5vADaX9GPb11CWT7kS+HGC2fPScxbDVn1DPxWYaPsLjWMn/3979x5t+Xjfcfz9wRBjpJIwLmPQhrik4raCEkSEqlqspNrlkmgykZi6h5YQ9zZxj8sonSI0qEtaa4pGqXuLXKiIaGUMGaRjMELMGHTM+vSP59nsHINJZs75/fben9das9acsy/rmXVmn9/39zzf5/NQ+l8ETLf91c5jKczaJbEn7TKk+X8CZefljcD7gIOBfYF9gMcpx/Psb/unDQ03RoCkccBpwE3AzbZn1f6yJyiRKUdIer/tlxsdaMvk7jEGiqRtur7cEXijqzBbql5YDgTuAu5PYdZOiT1pnyGF2WqUpaqPA18DHqX0ll1OCQQ+FtgjhVl/6o5Osf2/lPaQPwS2l7SK7Rcpn88DJa2dwuztslszBoakDYENKc3HAM8Ac2v45TyXoMNRwMq2z+163a/1z0Sz3iH25AFJewLXSZpte5LtmZKOTOzJ8BtSmB1AafrvHJ31Y+BiSgP4d4EDbE9taKgxzLpmsz8FbE3p/7wUeAH4PDBW0i8pp61sZntac6Ntr8ycxcCw/bDtC1QOVT6EEoS5EmUr/5j6tGsouzS7X5fCrEW6Yk/uoNyNX1Iby6dRYk8OknR0fe6bsSdNjXcQdBVmu1N+JmdRzkTcE1jJ9rOUC/T3gLlNjTOGXy3MPg18i3Is14cpvbsPUmZPV6MscV/nemZqPp9vl56z6Htdu/lGUfpdXgImUHJ2HqBcNH5FOWj3SdtfamywsVAkTQYes32mpKmUpvL/pBzHtBGwt+0jmxzjoJG0HmVm7DsuAbNjKfE0TwBn1ZnMX9shHf2pZgr+wvYF9etjKFl2O9p+rWZGzkm7yDvLsmb0tfrh78x8XQg8BlwBzKPsEppM6YEZB6xu+976uixltsgCLuqXAD+TdDNwJm/FnoyhxJ4cWV+XX/7DRNLKdUas42VKBM2+ku6xfa/KiQDXUGYzj09h1n9Uzq5dnZJPNqMuWb9C2aDT2Rl9OuUkiNHAay5HdWXn+7tIcRZ9rWu55UBgvO396td316fsD6xp+3xKPtbQgi4a1h17ApwKXGn7h5J+lxp7Up+X2JMRUmfJ/lvSOcD/2L7I9gxJp1Jmpo+WdEot0P4MGJ3PVP+RtD5wJaWvcBNghqSbKDfCP5H0lO3zJW1ZH38/5fzMeA8pzqIvdc+0SFoWGAWsIGkicLHt2ZLupGzxH9/92lzQ26Urx+wGSuzJQ/Wh6cA8lWO2RCkSLoHMmI2AV4D7gGeBPeou6GuBO2yfI2kecGrdkPF9ckHuO7UwuwQ4z/ZldRl7fWASZRPAlsC/SNqEsmv3aNvTmxpvr0nPWfSdrt18SwA7AHNt3yNpP8phu/fx1iHLb56xmAt6u0jaxvZ/1L/vBBxoe/f69VIu4bLjgc8CY2x/oz6Wn+MIkHQ2pbl7H+BPKc3/KwCHA8vWx+6z/XRjg4xhUXe43025IdpnyGPbAcdT/l/Mo0wCjan5g/lsLqTs1oy+01WY3QRsA/ydpPOAqynNyVtT+mLkHH7dSl2xJx1vxp7UgrqT+r+y7XO7CrMl8nMcXl07644CDKxI+flsSMkz+zqlULs5hVnfmgecAYyStM+Qxx6kzGRvZfsF28/afhzyO/Y3kWXN6FcnUpZYTpX0Scpy2BxJF1G2cc/PL4r2sv0w8LCkI4HXKBs3OrEnVwOvUxrNvw/c3/W69DUNsxqVIMoFeBolMmFT4HDbaUcQZgAACgxJREFUUyR9BHg++XL9q2ZCXk/5bE6QhO0r62MvS3qERKYskhRn0RcWsLtyKjBf0q3A92yfVy8a422f2cwo470sIPZkKiX25AlKgOWlwLaSOrEnpzc32sFVb2xel3Q5JdR5kuu5pU7A7ECw/YqkW+qXE+pn93JJW1FCiC9ucHg9L8VZ9Lwhzf+jKXdzL1FmVk60fUZ96qnAI8Bt9bnpf2iRxJ70Hts/qwHAa0oabTuzJQNkSIG2V21H2BY4pmvjTvwWUpxFz+vqMbuT0vsyEzgB+Evg0FqwbQk8a/u4rtelMGuRxJ70rPsomzKiTy3oRrZzU9xVoI2iHHB+qO3rc/O7aLJbM3rWkBmzz1L6Xi6nNCP/PuUsv42AVYDlbX+7PjczLS2ygNiT/SmHlV9KiT15Q9JywM6Uou2c5kYbC5JZs/4naRfKrNiTwNW2Xxzy2X0fsILLSRApzBZRirPoSV29SUtQGvw/Rjmr7V8lrQLsB2wMHGv70aGva2bUMVRiTyLaq/M5k7QBcBXlBIiVKDe8E22/oBzJNSwSpRE9p7OUVXeMfYcyO/ZR4E8krWh7JuWA3ccohzC/KYVZuyT2JKK9amH2CeAk4GTbJwOnUM6yvbD+vk1hNgxSnEXP6bown06Z/Z0A7Eg52+1oSWNdzvw7xfa5TY0zFtqJlNiT44EXqbEnlAL7FyT2JKJJr1B6dneoXz9DiU+ZCVwiaVRX9l0sJlnWjJ4kaSVgImVJcw/bd9d4hb+n7NQ8zPbs+twsgbXI0KVlSZ8D5lN6BG+t2XSd2JPbmhpnxCDqWsocB7xue1Zd1pxCiUyZVJ+3CqXH7NF3e7/47WS3ZvQESZdSlinvtX2n7eclnUUJOjxc0vzaqzQR2KtTmEGWwNoksScR7VYLs92Bw4CX6k7MycBngGtr7+eZtX1kZpNj7WeZOYvWqxfx6yhbtecCsygX76coF/dDKFPu53bPtOSC3k7vEHuyF3Aopem4E3vyhYaGGDGwVA6xP5OSKXgcsAtl5/RplN7eKcD2tp9sbJADIMVZ9ARJB1CylHYHTqac6bc6JcsMYDdgGdtnNzPCeDeJPYnoDZL+GHgeGEspzs4CjqCcBHEClPDZxgY4IFKcRat1z35JuhGYbPsGSVOATSg7+qYC/9BJjI92SexJRHt19ZhtASxp+15JywCTgIts/0jS3wKrAkfY/nmjAx4Q2a0ZrVZ/aXT+n14LfEzShcAHbK9JmTmbksKsnRJ7EtFe9QbIkv4IuLJ+rxNb8wZwnKRPAesBp6UwGzmZOYueIWkt4FZKzbbOAh5Pj1lLSToDWM32PpKWB75N6Rk8zfZzkt5v++VmRxkxGCT9ju1f1b+vTCnMTqibqjrB0OOAr1FuqM6wfUODQx44mTmLnmF7OnAQcI+k5bpm1DqPpzBroRp78jKwo6Rt607aicBawCmSlu8UZslLihhe9Si0EyStWr/1HGVjzmxJS/JWXbCE7YOB3WsrST6bIyjFWfSa+4EPA2tn2audJF0q6RhJnwSw/Tylqfg0SuzJ1rZfoBRoDyX2JGJEzQe+CSwp6YD6mTPwaZeDzOdJ+jjwN5I+ZPtFyGdzpGVZM3qOpLVtT2t6HPF2iT2JaK+u5v91gTWAo4DzgB9SIjIeosxy7wwcZ3tKY4MdcJk5i57TKcwyzd4+tucC11PuxPcEfgl8mZKTNI5ycPK/UXZsdr8uhVnEMKuF2baUgmwGcDbwFWAzYCdK6PN04C9sT8nv2OZk5iwiFovEnkS0m6R1KNlll9m+vW7O2Y4SZzPF9mVNji/ekuObImKx6MSe1F7ATuzJLtTYE0mbAWNTmEWMvNrsvzMl9HlHSXfZni3pDkotsJ+k24GnM5PdvMycRcRil9iTiOZ19ZiNBWbbflXS54EtgLuAf645hGOAZevmnWiBzJxFxGJne7qkg4A969b9V7t316Ywixh+tTDbFTgWmC7pVeBAYAXKGbZLS7rK9hxgToNDjSGyISAihktiTyIaVFsJjgH2oDT7b0vZNX0x8DSwFbByYwOMd5RlzYgYNok9iWiOpA2BDQABhwF72f65pA2AR4HVbT/V5BhjwVKcRcSwS49ZxPAb+jmTtCnwj8BsYDvbc2s49NHAvrafbWak8V6yrBkRwy6FWcTw6/SYSbpI0oHA45TTAMYBm0v6InA+cH4Ks3bLzFlEREQfkLQGcAVwA/BB4PcoGWa7UXZoLgdcY/uWzGa3W4qziIiIHlePZNoCWMb2RfVg8/2AjwJH2n5K0pK25zc60FgoKc4iIiJ6UFeO2Q7AJEocxv8Be9ieKWllSnTGxsDelEibFGc9IMVZREREj5K0CXAi8FXbT0j6J8r5mKfbfk7SKsByth9vcJjxG8qGgIiIiB4kaVlKmOwOwEfqtycCawAnShpre2YKs96T4iwiIqIHSFpX0p6SxgPYfhW4GvgGcLCkrWzPAg6g7ND8UHOjjUWRZc2IiIiWkyTgTOAQ4LvAs5S8sjcoIbMHAdsBZ9u+S9Io2/OaGm8smsycRUREtFyNvbgZ+AFwHLAWcCpwEiUiYzLw78BRkj4A5Mi0HpaZs4iIiB4haQrwgO2/lrQvcCHwU8pJADOAe2zPaHKMsegycxYREdFykjrX628CS0vaCDgSOJgyk/ZBYFoKs/6QmbOIiIgeIWkscCXwCeAw25Pr90fbntvo4GKxSXEWERHRQyRtDpwHfMb2M5KWsJ0esz6SZc2IiIje8iDwCLBNCrP+tFTTA4iIiIiFZ3uepMnAUinM+lOWNSMiIiJaJMuaERERES2S4iwiIiKiRVKcRURERLRIirOIiIiIFklxFhEDQdLXJT0i6SeSfixpC0mHSRq9EK+dMxJjjIiARGlExACQ9AfArsCmtl+XtCKwNHANcAWQZPWIaI3MnEXEIFgVmGX7dQDbs4A9gNWAOyTdIelLks7uvEDSlyV9a+gbSforST+qM3AnjdQ/ICIGR4qziBgEtwDjJU2VdIGk7WyfB8wAtre9PXA1sJukUfU1XwQu7X4TSTsB6wCbAxsDm0nadsT+FRExEFKcRUTfsz0H2Az4CvA8cI2kLwx5zivA7cCuktYDRtl+eMhb7VT/PAj8F7AepViLiFhs0nMWEQPB9nzgTuBOSQ8Df76Ap10MHAM8ypBZs0rAKbYnD9c4IyIycxYRfU/SupK6Z7g2Bp4EZgPLd75p+wfAeGBv4KoFvNXNwARJY+r7jpM0dtgGHhEDKTNnETEIxgCTJK0AvAFMoyxx7gXcJOmZ2ncGcC2wse0Xh76J7VskrQ/cJwlgDvA54LkR+DdExIDIwecREV0k3Qicbfu2pscSEYMpy5oREYCkFSRNBV5NYRYRTcrMWURERESLZOYsIiIiokVSnEVERES0SIqziIiIiBZJcRYRERHRIinOIiIiIlokxVlEREREi/w/e57eOZBQkgAAAAAASUVORK5CYII=\n",
      "text/plain": [
       "<Figure size 720x360 with 1 Axes>"
      ]
     },
     "metadata": {
      "needs_background": "light"
     },
     "output_type": "display_data"
    },
    {
     "data": {
      "text/plain": [
       "<function matplotlib.pyplot.tight_layout(pad=1.08, h_pad=None, w_pad=None, rect=None)>"
      ]
     },
     "execution_count": 79,
     "metadata": {},
     "output_type": "execute_result"
    }
   ],
   "source": [
    "style_chart = style_data.plot(kind='bar', facecolor=\"blue\", figsize=(10,5))\n",
    "plt.xticks(rotation=45)\n",
    "plt.title(\"Style Brewed Popularity\")\n",
    "style_chart.set_xlabel(\"Style\")\n",
    "style_chart.set_ylabel(\"Total\")\n",
    "plt.show()\n",
    "plt.tight_layout"
   ]
  },
  {
   "cell_type": "code",
   "execution_count": 14,
   "metadata": {},
   "outputs": [
    {
     "data": {
      "text/html": [
       "<div>\n",
       "<style scoped>\n",
       "    .dataframe tbody tr th:only-of-type {\n",
       "        vertical-align: middle;\n",
       "    }\n",
       "\n",
       "    .dataframe tbody tr th {\n",
       "        vertical-align: top;\n",
       "    }\n",
       "\n",
       "    .dataframe thead th {\n",
       "        text-align: right;\n",
       "    }\n",
       "</style>\n",
       "<table border=\"1\" class=\"dataframe\">\n",
       "  <thead>\n",
       "    <tr style=\"text-align: right;\">\n",
       "      <th></th>\n",
       "      <th>style</th>\n",
       "    </tr>\n",
       "    <tr>\n",
       "      <th>state</th>\n",
       "      <th></th>\n",
       "    </tr>\n",
       "  </thead>\n",
       "  <tbody>\n",
       "    <tr>\n",
       "      <th>MN</th>\n",
       "      <td>American IPA</td>\n",
       "    </tr>\n",
       "    <tr>\n",
       "      <th>MN</th>\n",
       "      <td>Milk / Sweet Stout</td>\n",
       "    </tr>\n",
       "    <tr>\n",
       "      <th>MN</th>\n",
       "      <td>English Brown Ale</td>\n",
       "    </tr>\n",
       "    <tr>\n",
       "      <th>MN</th>\n",
       "      <td>Pumpkin Ale</td>\n",
       "    </tr>\n",
       "    <tr>\n",
       "      <th>MN</th>\n",
       "      <td>American Porter</td>\n",
       "    </tr>\n",
       "    <tr>\n",
       "      <th>...</th>\n",
       "      <td>...</td>\n",
       "    </tr>\n",
       "    <tr>\n",
       "      <th>NY</th>\n",
       "      <td>Hefeweizen</td>\n",
       "    </tr>\n",
       "    <tr>\n",
       "      <th>NY</th>\n",
       "      <td>American IPA</td>\n",
       "    </tr>\n",
       "    <tr>\n",
       "      <th>NY</th>\n",
       "      <td>Milk / Sweet Stout</td>\n",
       "    </tr>\n",
       "    <tr>\n",
       "      <th>NY</th>\n",
       "      <td>American Pale Ale (APA)</td>\n",
       "    </tr>\n",
       "    <tr>\n",
       "      <th>AK</th>\n",
       "      <td>English Pale Ale</td>\n",
       "    </tr>\n",
       "  </tbody>\n",
       "</table>\n",
       "<p>2410 rows × 1 columns</p>\n",
       "</div>"
      ],
      "text/plain": [
       "                         style\n",
       "state                         \n",
       " MN               American IPA\n",
       " MN         Milk / Sweet Stout\n",
       " MN          English Brown Ale\n",
       " MN                Pumpkin Ale\n",
       " MN            American Porter\n",
       "...                        ...\n",
       " NY                 Hefeweizen\n",
       " NY               American IPA\n",
       " NY         Milk / Sweet Stout\n",
       " NY    American Pale Ale (APA)\n",
       " AK           English Pale Ale\n",
       "\n",
       "[2410 rows x 1 columns]"
      ]
     },
     "execution_count": 14,
     "metadata": {},
     "output_type": "execute_result"
    }
   ],
>>>>>>> 8457d42fc39d225daf96f9ce7fe033f29a6b50da
   "source": [
    "state_and_style = poop_df[[\"state\",\"style\"]]\n",
    "state_and_style = state_and_style.set_index(\"state\")\n",
    "state_and_style"
   ]
  },
  {
   "cell_type": "code",
<<<<<<< HEAD
   "execution_count": null,
   "metadata": {},
   "outputs": [],
=======
   "execution_count": 15,
   "metadata": {},
   "outputs": [
    {
     "data": {
      "text/html": [
       "<div>\n",
       "<style scoped>\n",
       "    .dataframe tbody tr th:only-of-type {\n",
       "        vertical-align: middle;\n",
       "    }\n",
       "\n",
       "    .dataframe tbody tr th {\n",
       "        vertical-align: top;\n",
       "    }\n",
       "\n",
       "    .dataframe thead th {\n",
       "        text-align: right;\n",
       "    }\n",
       "</style>\n",
       "<table border=\"1\" class=\"dataframe\">\n",
       "  <thead>\n",
       "    <tr style=\"text-align: right;\">\n",
       "      <th></th>\n",
       "      <th>brewery_id</th>\n",
       "      <th>name_x</th>\n",
       "      <th>city</th>\n",
       "      <th>state</th>\n",
       "      <th>Unnamed: 0</th>\n",
       "      <th>abv</th>\n",
       "      <th>ibu</th>\n",
       "      <th>id</th>\n",
       "      <th>name_y</th>\n",
       "      <th>style</th>\n",
       "      <th>ounces</th>\n",
       "    </tr>\n",
       "  </thead>\n",
       "  <tbody>\n",
       "    <tr>\n",
       "      <th>374</th>\n",
       "      <td>51</td>\n",
       "      <td>Upslope Brewing Company</td>\n",
       "      <td>Boulder</td>\n",
       "      <td>CO</td>\n",
       "      <td>2278</td>\n",
       "      <td>0.128</td>\n",
       "      <td>NaN</td>\n",
       "      <td>2565</td>\n",
       "      <td>Lee Hill Series Vol. 5 - Belgian Style Quadrup...</td>\n",
       "      <td>Quadrupel (Quad)</td>\n",
       "      <td>19.2</td>\n",
       "    </tr>\n",
       "    <tr>\n",
       "      <th>7</th>\n",
       "      <td>1</td>\n",
       "      <td>Against the Grain Brewery</td>\n",
       "      <td>Louisville</td>\n",
       "      <td>KY</td>\n",
       "      <td>70</td>\n",
       "      <td>0.125</td>\n",
       "      <td>80.0</td>\n",
       "      <td>2685</td>\n",
       "      <td>London Balling</td>\n",
       "      <td>English Barleywine</td>\n",
       "      <td>16.0</td>\n",
       "    </tr>\n",
       "    <tr>\n",
       "      <th>143</th>\n",
       "      <td>17</td>\n",
       "      <td>Tin Man Brewing Company</td>\n",
       "      <td>Evansville</td>\n",
       "      <td>IN</td>\n",
       "      <td>2189</td>\n",
       "      <td>0.120</td>\n",
       "      <td>90.0</td>\n",
       "      <td>2621</td>\n",
       "      <td>Csar</td>\n",
       "      <td>Russian Imperial Stout</td>\n",
       "      <td>16.0</td>\n",
       "    </tr>\n",
       "    <tr>\n",
       "      <th>375</th>\n",
       "      <td>51</td>\n",
       "      <td>Upslope Brewing Company</td>\n",
       "      <td>Boulder</td>\n",
       "      <td>CO</td>\n",
       "      <td>2279</td>\n",
       "      <td>0.104</td>\n",
       "      <td>NaN</td>\n",
       "      <td>2564</td>\n",
       "      <td>Lee Hill Series Vol. 4 - Manhattan Style Rye Ale</td>\n",
       "      <td>Rye Beer</td>\n",
       "      <td>19.2</td>\n",
       "    </tr>\n",
       "    <tr>\n",
       "      <th>335</th>\n",
       "      <td>46</td>\n",
       "      <td>Sixpoint Craft Ales</td>\n",
       "      <td>Brooklyn</td>\n",
       "      <td>NY</td>\n",
       "      <td>1857</td>\n",
       "      <td>0.100</td>\n",
       "      <td>52.0</td>\n",
       "      <td>2574</td>\n",
       "      <td>4Beans</td>\n",
       "      <td>Baltic Porter</td>\n",
       "      <td>12.0</td>\n",
       "    </tr>\n",
       "  </tbody>\n",
       "</table>\n",
       "</div>"
      ],
      "text/plain": [
       "     brewery_id                     name_x        city state  Unnamed: 0  \\\n",
       "374          51    Upslope Brewing Company     Boulder    CO        2278   \n",
       "7             1  Against the Grain Brewery  Louisville    KY          70   \n",
       "143          17    Tin Man Brewing Company  Evansville    IN        2189   \n",
       "375          51    Upslope Brewing Company     Boulder    CO        2279   \n",
       "335          46        Sixpoint Craft Ales    Brooklyn    NY        1857   \n",
       "\n",
       "       abv   ibu    id                                             name_y  \\\n",
       "374  0.128   NaN  2565  Lee Hill Series Vol. 5 - Belgian Style Quadrup...   \n",
       "7    0.125  80.0  2685                                     London Balling   \n",
       "143  0.120  90.0  2621                                               Csar   \n",
       "375  0.104   NaN  2564   Lee Hill Series Vol. 4 - Manhattan Style Rye Ale   \n",
       "335  0.100  52.0  2574                                             4Beans   \n",
       "\n",
       "                      style  ounces  \n",
       "374        Quadrupel (Quad)    19.2  \n",
       "7        English Barleywine    16.0  \n",
       "143  Russian Imperial Stout    16.0  \n",
       "375                Rye Beer    19.2  \n",
       "335           Baltic Porter    12.0  "
      ]
     },
     "execution_count": 15,
     "metadata": {},
     "output_type": "execute_result"
    }
   ],
>>>>>>> 8457d42fc39d225daf96f9ce7fe033f29a6b50da
   "source": [
    "poop_df.nlargest(5, ['abv'])"
   ]
  },
  {
   "cell_type": "code",
<<<<<<< HEAD
   "execution_count": null,
=======
   "execution_count": 16,
>>>>>>> 8457d42fc39d225daf96f9ce7fe033f29a6b50da
   "metadata": {},
   "outputs": [],
   "source": [
    "top_5 = poop_df.nlargest(5, ['abv'])"
   ]
  },
  {
   "cell_type": "code",
<<<<<<< HEAD
   "execution_count": null,
   "metadata": {},
   "outputs": [],
=======
   "execution_count": 17,
   "metadata": {
    "scrolled": false
   },
   "outputs": [
    {
     "data": {
      "text/html": [
       "<div>\n",
       "<style scoped>\n",
       "    .dataframe tbody tr th:only-of-type {\n",
       "        vertical-align: middle;\n",
       "    }\n",
       "\n",
       "    .dataframe tbody tr th {\n",
       "        vertical-align: top;\n",
       "    }\n",
       "\n",
       "    .dataframe thead th {\n",
       "        text-align: right;\n",
       "    }\n",
       "</style>\n",
       "<table border=\"1\" class=\"dataframe\">\n",
       "  <thead>\n",
       "    <tr style=\"text-align: right;\">\n",
       "      <th></th>\n",
       "      <th>brewery_id</th>\n",
       "      <th>name_x</th>\n",
       "      <th>city</th>\n",
       "      <th>state</th>\n",
       "      <th>Unnamed: 0</th>\n",
       "      <th>abv</th>\n",
       "      <th>ibu</th>\n",
       "      <th>id</th>\n",
       "      <th>name_y</th>\n",
       "      <th>style</th>\n",
       "      <th>ounces</th>\n",
       "    </tr>\n",
       "  </thead>\n",
       "  <tbody>\n",
       "    <tr>\n",
       "      <th>374</th>\n",
       "      <td>51</td>\n",
       "      <td>Upslope Brewing Company</td>\n",
       "      <td>Boulder</td>\n",
       "      <td>CO</td>\n",
       "      <td>2278</td>\n",
       "      <td>0.128</td>\n",
       "      <td>NaN</td>\n",
       "      <td>2565</td>\n",
       "      <td>Lee Hill Series Vol. 5 - Belgian Style Quadrup...</td>\n",
       "      <td>Quadrupel (Quad)</td>\n",
       "      <td>19.2</td>\n",
       "    </tr>\n",
       "    <tr>\n",
       "      <th>7</th>\n",
       "      <td>1</td>\n",
       "      <td>Against the Grain Brewery</td>\n",
       "      <td>Louisville</td>\n",
       "      <td>KY</td>\n",
       "      <td>70</td>\n",
       "      <td>0.125</td>\n",
       "      <td>80.0</td>\n",
       "      <td>2685</td>\n",
       "      <td>London Balling</td>\n",
       "      <td>English Barleywine</td>\n",
       "      <td>16.0</td>\n",
       "    </tr>\n",
       "    <tr>\n",
       "      <th>143</th>\n",
       "      <td>17</td>\n",
       "      <td>Tin Man Brewing Company</td>\n",
       "      <td>Evansville</td>\n",
       "      <td>IN</td>\n",
       "      <td>2189</td>\n",
       "      <td>0.120</td>\n",
       "      <td>90.0</td>\n",
       "      <td>2621</td>\n",
       "      <td>Csar</td>\n",
       "      <td>Russian Imperial Stout</td>\n",
       "      <td>16.0</td>\n",
       "    </tr>\n",
       "    <tr>\n",
       "      <th>375</th>\n",
       "      <td>51</td>\n",
       "      <td>Upslope Brewing Company</td>\n",
       "      <td>Boulder</td>\n",
       "      <td>CO</td>\n",
       "      <td>2279</td>\n",
       "      <td>0.104</td>\n",
       "      <td>NaN</td>\n",
       "      <td>2564</td>\n",
       "      <td>Lee Hill Series Vol. 4 - Manhattan Style Rye Ale</td>\n",
       "      <td>Rye Beer</td>\n",
       "      <td>19.2</td>\n",
       "    </tr>\n",
       "    <tr>\n",
       "      <th>335</th>\n",
       "      <td>46</td>\n",
       "      <td>Sixpoint Craft Ales</td>\n",
       "      <td>Brooklyn</td>\n",
       "      <td>NY</td>\n",
       "      <td>1857</td>\n",
       "      <td>0.100</td>\n",
       "      <td>52.0</td>\n",
       "      <td>2574</td>\n",
       "      <td>4Beans</td>\n",
       "      <td>Baltic Porter</td>\n",
       "      <td>12.0</td>\n",
       "    </tr>\n",
       "  </tbody>\n",
       "</table>\n",
       "</div>"
      ],
      "text/plain": [
       "     brewery_id                     name_x        city state  Unnamed: 0  \\\n",
       "374          51    Upslope Brewing Company     Boulder    CO        2278   \n",
       "7             1  Against the Grain Brewery  Louisville    KY          70   \n",
       "143          17    Tin Man Brewing Company  Evansville    IN        2189   \n",
       "375          51    Upslope Brewing Company     Boulder    CO        2279   \n",
       "335          46        Sixpoint Craft Ales    Brooklyn    NY        1857   \n",
       "\n",
       "       abv   ibu    id                                             name_y  \\\n",
       "374  0.128   NaN  2565  Lee Hill Series Vol. 5 - Belgian Style Quadrup...   \n",
       "7    0.125  80.0  2685                                     London Balling   \n",
       "143  0.120  90.0  2621                                               Csar   \n",
       "375  0.104   NaN  2564   Lee Hill Series Vol. 4 - Manhattan Style Rye Ale   \n",
       "335  0.100  52.0  2574                                             4Beans   \n",
       "\n",
       "                      style  ounces  \n",
       "374        Quadrupel (Quad)    19.2  \n",
       "7        English Barleywine    16.0  \n",
       "143  Russian Imperial Stout    16.0  \n",
       "375                Rye Beer    19.2  \n",
       "335           Baltic Porter    12.0  "
      ]
     },
     "execution_count": 17,
     "metadata": {},
     "output_type": "execute_result"
    }
   ],
>>>>>>> 8457d42fc39d225daf96f9ce7fe033f29a6b50da
   "source": [
    "top_5"
   ]
  },
  {
   "cell_type": "code",
<<<<<<< HEAD
   "execution_count": null,
   "metadata": {},
   "outputs": [],
=======
   "execution_count": 84,
   "metadata": {},
   "outputs": [
    {
     "data": {
      "image/png": "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\n",
      "text/plain": [
       "<Figure size 720x360 with 1 Axes>"
      ]
     },
     "metadata": {
      "needs_background": "light"
     },
     "output_type": "display_data"
    },
    {
     "data": {
      "text/plain": [
       "<function matplotlib.pyplot.tight_layout(pad=1.08, h_pad=None, w_pad=None, rect=None)>"
      ]
     },
     "execution_count": 84,
     "metadata": {},
     "output_type": "execute_result"
    }
   ],
>>>>>>> 8457d42fc39d225daf96f9ce7fe033f29a6b50da
   "source": [
    "#state_chart = state_data.plot(kind='bar', facecolor=\"blue\", figsize=(10,5))\n",
    "# plt.title(\"State Brewery Popularity\")\n",
    "# state_chart.set_xlabel(\"State\")\n",
    "# state_chart.set_ylabel(\"Number of Breweries\")\n",
    "# plt.show()\n",
    "# plt.tight_layout\n",
    "\n",
    "top_5_chart = top_5.plot(kind='bar', facecolor=\"blue\", figsize=(10,5))\n",
    "plt.title(\"ABV by style\")\n",
    "top_5_chart.set_xlabel(\"style\")\n",
    "top_5_chart.set_ylabel(\"abv\")\n",
    "plt.show()\n",
    "plt.tight_layout"
   ]
  },
  {
   "cell_type": "code",
<<<<<<< HEAD
   "execution_count": null,
   "metadata": {},
   "outputs": [],
=======
   "execution_count": 19,
   "metadata": {},
   "outputs": [
    {
     "data": {
      "text/html": [
       "<div>\n",
       "<style scoped>\n",
       "    .dataframe tbody tr th:only-of-type {\n",
       "        vertical-align: middle;\n",
       "    }\n",
       "\n",
       "    .dataframe tbody tr th {\n",
       "        vertical-align: top;\n",
       "    }\n",
       "\n",
       "    .dataframe thead th {\n",
       "        text-align: right;\n",
       "    }\n",
       "</style>\n",
       "<table border=\"1\" class=\"dataframe\">\n",
       "  <thead>\n",
       "    <tr style=\"text-align: right;\">\n",
       "      <th></th>\n",
       "      <th>abv</th>\n",
       "    </tr>\n",
       "    <tr>\n",
       "      <th>style</th>\n",
       "      <th></th>\n",
       "    </tr>\n",
       "  </thead>\n",
       "  <tbody>\n",
       "    <tr>\n",
       "      <th>American IPA</th>\n",
       "      <td>0.045</td>\n",
       "    </tr>\n",
       "    <tr>\n",
       "      <th>Milk / Sweet Stout</th>\n",
       "      <td>0.049</td>\n",
       "    </tr>\n",
       "    <tr>\n",
       "      <th>English Brown Ale</th>\n",
       "      <td>0.048</td>\n",
       "    </tr>\n",
       "    <tr>\n",
       "      <th>Pumpkin Ale</th>\n",
       "      <td>0.060</td>\n",
       "    </tr>\n",
       "    <tr>\n",
       "      <th>American Porter</th>\n",
       "      <td>0.060</td>\n",
       "    </tr>\n",
       "    <tr>\n",
       "      <th>...</th>\n",
       "      <td>...</td>\n",
       "    </tr>\n",
       "    <tr>\n",
       "      <th>Hefeweizen</th>\n",
       "      <td>0.049</td>\n",
       "    </tr>\n",
       "    <tr>\n",
       "      <th>American IPA</th>\n",
       "      <td>0.068</td>\n",
       "    </tr>\n",
       "    <tr>\n",
       "      <th>Milk / Sweet Stout</th>\n",
       "      <td>0.049</td>\n",
       "    </tr>\n",
       "    <tr>\n",
       "      <th>American Pale Ale (APA)</th>\n",
       "      <td>0.043</td>\n",
       "    </tr>\n",
       "    <tr>\n",
       "      <th>English Pale Ale</th>\n",
       "      <td>0.049</td>\n",
       "    </tr>\n",
       "  </tbody>\n",
       "</table>\n",
       "<p>2410 rows × 1 columns</p>\n",
       "</div>"
      ],
      "text/plain": [
       "                           abv\n",
       "style                         \n",
       "American IPA             0.045\n",
       "Milk / Sweet Stout       0.049\n",
       "English Brown Ale        0.048\n",
       "Pumpkin Ale              0.060\n",
       "American Porter          0.060\n",
       "...                        ...\n",
       "Hefeweizen               0.049\n",
       "American IPA             0.068\n",
       "Milk / Sweet Stout       0.049\n",
       "American Pale Ale (APA)  0.043\n",
       "English Pale Ale         0.049\n",
       "\n",
       "[2410 rows x 1 columns]"
      ]
     },
     "execution_count": 19,
     "metadata": {},
     "output_type": "execute_result"
    }
   ],
>>>>>>> 8457d42fc39d225daf96f9ce7fe033f29a6b50da
   "source": [
    "abv_and_style = poop_df[[\"style\",\"abv\"]]\n",
    "abv_and_style = abv_and_style.set_index(\"style\")\n",
    "abv_and_style"
   ]
  },
  {
   "cell_type": "code",
<<<<<<< HEAD
   "execution_count": null,
   "metadata": {
    "scrolled": false
   },
   "outputs": [],
=======
   "execution_count": 20,
   "metadata": {
    "scrolled": false
   },
   "outputs": [
    {
     "data": {
      "text/html": [
       "<div>\n",
       "<style scoped>\n",
       "    .dataframe tbody tr th:only-of-type {\n",
       "        vertical-align: middle;\n",
       "    }\n",
       "\n",
       "    .dataframe tbody tr th {\n",
       "        vertical-align: top;\n",
       "    }\n",
       "\n",
       "    .dataframe thead th {\n",
       "        text-align: right;\n",
       "    }\n",
       "</style>\n",
       "<table border=\"1\" class=\"dataframe\">\n",
       "  <thead>\n",
       "    <tr style=\"text-align: right;\">\n",
       "      <th></th>\n",
       "      <th>brewery_id</th>\n",
       "      <th>name_x</th>\n",
       "      <th>city</th>\n",
       "      <th>state</th>\n",
       "      <th>Unnamed: 0</th>\n",
       "      <th>abv</th>\n",
       "      <th>ibu</th>\n",
       "      <th>id</th>\n",
       "      <th>name_y</th>\n",
       "      <th>style</th>\n",
       "      <th>ounces</th>\n",
       "    </tr>\n",
       "  </thead>\n",
       "  <tbody>\n",
       "    <tr>\n",
       "      <th>0</th>\n",
       "      <td>0</td>\n",
       "      <td>NorthGate Brewing</td>\n",
       "      <td>Minneapolis</td>\n",
       "      <td>MN</td>\n",
       "      <td>1493</td>\n",
       "      <td>0.045</td>\n",
       "      <td>50.0</td>\n",
       "      <td>2692</td>\n",
       "      <td>Get Together</td>\n",
       "      <td>American IPA</td>\n",
       "      <td>16.0</td>\n",
       "    </tr>\n",
       "    <tr>\n",
       "      <th>1</th>\n",
       "      <td>0</td>\n",
       "      <td>NorthGate Brewing</td>\n",
       "      <td>Minneapolis</td>\n",
       "      <td>MN</td>\n",
       "      <td>1494</td>\n",
       "      <td>0.049</td>\n",
       "      <td>26.0</td>\n",
       "      <td>2691</td>\n",
       "      <td>Maggie's Leap</td>\n",
       "      <td>Milk / Sweet Stout</td>\n",
       "      <td>16.0</td>\n",
       "    </tr>\n",
       "    <tr>\n",
       "      <th>2</th>\n",
       "      <td>0</td>\n",
       "      <td>NorthGate Brewing</td>\n",
       "      <td>Minneapolis</td>\n",
       "      <td>MN</td>\n",
       "      <td>1495</td>\n",
       "      <td>0.048</td>\n",
       "      <td>19.0</td>\n",
       "      <td>2690</td>\n",
       "      <td>Wall's End</td>\n",
       "      <td>English Brown Ale</td>\n",
       "      <td>16.0</td>\n",
       "    </tr>\n",
       "    <tr>\n",
       "      <th>3</th>\n",
       "      <td>0</td>\n",
       "      <td>NorthGate Brewing</td>\n",
       "      <td>Minneapolis</td>\n",
       "      <td>MN</td>\n",
       "      <td>1496</td>\n",
       "      <td>0.060</td>\n",
       "      <td>38.0</td>\n",
       "      <td>2689</td>\n",
       "      <td>Pumpion</td>\n",
       "      <td>Pumpkin Ale</td>\n",
       "      <td>16.0</td>\n",
       "    </tr>\n",
       "    <tr>\n",
       "      <th>4</th>\n",
       "      <td>0</td>\n",
       "      <td>NorthGate Brewing</td>\n",
       "      <td>Minneapolis</td>\n",
       "      <td>MN</td>\n",
       "      <td>1497</td>\n",
       "      <td>0.060</td>\n",
       "      <td>25.0</td>\n",
       "      <td>2688</td>\n",
       "      <td>Stronghold</td>\n",
       "      <td>American Porter</td>\n",
       "      <td>16.0</td>\n",
       "    </tr>\n",
       "    <tr>\n",
       "      <th>...</th>\n",
       "      <td>...</td>\n",
       "      <td>...</td>\n",
       "      <td>...</td>\n",
       "      <td>...</td>\n",
       "      <td>...</td>\n",
       "      <td>...</td>\n",
       "      <td>...</td>\n",
       "      <td>...</td>\n",
       "      <td>...</td>\n",
       "      <td>...</td>\n",
       "      <td>...</td>\n",
       "    </tr>\n",
       "    <tr>\n",
       "      <th>2386</th>\n",
       "      <td>544</td>\n",
       "      <td>Pyramid Breweries</td>\n",
       "      <td>Seattle</td>\n",
       "      <td>WA</td>\n",
       "      <td>1677</td>\n",
       "      <td>0.052</td>\n",
       "      <td>18.0</td>\n",
       "      <td>82</td>\n",
       "      <td>Haywire Hefeweizen (2010)</td>\n",
       "      <td>Hefeweizen</td>\n",
       "      <td>16.0</td>\n",
       "    </tr>\n",
       "    <tr>\n",
       "      <th>2387</th>\n",
       "      <td>545</td>\n",
       "      <td>Lancaster Brewing Company</td>\n",
       "      <td>Lancaster</td>\n",
       "      <td>PA</td>\n",
       "      <td>1189</td>\n",
       "      <td>0.066</td>\n",
       "      <td>30.0</td>\n",
       "      <td>392</td>\n",
       "      <td>Rumspringa Golden Bock</td>\n",
       "      <td>Maibock / Helles Bock</td>\n",
       "      <td>12.0</td>\n",
       "    </tr>\n",
       "    <tr>\n",
       "      <th>2388</th>\n",
       "      <td>545</td>\n",
       "      <td>Lancaster Brewing Company</td>\n",
       "      <td>Lancaster</td>\n",
       "      <td>PA</td>\n",
       "      <td>1190</td>\n",
       "      <td>0.048</td>\n",
       "      <td>28.0</td>\n",
       "      <td>195</td>\n",
       "      <td>Lancaster German Style Kölsch</td>\n",
       "      <td>Kölsch</td>\n",
       "      <td>12.0</td>\n",
       "    </tr>\n",
       "    <tr>\n",
       "      <th>2389</th>\n",
       "      <td>546</td>\n",
       "      <td>Upstate Brewing Company</td>\n",
       "      <td>Elmira</td>\n",
       "      <td>NY</td>\n",
       "      <td>2296</td>\n",
       "      <td>0.053</td>\n",
       "      <td>22.0</td>\n",
       "      <td>382</td>\n",
       "      <td>Common Sense Kentucky Common Ale</td>\n",
       "      <td>American Brown Ale</td>\n",
       "      <td>16.0</td>\n",
       "    </tr>\n",
       "    <tr>\n",
       "      <th>2390</th>\n",
       "      <td>546</td>\n",
       "      <td>Upstate Brewing Company</td>\n",
       "      <td>Elmira</td>\n",
       "      <td>NY</td>\n",
       "      <td>2297</td>\n",
       "      <td>0.065</td>\n",
       "      <td>70.0</td>\n",
       "      <td>381</td>\n",
       "      <td>Upstate I.P.W.</td>\n",
       "      <td>American IPA</td>\n",
       "      <td>12.0</td>\n",
       "    </tr>\n",
       "  </tbody>\n",
       "</table>\n",
       "<p>1403 rows × 11 columns</p>\n",
       "</div>"
      ],
      "text/plain": [
       "      brewery_id                     name_x         city state  Unnamed: 0  \\\n",
       "0              0         NorthGate Brewing   Minneapolis    MN        1493   \n",
       "1              0         NorthGate Brewing   Minneapolis    MN        1494   \n",
       "2              0         NorthGate Brewing   Minneapolis    MN        1495   \n",
       "3              0         NorthGate Brewing   Minneapolis    MN        1496   \n",
       "4              0         NorthGate Brewing   Minneapolis    MN        1497   \n",
       "...          ...                        ...          ...   ...         ...   \n",
       "2386         544          Pyramid Breweries      Seattle    WA        1677   \n",
       "2387         545  Lancaster Brewing Company    Lancaster    PA        1189   \n",
       "2388         545  Lancaster Brewing Company    Lancaster    PA        1190   \n",
       "2389         546    Upstate Brewing Company       Elmira    NY        2296   \n",
       "2390         546    Upstate Brewing Company       Elmira    NY        2297   \n",
       "\n",
       "        abv   ibu    id                            name_y  \\\n",
       "0     0.045  50.0  2692                      Get Together   \n",
       "1     0.049  26.0  2691                     Maggie's Leap   \n",
       "2     0.048  19.0  2690                        Wall's End   \n",
       "3     0.060  38.0  2689                           Pumpion   \n",
       "4     0.060  25.0  2688                        Stronghold   \n",
       "...     ...   ...   ...                               ...   \n",
       "2386  0.052  18.0    82         Haywire Hefeweizen (2010)   \n",
       "2387  0.066  30.0   392            Rumspringa Golden Bock   \n",
       "2388  0.048  28.0   195     Lancaster German Style Kölsch   \n",
       "2389  0.053  22.0   382  Common Sense Kentucky Common Ale   \n",
       "2390  0.065  70.0   381                    Upstate I.P.W.   \n",
       "\n",
       "                      style  ounces  \n",
       "0              American IPA    16.0  \n",
       "1        Milk / Sweet Stout    16.0  \n",
       "2         English Brown Ale    16.0  \n",
       "3               Pumpkin Ale    16.0  \n",
       "4           American Porter    16.0  \n",
       "...                     ...     ...  \n",
       "2386             Hefeweizen    16.0  \n",
       "2387  Maibock / Helles Bock    12.0  \n",
       "2388                 Kölsch    12.0  \n",
       "2389     American Brown Ale    16.0  \n",
       "2390           American IPA    12.0  \n",
       "\n",
       "[1403 rows x 11 columns]"
      ]
     },
     "execution_count": 20,
     "metadata": {},
     "output_type": "execute_result"
    }
   ],
>>>>>>> 8457d42fc39d225daf96f9ce7fe033f29a6b50da
   "source": [
    "new_poop_df=poop_df.dropna()\n",
    "new_poop_df"
   ]
  },
  {
   "cell_type": "code",
<<<<<<< HEAD
   "execution_count": null,
   "metadata": {},
   "outputs": [],
=======
   "execution_count": 21,
   "metadata": {},
   "outputs": [
    {
     "data": {
      "text/html": [
       "<div>\n",
       "<style scoped>\n",
       "    .dataframe tbody tr th:only-of-type {\n",
       "        vertical-align: middle;\n",
       "    }\n",
       "\n",
       "    .dataframe tbody tr th {\n",
       "        vertical-align: top;\n",
       "    }\n",
       "\n",
       "    .dataframe thead th {\n",
       "        text-align: right;\n",
       "    }\n",
       "</style>\n",
       "<table border=\"1\" class=\"dataframe\">\n",
       "  <thead>\n",
       "    <tr style=\"text-align: right;\">\n",
       "      <th></th>\n",
       "      <th>brewery_id</th>\n",
       "      <th>name_x</th>\n",
       "      <th>city</th>\n",
       "      <th>state</th>\n",
       "      <th>Unnamed: 0</th>\n",
       "      <th>abv</th>\n",
       "      <th>ibu</th>\n",
       "      <th>id</th>\n",
       "      <th>name_y</th>\n",
       "      <th>style</th>\n",
       "      <th>ounces</th>\n",
       "    </tr>\n",
       "  </thead>\n",
       "  <tbody>\n",
       "    <tr>\n",
       "      <th>7</th>\n",
       "      <td>1</td>\n",
       "      <td>Against the Grain Brewery</td>\n",
       "      <td>Louisville</td>\n",
       "      <td>KY</td>\n",
       "      <td>70</td>\n",
       "      <td>0.125</td>\n",
       "      <td>80.0</td>\n",
       "      <td>2685</td>\n",
       "      <td>London Balling</td>\n",
       "      <td>English Barleywine</td>\n",
       "      <td>16.0</td>\n",
       "    </tr>\n",
       "    <tr>\n",
       "      <th>143</th>\n",
       "      <td>17</td>\n",
       "      <td>Tin Man Brewing Company</td>\n",
       "      <td>Evansville</td>\n",
       "      <td>IN</td>\n",
       "      <td>2189</td>\n",
       "      <td>0.120</td>\n",
       "      <td>90.0</td>\n",
       "      <td>2621</td>\n",
       "      <td>Csar</td>\n",
       "      <td>Russian Imperial Stout</td>\n",
       "      <td>16.0</td>\n",
       "    </tr>\n",
       "    <tr>\n",
       "      <th>335</th>\n",
       "      <td>46</td>\n",
       "      <td>Sixpoint Craft Ales</td>\n",
       "      <td>Brooklyn</td>\n",
       "      <td>NY</td>\n",
       "      <td>1857</td>\n",
       "      <td>0.100</td>\n",
       "      <td>52.0</td>\n",
       "      <td>2574</td>\n",
       "      <td>4Beans</td>\n",
       "      <td>Baltic Porter</td>\n",
       "      <td>12.0</td>\n",
       "    </tr>\n",
       "    <tr>\n",
       "      <th>207</th>\n",
       "      <td>25</td>\n",
       "      <td>Sun King Brewing Company</td>\n",
       "      <td>Indianapolis</td>\n",
       "      <td>IN</td>\n",
       "      <td>2066</td>\n",
       "      <td>0.099</td>\n",
       "      <td>60.0</td>\n",
       "      <td>394</td>\n",
       "      <td>Johan the Barleywine</td>\n",
       "      <td>English Barleywine</td>\n",
       "      <td>16.0</td>\n",
       "    </tr>\n",
       "    <tr>\n",
       "      <th>1017</th>\n",
       "      <td>166</td>\n",
       "      <td>Oskar Blues Brewery</td>\n",
       "      <td>Longmont</td>\n",
       "      <td>CO</td>\n",
       "      <td>1580</td>\n",
       "      <td>0.099</td>\n",
       "      <td>100.0</td>\n",
       "      <td>6</td>\n",
       "      <td>GUBNA Imperial IPA</td>\n",
       "      <td>American Double / Imperial IPA</td>\n",
       "      <td>12.0</td>\n",
       "    </tr>\n",
       "    <tr>\n",
       "      <th>...</th>\n",
       "      <td>...</td>\n",
       "      <td>...</td>\n",
       "      <td>...</td>\n",
       "      <td>...</td>\n",
       "      <td>...</td>\n",
       "      <td>...</td>\n",
       "      <td>...</td>\n",
       "      <td>...</td>\n",
       "      <td>...</td>\n",
       "      <td>...</td>\n",
       "      <td>...</td>\n",
       "    </tr>\n",
       "    <tr>\n",
       "      <th>338</th>\n",
       "      <td>46</td>\n",
       "      <td>Sixpoint Craft Ales</td>\n",
       "      <td>Brooklyn</td>\n",
       "      <td>NY</td>\n",
       "      <td>1860</td>\n",
       "      <td>0.032</td>\n",
       "      <td>7.0</td>\n",
       "      <td>2266</td>\n",
       "      <td>Rad</td>\n",
       "      <td>Fruit / Vegetable Beer</td>\n",
       "      <td>16.0</td>\n",
       "    </tr>\n",
       "    <tr>\n",
       "      <th>764</th>\n",
       "      <td>129</td>\n",
       "      <td>Straub Brewery</td>\n",
       "      <td>St Mary's</td>\n",
       "      <td>PA</td>\n",
       "      <td>2027</td>\n",
       "      <td>0.032</td>\n",
       "      <td>13.0</td>\n",
       "      <td>2231</td>\n",
       "      <td>American Light</td>\n",
       "      <td>Light Lager</td>\n",
       "      <td>12.0</td>\n",
       "    </tr>\n",
       "    <tr>\n",
       "      <th>2338</th>\n",
       "      <td>528</td>\n",
       "      <td>Asheville Brewing Company</td>\n",
       "      <td>Asheville</td>\n",
       "      <td>NC</td>\n",
       "      <td>138</td>\n",
       "      <td>0.032</td>\n",
       "      <td>27.0</td>\n",
       "      <td>550</td>\n",
       "      <td>Rocket Girl</td>\n",
       "      <td>Kölsch</td>\n",
       "      <td>12.0</td>\n",
       "    </tr>\n",
       "    <tr>\n",
       "      <th>669</th>\n",
       "      <td>109</td>\n",
       "      <td>Woodstock Inn, Station &amp; Brewery</td>\n",
       "      <td>North Woodstock</td>\n",
       "      <td>NH</td>\n",
       "      <td>2394</td>\n",
       "      <td>0.028</td>\n",
       "      <td>15.0</td>\n",
       "      <td>2306</td>\n",
       "      <td>Summer Brew</td>\n",
       "      <td>American Pilsner</td>\n",
       "      <td>12.0</td>\n",
       "    </tr>\n",
       "    <tr>\n",
       "      <th>515</th>\n",
       "      <td>80</td>\n",
       "      <td>Hopworks Urban Brewery</td>\n",
       "      <td>Portland</td>\n",
       "      <td>OR</td>\n",
       "      <td>1074</td>\n",
       "      <td>0.027</td>\n",
       "      <td>21.0</td>\n",
       "      <td>2482</td>\n",
       "      <td>Totally Radler</td>\n",
       "      <td>Radler</td>\n",
       "      <td>16.0</td>\n",
       "    </tr>\n",
       "  </tbody>\n",
       "</table>\n",
       "<p>1403 rows × 11 columns</p>\n",
       "</div>"
      ],
      "text/plain": [
       "      brewery_id                            name_x             city state  \\\n",
       "7              1         Against the Grain Brewery       Louisville    KY   \n",
       "143           17           Tin Man Brewing Company       Evansville    IN   \n",
       "335           46               Sixpoint Craft Ales         Brooklyn    NY   \n",
       "207           25          Sun King Brewing Company     Indianapolis    IN   \n",
       "1017         166               Oskar Blues Brewery         Longmont    CO   \n",
       "...          ...                               ...              ...   ...   \n",
       "338           46               Sixpoint Craft Ales         Brooklyn    NY   \n",
       "764          129                    Straub Brewery        St Mary's    PA   \n",
       "2338         528         Asheville Brewing Company        Asheville    NC   \n",
       "669          109  Woodstock Inn, Station & Brewery  North Woodstock    NH   \n",
       "515           80            Hopworks Urban Brewery         Portland    OR   \n",
       "\n",
       "      Unnamed: 0    abv    ibu    id                name_y  \\\n",
       "7             70  0.125   80.0  2685        London Balling   \n",
       "143         2189  0.120   90.0  2621                  Csar   \n",
       "335         1857  0.100   52.0  2574                4Beans   \n",
       "207         2066  0.099   60.0   394  Johan the Barleywine   \n",
       "1017        1580  0.099  100.0     6    GUBNA Imperial IPA   \n",
       "...          ...    ...    ...   ...                   ...   \n",
       "338         1860  0.032    7.0  2266                   Rad   \n",
       "764         2027  0.032   13.0  2231        American Light   \n",
       "2338         138  0.032   27.0   550           Rocket Girl   \n",
       "669         2394  0.028   15.0  2306           Summer Brew   \n",
       "515         1074  0.027   21.0  2482        Totally Radler   \n",
       "\n",
       "                               style  ounces  \n",
       "7                 English Barleywine    16.0  \n",
       "143           Russian Imperial Stout    16.0  \n",
       "335                    Baltic Porter    12.0  \n",
       "207               English Barleywine    16.0  \n",
       "1017  American Double / Imperial IPA    12.0  \n",
       "...                              ...     ...  \n",
       "338           Fruit / Vegetable Beer    16.0  \n",
       "764                      Light Lager    12.0  \n",
       "2338                          Kölsch    12.0  \n",
       "669                 American Pilsner    12.0  \n",
       "515                           Radler    16.0  \n",
       "\n",
       "[1403 rows x 11 columns]"
      ]
     },
     "execution_count": 21,
     "metadata": {},
     "output_type": "execute_result"
    }
   ],
>>>>>>> 8457d42fc39d225daf96f9ce7fe033f29a6b50da
   "source": [
    "sorted_poop_df=new_poop_df.sort_values(by='abv', ascending=False)\n",
    "sorted_poop_df"
   ]
  },
  {
   "cell_type": "code",
<<<<<<< HEAD
   "execution_count": 12,
   "metadata": {},
   "outputs": [
    {
     "ename": "NameError",
     "evalue": "name 'new_poop_df' is not defined",
     "output_type": "error",
     "traceback": [
      "\u001b[1;31m---------------------------------------------------------------------------\u001b[0m",
      "\u001b[1;31mNameError\u001b[0m                                 Traceback (most recent call last)",
      "\u001b[1;32m<ipython-input-12-1fef139e3ccf>\u001b[0m in \u001b[0;36m<module>\u001b[1;34m\u001b[0m\n\u001b[0;32m      1\u001b[0m \u001b[1;31m# top_5 = poop_df.nlargest(5, ['abv'])\u001b[0m\u001b[1;33m\u001b[0m\u001b[1;33m\u001b[0m\u001b[1;33m\u001b[0m\u001b[0m\n\u001b[1;32m----> 2\u001b[1;33m \u001b[0mtop_30\u001b[0m \u001b[1;33m=\u001b[0m \u001b[0mnew_poop_df\u001b[0m\u001b[1;33m.\u001b[0m\u001b[0mnlargest\u001b[0m\u001b[1;33m(\u001b[0m\u001b[1;36m30\u001b[0m\u001b[1;33m,\u001b[0m \u001b[1;33m[\u001b[0m\u001b[1;34m'abv'\u001b[0m\u001b[1;33m]\u001b[0m\u001b[1;33m)\u001b[0m\u001b[1;33m\u001b[0m\u001b[1;33m\u001b[0m\u001b[0m\n\u001b[0m\u001b[0;32m      3\u001b[0m \u001b[0mtop_30\u001b[0m\u001b[1;33m\u001b[0m\u001b[1;33m\u001b[0m\u001b[0m\n",
      "\u001b[1;31mNameError\u001b[0m: name 'new_poop_df' is not defined"
     ]
    }
   ],
   "source": [
    "# top_5 = poop_df.nlargest(5, ['abv'])\n",
    "top_30 = new_poop_df.nlargest(30, ['abv'])\n",
    "top_30"
   ]
  },
  {
   "cell_type": "code",
   "execution_count": 13,
   "metadata": {},
   "outputs": [
    {
     "ename": "NameError",
     "evalue": "name 'top_30' is not defined",
     "output_type": "error",
     "traceback": [
      "\u001b[1;31m---------------------------------------------------------------------------\u001b[0m",
      "\u001b[1;31mNameError\u001b[0m                                 Traceback (most recent call last)",
      "\u001b[1;32m<ipython-input-13-9790478bf484>\u001b[0m in \u001b[0;36m<module>\u001b[1;34m\u001b[0m\n\u001b[1;32m----> 1\u001b[1;33m top_30.plot(kind='scatter', x='style', y='abv', grid=True, figsize=(20,10), \n\u001b[0m\u001b[0;32m      2\u001b[0m                        title=f' Correlation of Style and ABV')\n\u001b[0;32m      3\u001b[0m \u001b[0mplt\u001b[0m\u001b[1;33m.\u001b[0m\u001b[0mgrid\u001b[0m\u001b[1;33m(\u001b[0m\u001b[1;33m)\u001b[0m\u001b[1;33m\u001b[0m\u001b[1;33m\u001b[0m\u001b[0m\n\u001b[0;32m      4\u001b[0m \u001b[0mplt\u001b[0m\u001b[1;33m.\u001b[0m\u001b[0mtight_layout\u001b[0m\u001b[1;33m(\u001b[0m\u001b[1;33m)\u001b[0m\u001b[1;33m\u001b[0m\u001b[1;33m\u001b[0m\u001b[0m\n",
      "\u001b[1;31mNameError\u001b[0m: name 'top_30' is not defined"
     ]
    }
   ],
   "source": [
    "top_30.plot(kind='scatter', x='style', y='abv', grid=True, figsize=(20,10), \n",
    "                       title=f' Correlation of Style and ABV')\n",
    "plt.grid()\n",
    "plt.tight_layout()"
   ]
  },
  {
   "cell_type": "code",
   "execution_count": 14,
   "metadata": {},
   "outputs": [],
   "source": [
    "# poop_df.plot(kind='scatter', x='style', y='abv', \n",
    "#                        title=f' Correlation of Style and ABV')\n",
    "# plt.grid()"
=======
   "execution_count": 24,
   "metadata": {},
   "outputs": [],
   "source": [
    "# poop_df.plot(kind='scatter', x='style', y='abv', \n",
    "#                        title=f' Correlation of Style and ABV')\n",
    "# plt.grid()"
   ]
  },
  {
   "cell_type": "code",
   "execution_count": 25,
   "metadata": {},
   "outputs": [],
   "source": [
    "# state_data = poop_df[\"state\"].value_counts()\n",
    "# style_data = poop_df[\"style\"].value_counts()\n",
    "# style_state_data= state_data.add(style_data, fill_value=0)\n",
    "# style_chart = style_data.plot(kind='bar', facecolor=\"blue\", figsize=(30,5))\n",
    "# plt.title(\"Style Brewed Popularity\")\n",
    "# state_chart.set_xlabel(\"Style\")\n",
    "# state_chart.set_ylabel(\"Number of Times Brewed\")\n",
    "# plt.show()\n",
    "# plt.tight_layout\n",
    "\n",
    "abv_data = poop_df[\"abv\"].value_counts()"
   ]
  },
  {
   "cell_type": "code",
   "execution_count": 82,
   "metadata": {},
   "outputs": [
    {
     "data": {
      "image/png": "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\n",
      "text/plain": [
       "<Figure size 720x360 with 1 Axes>"
      ]
     },
     "metadata": {
      "needs_background": "light"
     },
     "output_type": "display_data"
    },
    {
     "data": {
      "text/plain": [
       "<function matplotlib.pyplot.tight_layout(pad=1.08, h_pad=None, w_pad=None, rect=None)>"
      ]
     },
     "execution_count": 82,
     "metadata": {},
     "output_type": "execute_result"
    }
   ],
   "source": [
    "#state_chart = state_data.plot(kind='bar', facecolor=\"blue\", figsize=(10,5))\n",
    "# plt.title(\"State Brewery Popularity\")\n",
    "# state_chart.set_xlabel(\"State\")\n",
    "# state_chart.set_ylabel(\"Number of Breweries\")\n",
    "# plt.show()\n",
    "# plt.tight_layout\n",
    "\n",
    "xlabel = 'style'\n",
    "ylabel = 'abv'\n",
    "top_5_chart = top_5.plot(kind='bar', facecolor=\"blue\", figsize=(10,5))\n",
    "plt.title(\"ABV by style\")\n",
    "top_5_chart.set_xlabel(\"style\")\n",
    "top_5_chart.set_ylabel(\"abv\")\n",
    "plt.show()\n",
    "plt.tight_layout"
   ]
  },
  {
   "cell_type": "code",
   "execution_count": 30,
   "metadata": {},
   "outputs": [],
   "source": [
    "group1 = poop_df[poop_df[\"style\"] == \"Quadrupel (Quad)\"][\"abv\"]\n",
    "group2 = poop_df[poop_df[\"style\"] == \"English Barleywine\"][\"abv\"]\n",
    "group3 = poop_df[poop_df[\"style\"] == \"Russian Imperial Stout\"][\"abv\"]\n",
    "group4 = poop_df[poop_df[\"style\"] == \"Rye Beer\"][\"abv\"]"
   ]
  },
  {
   "cell_type": "code",
   "execution_count": 31,
   "metadata": {},
   "outputs": [
    {
     "data": {
      "text/plain": [
       "F_onewayResult(statistic=16.974056971673452, pvalue=8.914483349494272e-07)"
      ]
     },
     "execution_count": 31,
     "metadata": {},
     "output_type": "execute_result"
    }
   ],
   "source": [
    "st.f_oneway(group1, group2, group3, group4)"
   ]
  },
  {
   "cell_type": "code",
   "execution_count": 37,
   "metadata": {},
   "outputs": [
    {
     "data": {
      "text/plain": [
       "<matplotlib.legend.Legend at 0x1d5d3cd7e48>"
      ]
     },
     "execution_count": 37,
     "metadata": {},
     "output_type": "execute_result"
    },
    {
     "data": {
      "image/png": "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\n",
      "text/plain": [
       "<Figure size 1440x720 with 1 Axes>"
      ]
     },
     "metadata": {
      "needs_background": "light"
     },
     "output_type": "display_data"
    }
   ],
   "source": [
    "plot1 = poop_df.groupby('state')['abv'].mean().sort_values(ascending=False).plot(kind='bar',\\\n",
    "                                                                    title=\"Average ABV in each State\", \\\n",
    "                                                                    figsize=(20,10), colormap='Blues_r')\n",
    "plot1.set_xlabel('State')\n",
    "plot1.set_ylabel('ABV %')\n",
    "mean_line1 = plot1.axhline(poop_df.abv.mean(), color='r',\\\n",
    "                         label='National Average')\n",
    "plot1.legend()"
   ]
  },
  {
   "cell_type": "code",
   "execution_count": 40,
   "metadata": {},
   "outputs": [
    {
     "data": {
      "text/plain": [
       "<matplotlib.legend.Legend at 0x1d5d3fefc48>"
      ]
     },
     "execution_count": 40,
     "metadata": {},
     "output_type": "execute_result"
    },
    {
     "data": {
      "image/png": "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\n",
      "text/plain": [
       "<Figure size 1440x720 with 1 Axes>"
      ]
     },
     "metadata": {
      "needs_background": "light"
     },
     "output_type": "display_data"
    }
   ],
   "source": [
    "plot1 = poop_df.groupby('state')['abv'].mean().sort_values(ascending=True).plot(kind='bar',\\\n",
    "                                                                    title=\"Average ABV in each State\", \\\n",
    "                                                                    figsize=(20,10), colormap='Blues_r')\n",
    "plot1.set_xlabel('State')\n",
    "plot1.set_ylabel('ABV %')\n",
    "mean_line1 = plot1.axhline(poop_df.abv.mean(), color='r',\\\n",
    "                         label='National Average')\n",
    "plot1.legend()"
   ]
  },
  {
   "cell_type": "code",
   "execution_count": 41,
   "metadata": {},
   "outputs": [
    {
     "data": {
      "text/html": [
       "<div>\n",
       "<style scoped>\n",
       "    .dataframe tbody tr th:only-of-type {\n",
       "        vertical-align: middle;\n",
       "    }\n",
       "\n",
       "    .dataframe tbody tr th {\n",
       "        vertical-align: top;\n",
       "    }\n",
       "\n",
       "    .dataframe thead th {\n",
       "        text-align: right;\n",
       "    }\n",
       "</style>\n",
       "<table border=\"1\" class=\"dataframe\">\n",
       "  <thead>\n",
       "    <tr style=\"text-align: right;\">\n",
       "      <th></th>\n",
       "      <th>brewery_id</th>\n",
       "      <th>name_x</th>\n",
       "      <th>city</th>\n",
       "      <th>state</th>\n",
       "      <th>Unnamed: 0</th>\n",
       "      <th>abv</th>\n",
       "      <th>ibu</th>\n",
       "      <th>id</th>\n",
       "      <th>name_y</th>\n",
       "      <th>style</th>\n",
       "      <th>ounces</th>\n",
       "    </tr>\n",
       "  </thead>\n",
       "  <tbody>\n",
       "    <tr>\n",
       "      <th>2322</th>\n",
       "      <td>522</td>\n",
       "      <td>Uncommon Brewers</td>\n",
       "      <td>Santa Cruz</td>\n",
       "      <td>CA</td>\n",
       "      <td>2266</td>\n",
       "      <td>0.001</td>\n",
       "      <td>NaN</td>\n",
       "      <td>606</td>\n",
       "      <td>Scotty K NA</td>\n",
       "      <td>Low Alcohol Beer</td>\n",
       "      <td>16.0</td>\n",
       "    </tr>\n",
       "    <tr>\n",
       "      <th>515</th>\n",
       "      <td>80</td>\n",
       "      <td>Hopworks Urban Brewery</td>\n",
       "      <td>Portland</td>\n",
       "      <td>OR</td>\n",
       "      <td>1074</td>\n",
       "      <td>0.027</td>\n",
       "      <td>21.0</td>\n",
       "      <td>2482</td>\n",
       "      <td>Totally Radler</td>\n",
       "      <td>Radler</td>\n",
       "      <td>16.0</td>\n",
       "    </tr>\n",
       "    <tr>\n",
       "      <th>1056</th>\n",
       "      <td>173</td>\n",
       "      <td>Evil Twin Brewing</td>\n",
       "      <td>Brooklyn</td>\n",
       "      <td>NY</td>\n",
       "      <td>769</td>\n",
       "      <td>0.027</td>\n",
       "      <td>NaN</td>\n",
       "      <td>1286</td>\n",
       "      <td>Bikini Beer</td>\n",
       "      <td>American IPA</td>\n",
       "      <td>12.0</td>\n",
       "    </tr>\n",
       "    <tr>\n",
       "      <th>669</th>\n",
       "      <td>109</td>\n",
       "      <td>Woodstock Inn, Station &amp; Brewery</td>\n",
       "      <td>North Woodstock</td>\n",
       "      <td>NH</td>\n",
       "      <td>2394</td>\n",
       "      <td>0.028</td>\n",
       "      <td>15.0</td>\n",
       "      <td>2306</td>\n",
       "      <td>Summer Brew</td>\n",
       "      <td>American Pilsner</td>\n",
       "      <td>12.0</td>\n",
       "    </tr>\n",
       "    <tr>\n",
       "      <th>338</th>\n",
       "      <td>46</td>\n",
       "      <td>Sixpoint Craft Ales</td>\n",
       "      <td>Brooklyn</td>\n",
       "      <td>NY</td>\n",
       "      <td>1860</td>\n",
       "      <td>0.032</td>\n",
       "      <td>7.0</td>\n",
       "      <td>2266</td>\n",
       "      <td>Rad</td>\n",
       "      <td>Fruit / Vegetable Beer</td>\n",
       "      <td>16.0</td>\n",
       "    </tr>\n",
       "  </tbody>\n",
       "</table>\n",
       "</div>"
      ],
      "text/plain": [
       "      brewery_id                            name_x             city state  \\\n",
       "2322         522                  Uncommon Brewers       Santa Cruz    CA   \n",
       "515           80            Hopworks Urban Brewery         Portland    OR   \n",
       "1056         173                 Evil Twin Brewing         Brooklyn    NY   \n",
       "669          109  Woodstock Inn, Station & Brewery  North Woodstock    NH   \n",
       "338           46               Sixpoint Craft Ales         Brooklyn    NY   \n",
       "\n",
       "      Unnamed: 0    abv   ibu    id          name_y                   style  \\\n",
       "2322        2266  0.001   NaN   606     Scotty K NA        Low Alcohol Beer   \n",
       "515         1074  0.027  21.0  2482  Totally Radler                  Radler   \n",
       "1056         769  0.027   NaN  1286     Bikini Beer            American IPA   \n",
       "669         2394  0.028  15.0  2306     Summer Brew        American Pilsner   \n",
       "338         1860  0.032   7.0  2266             Rad  Fruit / Vegetable Beer   \n",
       "\n",
       "      ounces  \n",
       "2322    16.0  \n",
       "515     16.0  \n",
       "1056    12.0  \n",
       "669     12.0  \n",
       "338     16.0  "
      ]
     },
     "execution_count": 41,
     "metadata": {},
     "output_type": "execute_result"
    }
   ],
   "source": [
    "poop_df.nsmallest(5, ['abv'])"
>>>>>>> 8457d42fc39d225daf96f9ce7fe033f29a6b50da
   ]
  },
  {
   "cell_type": "code",
<<<<<<< HEAD
   "execution_count": 15,
   "metadata": {},
   "outputs": [],
   "source": [
    "# state_data = poop_df[\"state\"].value_counts()\n",
    "# style_data = poop_df[\"style\"].value_counts()\n",
    "# style_state_data= state_data.add(style_data, fill_value=0)\n",
    "# style_chart = style_data.plot(kind='bar', facecolor=\"blue\", figsize=(30,5))\n",
    "# plt.title(\"Style Brewed Popularity\")\n",
    "# state_chart.set_xlabel(\"Style\")\n",
    "# state_chart.set_ylabel(\"Number of Times Brewed\")\n",
    "# plt.show()\n",
    "# plt.tight_layout\n",
    "\n",
    "abv_data = poop_df[\"abv\"].value_counts()"
   ]
  },
  {
   "cell_type": "code",
   "execution_count": 16,
   "metadata": {},
   "outputs": [
    {
     "data": {
      "text/plain": [
       "American IPA                      424\n",
       "American Pale Ale (APA)           245\n",
       "American Amber / Red Ale          133\n",
       "American Blonde Ale               108\n",
       "American Double / Imperial IPA    105\n",
       "                                 ... \n",
       "American Malt Liquor                1\n",
       "Kristalweizen                       1\n",
       "Smoked Beer                         1\n",
       "Flanders Oud Bruin                  1\n",
       "Flanders Red Ale                    1\n",
       "Name: style, Length: 99, dtype: int64"
      ]
     },
     "execution_count": 16,
     "metadata": {},
     "output_type": "execute_result"
    }
   ],
   "source": [
    "style_data"
=======
   "execution_count": 54,
   "metadata": {},
   "outputs": [],
   "source": [
    "poop_5 = poop_df.nlargest(5, ['abv'])"
>>>>>>> 8457d42fc39d225daf96f9ce7fe033f29a6b50da
   ]
  },
  {
   "cell_type": "code",
<<<<<<< HEAD
   "execution_count": 17,
=======
   "execution_count": 95,
>>>>>>> 8457d42fc39d225daf96f9ce7fe033f29a6b50da
   "metadata": {},
   "outputs": [
    {
     "data": {
      "text/html": [
       "<div>\n",
       "<style scoped>\n",
       "    .dataframe tbody tr th:only-of-type {\n",
       "        vertical-align: middle;\n",
       "    }\n",
       "\n",
       "    .dataframe tbody tr th {\n",
       "        vertical-align: top;\n",
       "    }\n",
       "\n",
       "    .dataframe thead th {\n",
       "        text-align: right;\n",
       "    }\n",
       "</style>\n",
       "<table border=\"1\" class=\"dataframe\">\n",
       "  <thead>\n",
       "    <tr style=\"text-align: right;\">\n",
       "      <th></th>\n",
       "      <th>brewery_id</th>\n",
       "      <th>name_x</th>\n",
       "      <th>city</th>\n",
       "      <th>state</th>\n",
       "      <th>Unnamed: 0</th>\n",
       "      <th>abv</th>\n",
       "      <th>ibu</th>\n",
       "      <th>id</th>\n",
       "      <th>name_y</th>\n",
       "      <th>style</th>\n",
       "      <th>ounces</th>\n",
       "    </tr>\n",
       "  </thead>\n",
       "  <tbody>\n",
       "    <tr>\n",
       "      <th>374</th>\n",
       "      <td>51</td>\n",
       "      <td>Upslope Brewing Company</td>\n",
       "      <td>Boulder</td>\n",
       "      <td>CO</td>\n",
       "      <td>2278</td>\n",
       "      <td>0.128</td>\n",
       "      <td>NaN</td>\n",
       "      <td>2565</td>\n",
       "      <td>Lee Hill Series Vol. 5 - Belgian Style Quadrup...</td>\n",
       "      <td>Quadrupel (Quad)</td>\n",
       "      <td>19.2</td>\n",
       "    </tr>\n",
       "    <tr>\n",
       "      <th>7</th>\n",
       "      <td>1</td>\n",
       "      <td>Against the Grain Brewery</td>\n",
       "      <td>Louisville</td>\n",
       "      <td>KY</td>\n",
       "      <td>70</td>\n",
       "      <td>0.125</td>\n",
       "      <td>80.0</td>\n",
       "      <td>2685</td>\n",
       "      <td>London Balling</td>\n",
       "      <td>English Barleywine</td>\n",
       "      <td>16.0</td>\n",
       "    </tr>\n",
       "    <tr>\n",
       "      <th>143</th>\n",
       "      <td>17</td>\n",
       "      <td>Tin Man Brewing Company</td>\n",
       "      <td>Evansville</td>\n",
       "      <td>IN</td>\n",
       "      <td>2189</td>\n",
       "      <td>0.120</td>\n",
       "      <td>90.0</td>\n",
       "      <td>2621</td>\n",
       "      <td>Csar</td>\n",
       "      <td>Russian Imperial Stout</td>\n",
       "      <td>16.0</td>\n",
       "    </tr>\n",
       "    <tr>\n",
       "      <th>375</th>\n",
       "      <td>51</td>\n",
       "      <td>Upslope Brewing Company</td>\n",
       "      <td>Boulder</td>\n",
       "      <td>CO</td>\n",
       "      <td>2279</td>\n",
       "      <td>0.104</td>\n",
       "      <td>NaN</td>\n",
       "      <td>2564</td>\n",
       "      <td>Lee Hill Series Vol. 4 - Manhattan Style Rye Ale</td>\n",
       "      <td>Rye Beer</td>\n",
       "      <td>19.2</td>\n",
       "    </tr>\n",
       "    <tr>\n",
       "      <th>335</th>\n",
       "      <td>46</td>\n",
       "      <td>Sixpoint Craft Ales</td>\n",
       "      <td>Brooklyn</td>\n",
       "      <td>NY</td>\n",
       "      <td>1857</td>\n",
       "      <td>0.100</td>\n",
       "      <td>52.0</td>\n",
       "      <td>2574</td>\n",
       "      <td>4Beans</td>\n",
       "      <td>Baltic Porter</td>\n",
       "      <td>12.0</td>\n",
       "    </tr>\n",
       "  </tbody>\n",
       "</table>\n",
       "</div>"
      ],
      "text/plain": [
       "     brewery_id                     name_x        city state  Unnamed: 0  \\\n",
       "374          51    Upslope Brewing Company     Boulder    CO        2278   \n",
       "7             1  Against the Grain Brewery  Louisville    KY          70   \n",
       "143          17    Tin Man Brewing Company  Evansville    IN        2189   \n",
       "375          51    Upslope Brewing Company     Boulder    CO        2279   \n",
       "335          46        Sixpoint Craft Ales    Brooklyn    NY        1857   \n",
       "\n",
       "       abv   ibu    id                                             name_y  \\\n",
       "374  0.128   NaN  2565  Lee Hill Series Vol. 5 - Belgian Style Quadrup...   \n",
       "7    0.125  80.0  2685                                     London Balling   \n",
       "143  0.120  90.0  2621                                               Csar   \n",
       "375  0.104   NaN  2564   Lee Hill Series Vol. 4 - Manhattan Style Rye Ale   \n",
       "335  0.100  52.0  2574                                             4Beans   \n",
       "\n",
       "                      style  ounces  \n",
       "374        Quadrupel (Quad)    19.2  \n",
       "7        English Barleywine    16.0  \n",
       "143  Russian Imperial Stout    16.0  \n",
       "375                Rye Beer    19.2  \n",
       "335           Baltic Porter    12.0  "
      ]
     },
<<<<<<< HEAD
     "execution_count": 17,
=======
     "execution_count": 95,
>>>>>>> 8457d42fc39d225daf96f9ce7fe033f29a6b50da
     "metadata": {},
     "output_type": "execute_result"
    }
   ],
   "source": [
    "poop_5"
   ]
  },
  {
   "cell_type": "code",
<<<<<<< HEAD
   "execution_count": 18,
   "metadata": {},
   "outputs": [
    {
     "ename": "NameError",
     "evalue": "name 'top_5' is not defined",
     "output_type": "error",
     "traceback": [
      "\u001b[1;31m---------------------------------------------------------------------------\u001b[0m",
      "\u001b[1;31mNameError\u001b[0m                                 Traceback (most recent call last)",
      "\u001b[1;32m<ipython-input-18-8ba56dca02db>\u001b[0m in \u001b[0;36m<module>\u001b[1;34m\u001b[0m\n\u001b[1;32m----> 1\u001b[1;33m \u001b[0mtop_5\u001b[0m\u001b[1;33m.\u001b[0m\u001b[0mboxplot\u001b[0m\u001b[1;33m(\u001b[0m\u001b[1;34m\"abv\"\u001b[0m\u001b[1;33m,\u001b[0m \u001b[0mby\u001b[0m\u001b[1;33m=\u001b[0m\u001b[1;34m\"style\"\u001b[0m\u001b[1;33m,\u001b[0m \u001b[0mfigsize\u001b[0m\u001b[1;33m=\u001b[0m\u001b[1;33m(\u001b[0m\u001b[1;36m20\u001b[0m\u001b[1;33m,\u001b[0m \u001b[1;36m10\u001b[0m\u001b[1;33m)\u001b[0m\u001b[1;33m)\u001b[0m\u001b[1;33m\u001b[0m\u001b[1;33m\u001b[0m\u001b[0m\n\u001b[0m",
      "\u001b[1;31mNameError\u001b[0m: name 'top_5' is not defined"
     ]
=======
   "execution_count": 55,
   "metadata": {},
   "outputs": [
    {
     "data": {
      "text/plain": [
       "Text(0.5, 1.0, 'Most popular Styles of Beer')"
      ]
     },
     "execution_count": 55,
     "metadata": {},
     "output_type": "execute_result"
    },
    {
     "data": {
      "image/png": "iVBORw0KGgoAAAANSUhEUgAAAPUAAAD3CAYAAADFeRJuAAAABHNCSVQICAgIfAhkiAAAAAlwSFlzAAALEgAACxIB0t1+/AAAADh0RVh0U29mdHdhcmUAbWF0cGxvdGxpYiB2ZXJzaW9uMy4xLjMsIGh0dHA6Ly9tYXRwbG90bGliLm9yZy+AADFEAAAgAElEQVR4nO2dd3gc1bn/P++qucvdliWjJbax1yCaAUNwgQD5JVEoIZAEQhAQeuj3AgohiQIBlOTmEiAhlHDBkNBiigHRAokLNmCwMQiQKMayDRjjguWK1c7vjzNKFqGyknb3zMy+n+fZR7t7ZuZ8dzTfOWdOe8UYg6Io4SHiWoCiKMlFTa0oIUNNrSghQ02tKCFDTa0oIUNNrSghQ00dUETkEBH50LWO9hCRqIgYEclOY54TReQ1EdkiIhekK18/EnhTi0idiDSIyPA23y/zLqxoL49vRGR8b44RBERksIj8n4h84hnjXRG5PC7d7+fhMmCuMWagMebGtokiMldEPheRrSJSLyLzRaTEgc6UE3hTe6wATmj94P2z+rqT4286KEGvBwYAMSAfOApYnk5dvaQYeKuLbc4zxgwAhgFzgXuSLUIsTn0VFlPfA5wc97kMuDt+AxHJF5G7RWSdiKwUkStbT76IjBeRed4dfL2IPOB9P9/b/XXvDv/9thmLyCkislBEbvL2rxWRw+LSx4jIYyKyUUTeF5Ez4tIqRGS2iDzglY5LRWSvuPQvlI4icpeI/Lq9EyAi5SKy3DvO2yLynXY0Xi8iG4GKdg6xP3CvMeYzY0yLMabWGDO7o/MgIm+KyJFxeeR4527vdrTli8gdIrJGRD4SkV+LSFZn576D33iUiLwlIpu8kjfmff9P4FDgj56+3To6BoAxpgm4H5gcd+xI3DncICIPisjQuPQDRWSRl/frInJIXNpcEblGRBYC24GvdJZ/yjHGBPoF1AGHA+9gS5ksYDX2zm2AqLfd3cAcYCAQBd4Ffuyl3Qf8DHuT6wNMizu+AcZ3kv8pQBNwMZADfB+oB4Z66fOAm73j7g2sAw7z0iqARuA4b9//xtY6ctrLG7gL+LX3/hDgw7i044Ex3m/4PrANKGij8XwgG+jbzu/4C7akOxWY0E56Wy2XAQ/EfT4aqPbeR73ts73PjwK3Av2BkcBi4Kyuzn2b/HfzftMR3rm6DHgfyPXS5wKnd/J/+nc6kAtcA8yPS78IeAkoAvI8vfd5aYXABuBbns4jvM8j4o69CtjdO785Tj3h2pS9/gH/MfWVwHXAN4B/eCfXeBdYFrATmBy331nYZzCwhr8NKOrqYm4n/RTgY0DivlsM/AgYCzQDA+PSrgPu8t5XAC/FpUWANcD0Dox0Fx2Yuh1dy4Cj4zSu6uI89gWuAJZgbzTvA9/s6DxgbyBbgEHe59nAZd77qLd9NjDKO/d94/Y9AfhXV+e+jb6fAw+2OVcfAYd4n+fStam3A5uABuyN97C49Jo2nwu885ANXA7c0+Z4zwBlcce+yrUXWl9hqX6DrYKfiL2A726TNhx7d14Z991K7B0Y7F1fgMVe9e60bub9kfH+u3HHHuO9NhpjtnSQL9haBQDGmBbgQ2+/biEiJ3uNg5tEZBOwB/Z3fymf9jDG7DDGXGuMmYJ95nwQ+Ht8FbTN9h8DC4Hvishg4JvA39rZtBhbsq6J03YrtsSGxM/9GOL+f965Ws0Xz2VXXGCMGYytEXwbmC0ie8bpfCROYw32hjzKSzu+Nc1Ln4Y1fiudnt90krYuh1RjjFkpIiuwVaQft0lej73rFgNve9/tgr3TY4z5BDgDQESmAc+JyHxjzPsJZl8oIhJn7F2Ax7Al+FARGRhn7H/n6zG29Y33jF/k7Qe2ZOkXt+1orOm/gIgUA7cDhwEvGmOaRWQZ1iytJDwdzxizWUSuBX4K7Aps7GDTWcDp2OvoRWPMR+1ssxpbUg839lm2bV6JnvuPgX+3VouIYM9de3l2indDWCAi7wNfB97wdJ5mjFnYdnsRWY0tqc9omxZ/2O7qSBVhKqnBmvlrxpht8V8aY5qxJc81IjLQM8ElwF8BROR4ESnyNv8M+w9q9j6vpeuGj5HABV5j0fHYZ/snjTGrgUXAdSLSxysVfswXS7QpInKs2Bbpi7AGeMlLWwacKCJZIvINYGYH+ff3NK/zfs+p2JI6YUTk5yKyv4jkikgf4EJsVfUdb5P2zsOjwL7etm1rRwAYY9YAzwK/F5FBXoPUOBGZ6eXb2bmP50GgVEQOE5Ec4L+w52pRd35n3O89CNtQ1tpifgv2+ij20keIyNFe2l+BI0Xk/3n/iz5ixwkUffnI7gmVqY0xy40xr3aQfD62oeUD4AXgXuD/vLT9gZdFZCu2hL3QGLPCS6sAZnnVru91cOyXgQnYGsE1wHHGmA1e2gnYZ8yPgUeAXxpj/hG37xxsw9Zn2OfwY40xjV7ahcCRWHP9EGui9n7328DvgRex5ivBVo27gwHu9H7Dx9jGoFJjzFYvvYI258EYswN4CFuaP9zJsU/GPv687f3O2fyn6trZuY//je8AJwE3eRqPBI40xjR04ze2to5vxT6uXWmMecpLu8HL/1kR2YK9sU718l6NbQi8AnvjXA1cik/9I198FFS6i4icgm2gmdaDfSuwjU8nJVtXuhCRXwC7Bfk3hI3QPFMr6cdrRPsxtoah+ARfVh8U/yN2EM1q4CljzPyutlfSh1a/FSVkaEmtKCFDTa0oIUNNrSghQ02tKCFDTa0oIUNNrSghQ02tKCFDTa0oIUNNrSghQ02tKCFDTa0oIUNNrSghQ02tKCFDTa0oIUNNrSghQ02t+AYRGSAit3pRMt4SG+9qqpdWJCJzROQ9L/0GEcl1rdmPqKkVP/EX7HLEE4wxu2PXcB/uLQf8MPCoMWYCNlrHAOwij0obdOUTxReIyDjgOexCjM1t0g7DrsI6I+67QdgQRWONMdvTKtbnaEmt+IXdgWVtDR2XtiT+C2PMZmz8Kj+H13WCmloJAkL7ETA6+j6jUVMrfuEtYC9pP7bzW8B+8V941e+xBCuGdlpQUyu+wBizHHgV+JXXMIaITPBC3zwP9BORk73vs7ARSe7S5+kvo6ZW/MTp2CCA74tINTbo38de4MHvYCNPvoeNLf45NgyO0gZt/Q4h0fIqwcbvmogNATu8ndcQbNzu9mjEdi2tb+e1Gqitqyz9uIN9FceoqQNOtLxqHDAFmISNthnD9uP2TXHW9diImDVArfd3cV1l6ZoU56t0gZo6QETLqyLYELUzgOneq6DTndLPcmABMB9YUFdZmmiMbyVJqKl9TrS8qgA4CijFmniwW0XdZg0wD3gCqKqrLN3kWE/oUVP7kGh5VTHwPeC7wAHY/tgw0Ig1+Gxgdl1l6YYutld6gJraJ0TLqwZig6qfjA12HhYjd0QTtqvqLuDhusrS7gSPVzpBTe2YaHnVHsC5WEMPdCzHFWuBO4Bb6ypLV7kWE3TU1A6IllflYKvW52KfkxVLM1AF3Aw8W1dZqhdnD1BTp5FoeVUecAbwU2z/sdIxNcCvgAfV3N1DTZ0GvJL5NOBn2PHKSuJUAxXAI2ruxFBTp5BoeVU2tuHr59gRXkrPeQ34RV1l6ROuhfgdNXWKiJZXHQH8ETu6S0kei4Bz6ypLX3ctxK+oqZNMtLxqDHA9tp9ZSQ3NwE3YknuLazF+Q02dJKLlVVnAecBVwCDHcjKFj4CL6ypL/+5aiJ9QUyeBaHnVfsBtwD6utWQoT2Or5CtcC/EDaupe4E2wuBxbOmc7lpPpbAbOqassvde1ENeoqXuIN9HiHuAw11qULzALOK+usnSrayGuUFP3gGh5VSl2zPJwx1KU9nkXOKGusnSpayEuUFN3A28Qye+AC11rUbqkASivqyy93rWQdKOmTpBoedUQ4CHgUNdalG5xF3BmXWVpo2sh6UJNnQDekkFV2DW/lOAxFzi2rrL0M9dC0oGuJtoF0fKqg4GXUEMHmUOAl6LlVRkRzUNN3QnR8qoTsRP5tUEs+OyGNfY010JSjZq6A6LlVRcBfwPyXGtRksYw4LloedWRroWkEjV1O0TLqy7Gjt9WwkceMDvMxlZTt8Ez9P+61qGklFxCbGw1dRxq6IwitMZWU3uooTOSVmMf5VpIMtF+aiBaXlWGHaSgZCY7gcPrKktfcC0kGWS8qaPlVTOBZ7F3bSVzWQ8cWFdZGvh41xlt6mh51W7Ai8BQ11oUX/AOcFDQR55l7DN1tLxqGHbopxpaaWUi8LA3cSewZKSpvfW3HwUyYtig0i0OwQa7DywZaWrgT0DohwsqPaYsWl51iWsRPSXjnqmj5VUnYVcsUZTOaASm11WWvuxaSHfJKFN7DWNLgAGutSiBYCWwT9AazjKn+l2Rn/t+3kl3nJn1hC4CryRKMXCraxHdJXNMDVdnS8u0K3LuPfip3MsX9mdHxi5Mp3SL473BSYEhM6rfFfkzgX8SdxNrMNl1P2y4YscrZlLMnTAlIGwB9grKuuLhL6kr8vOwXRRf+K250hR9MPeqcddk/2UeZMKdTekFA7ExswNB+E1tF9uf0F6CCLk/zP7nzMV5P1kyks/WpVmXEiy+ES2vOs61iEQId/W7In8c8CbQp6tNm42su7DxvFVPtBw0JfXClIDyETDJ74ECwl5S/5EEDA2QJWbETTk37Tsrp3JeNk0Zs5ys0i0KgV+5FtEV4S2pK/KPA3oUDXGr6fP20Q1X919uCouTrEoJPk3AlLrK0jdcC+mIcJbUFfn9gD/0dPcB8vnk53IvHXZu1pyFSVSlhINs4M+uRXRGOE1t40QX9uYAIgy4LOeBg5/JvWxhf3ZoYHMlnq9Gy6u+7VpER4Sv+l2RPxBYgV0ONik0mKyVJzVcsW2xiU1O1jGVwPMathruOwOFsaS+gCQaGiBXmosfyL16QmX2bXO1T1vx2Ac4xrWI9ghXSV2RPwioA4akKotPTf6SI3deM3YtQ0emKg8lMLwB7O230jpsJfXFpNDQACOlfsqLeefL0ZGFr6YyHyUQ7An4bkBKeErqivx87FS5/HRkZwxmYcse809tvOygRrJ10cLM5W1gDz+V1mEqqU8lTYYGEEGmZb05c1neGcsnyId16cpX8R2TgSNci4gnHKauyBfgHBdZ95edsWdzLxt+ftbD2qeduZzrWkA84ah+V+QfDvzDtYz3WsYsPKbh6j230Xegay1KWmkGdq2rLF3tWgiEpaT2yZ1yQuTjg5flnfnZgZG33nKtRUkrWcBZrkW0EvySuiK/ENtAluVaSivG0Di7ecaiS5vOmgEirvUoaWEtsEtdZWmDayFhKKnPxEeGBhAh5/js+TNfzTvntdFsXOtaj5IWRgHfdS0CwmHqk10L6IjhsnnfRXnnZ30nsuAV11qUtPAj1wIg6NXvivwpgO8HgRiDeall8oKTG8sP1D7tUNMAjKyrLK13KSLoJbUvqjtdIYIclPX2jNfzzvhgoqwKxOJ1So/IBZwHsVdTp5F+snPS07nlIy/Knh2KOMhKuzgfNhrc6ndF/h5AtWsZPWV5S8Gioxuu3mMr/Qa51qIklc+BES7XMQtySe38jtgbxkXWfPW1vLPqD468+aZrLUpS6QN8y6WAIJv6aNcCekuONI/9a861k/435+Z5QkuLaz1K0nA6zzqYpq7IHwLs5VpGMhAh+9isF2a+mnfO6wVs+MS1HiUpzHSZeTBNbWNLh2qk1jDZss/CvAtyjsuat9i1FqXXjImWV41zlXlQTT3DtYBUEBEz7H9ybj3ggdyr5ufSuNO1HqVXOLtGg2rq6a4FpJKpkdoZy/LOqJskqz5wrUXpMc6u0eCZ2q7pva9rGammnzRMfCq3fPQl2Q9qn3YwUVN3g4OAHNci0oEI/S7IfnTaP3MveXEg25wOPVS6zfhoeVWBi4yDaOr9XAtIN1+JfHLQa3lnbZkWqQ7sYJsMxcm1GkRTZ2SQ+GxpKbon57rYH3L+qH3awcHJtaqmDhAiZB+TtWjmkrxz3hjD+jWu9ShdoqZOkEmuBbhmqGzZ+4W8C/O+l/Uv7dP2N06u1WCZuiJ/DKATIICImKG/zbn9gL/n/mp+Hg2fu9ajtIuW1AmQsVXvjtg/8s6MZXlnrorJyuWutShfIt9FC3jQTD3RtQA/0lcadnsy96cFl2Y/sMC1FuVLpL0KHjRTF7kW4FdE6PeT7DnT5+Ve9FI+Wze51qP8m17FSe8JCZlaRPqJyM9F5Hbv8wQRcRF0e4SDPANFceTTA5fknb3tkMiyN1xrUQAH12yiJfWdwE7saC6AD4Ffp0RR5wx3kGfgyJaWwjtzfrv7jTk3aZ+2e9J+zSZq6nHGmN8CjQDGmB24mfqopk4QEbKOynpx5tK8s98oZJ32abvDt6ZuEJG+gAEQkXHYkjvdaPW7mwyRrXsvyLuwzwlZz7/sWkuG4tvqdwXwNDBWRP4GPA9cnipRnaAldQ+ICEOuy7lj6kO5v9Q+7fTjz5LaGPMscCxwCnAfsJ8x5l+JZiIidSIy3HtvROT3cWn/LSIVXR7EhqsdkmieypeZEnlvxut5Z6zeXVa871pLBjEs3Rkm2vr9vDFmgzGmyhjzhDFmvYg838M8dwLHtpq8G+QQvC4439FHGic8kfuzwvLse+e71pIh5KU7w05NIiJ9RGQoMFxEhojIUO8VBcb0MM8m4Dbg4m7u56sgeEFGhL5nZz8xY37uhdqnnXrSft12VfKdBSzBjopZEveaA/ypF/n+CfihiOR3Yx81dZLZJbLuwCV5Z28/NPLa6661hJi0X7fZnSUaY24AbhCR840xNyUrU2PMZhG5G7gA2JHgbqFaPdQvNERM/vZd7nnvsRvv/SCrxQx2rSdsGIlsprI0rXl2aupWjDE3icgewGRsBILW7+/uRd5/AJZiB7YkQnMv8lLaYVlebu1pBaPyGkVmfjii6YVd1/IV15pCh2nZku4sE20o+yVwk/c6FPgtcFRvMjbGbAQeBH6c4C5NvclP+SLXDBsy70cFo77SKLIrQNX+kbQ36GQIab9uE21NPg44DPjEGHMqNjpGMi6C35N4P56aOglsiETWHz52zCv3Dxo4E5F/x8peNFn2MqCLGyafxnRnmKipdxhjWoAmERkEfAqJV9WMMVFjzHrv/YC479caY/oZYyq6PEhFfQugLbW94Nl+fZd+bZfC5rXZ2fu3TWvKktwPh6PB+pLPxnRnmKipXxWRwcDt2NbvpYCLpXTWO8gz8DRB07mjRsz9r5HD92kRGdXRdk9NiWgPQ/JJ+zWbaEPZud7bW0TkaWCQMcbF1L71wHgH+QaWuuzsVT8oHL1lWyRySFfbzi+Rvc54hm0C/VOvLGNIu6kTHlHW+t4YU2eMeaMXI8p6wzoHeQaWO/MHLjyyqGDwtkhk90S2b8iRvmsHo/Owk0var9lOS2oR6QP0wxtRxn/6igfR8xFlvUGr3wmwTWTryQWjlr2blzutu/s+MyVC2fM6BTuJ+K6kbm9E2avYEWV/TK20dlFTd8HSvNya6cVF63piaIDn95YSAzqTK3n4y9TGmBuMMbsC1wB7e+/vBD4AXkyDvrZ87CDPQGDAXDVsyLyyglHjWvuee8LnuTJg/SCtgieRtC9QkXA/tTe0cxpwBHAX8OeUqeqYdxzk6XvWZ0XWHTZ2zJK/t+l77inP7R1pSIYuBYDadGeYqKlbh2iWArcYY+YAvb54ekDaT5Dfebp/vyWHjS0067KzkxaM7dl9pcQ4GDQRQrYDq9KdaaKm/khEbgW+BzwpInnd2DeZrCTxCSChphEazxo1Yt6lI4bt2yIyMpnH3tZX8jf1R2du9Z53YrU1Jt2ZJmrM7wHPAN8wxmwChgKXpkxVR9hRZRlfBV+Rk71yenHRe4v69Z2JSEpmr/1rL9GbZ++pcZFpossZbTfGPGyMec/7vMZb4sgFGV0FvyN/0MKjCguGbotEJqcynyf3i0w2OjOutzi5VhMaUeYznNz9XLNNZOtJY0a9/n5u7sHpyG9zfxm2pS+vDdrBPunIL6T4t6T2GUtdC0g3S/LyaqYVF21Il6Fbmb+HpH0ucMh4zUWmQTT1Qrz1x8OOAVMxbOi8UwpGjm8SKU53/lUHRHYzGXKuU8DHsdoaJ5FIg2fqivrPIPxTBNdlRdZ9bWzh0ocGDZiJSI4LDRsGyejteeE/1ynCWQTS4JnaEurlbZ/s3+/Vw8YWsj47a4prLQsnS9rnA4cEZ9doUE0dyjjMDdBw5ugR8y4fMWyKEfFFiKHHp0bGudYQUJxdo0Fs/YYQltTLc7LrThwzesf2SGSmay3xrB0iRTtyebtvAyntQgsZG3H4iBjMkrqifg0QmtAxt+cPWnhMYcHw7ZFIzLWW9nh5onzqWkPAeMHFSLJWgmlqy2OuBfSWrSJbjiksWHjj0MEHIzKg6z3c8NjUSNS1hoDh9NoMsqkfci2gN7zSJ+/t6cVFG5fn5qS177knfDhCojuzec+1joDQjF1vwBlBNvWLBHB+tQHzi+FD5502euQEF33PPWXJeAncuXbEvFhtjdPFPIJr6op6AzzsWkZ3+DQr69NDxxYufWSgu77nnjLnoEihaw0BwXkNMrimtjg/gYnyRP9+rx4+dkxkgw/6nnvCitEyvjGLFa51+BwDPOJaRNBNvQAbWMC3NEDD6aNHzvup7XvubkxuX7HsK7LStQafsyhWW5P25YvaEmxTV9Q3Aw+4ltER7+fkrJhWXPTBy337pGzeczp5bGqkw0AACgB/cy0Agm5qi4u10rrklsGDXvhO4eiROyKRSa61JIt3xkqsKcJq1zp8yhbgr65FQBhMXVFfA8x1LaOVLSKbjyosWPSnIYOnIRK6SBdvFcsHrjX4lHtitTW+mKoafFNbbnYtAODlPnlvzSguql+Rm/NV11pSxWNTZZhrDT7FF9cghMfUj+BgfeVWDJifDR869/TRIyc2iYx1pSMdVEdl92Zxd659yvxYbc1brkW0Eg5TV9Q3YSNypp21WVlrD9ml8LXHBg44BJGgTpBJHBF5p4h3XcvwGb4ppSEsprbcCuxMZ4ZzBvR/5YixY7I3ZmXtm858XfP41Ei+aw0+4iN8NggqPKauqP8Y+Es6smqAhtNGj5x35Yhh+xvJvGfMpeNlzxbRCKQe18Zqa3wV+CA8prZcS4qDu72bk7Pi4OKiFa/07eOrec/pxIhElo/O7KWaPVaRpoKkO4TL1La0vjVVh//T4PwXvls4euTnkcjEVOURFJ6YGunnWoMPuCZWW+O7uGPhMrXlOmwMo6SxOSL1RxYWLLplSH4o+557wssTZS8Dn7nW4ZAV2AiwviN8pq6oX0sSWyMX9elTPWOXoi11Ie577gktEcleORLfdOM44Gq/PUu3Ej5TW34DbO7NAVqgpXzEsHlnjR4RaxYpSpKuUPHk/hEXkU/9wDvA3a5FdEQ4TV1Rvx64sqe7f5KV9ckhuxS+XjWg/8yM6HvuIS9Mlr2MHfOcafwkVlvj2zhj4TS15WZ6EKLn0QH9F3997Jicz7KyNIZUFzRlS95Hw6h2rSPN3B+rrXnetYjOCK+p7bTMc4CWRDZvgJ1lBSPn/3zEsAMyse+5pzy1XyS819CX2Qxc4lpEV4T7H1JRvxi4ravNanNzlh9cXFS3tE+fGWlQFSrmlcieJsm9DT7mSj8sgtAV4Ta15ad0sjrKjUPyFxw/ZnSB9j33jIYc6bd2MG+41pEGluKzMd4dEX5TV9RvAi5q+3V9ROpLiwpevH1w/nREdCBFL3h230hCjzgBpgk4y8+NY/GE39QAFfX3Afe1flzYt0/1zF2KtqzKyTnIoarQ8PzeUmLSPJkmzfwqVlvzqmsRiZIZprac0wIrLhsxbN7Zo0ZM1r7n5LEjTwZuGBjaKvhC7CjFwJA5pq6or/92UcFJTw3oPw2RLNdywsZz+0TCWFJvAk4KSrW7lcwxNfDk6bWLgF+41hFGnt1X9jDgy2GTveDUWG1NXaIbi0idiDwU9/k4EblLRHYXkXdFpG9cWpWI/CDJeoEMM7XHdcCzrkWEja19ZfCm/qGqgt8Yq615tAf77Sciu8d/YYx5C7uQws8AROQYIMcYc3/vZX6ZjDN1dVm1AU4ADfiWbObuKWHpr/4n8N893Pd/gCva+f4q4HgR2RuoBH7Sw+N3ScaZGqC6rHojUApscK0lTDy5X2SSSXAEn4+pBb7bixlYDwL7isj4+C+NMduxN4r5wP3GmJQVKhlpaoDqsur3gO8AvpvkHlTqB8iILX0DPRZ8HVAaq63Z1ItjNAO/ww56+gLGmMexjW8pHcSSsaYGqC6rXgCc7lpHmFiwh/TGEC7ZCRwTq61JRrCCe4AZwC7tpLWQ4tpMRpsaoLqs+h7s846SBJ44IDLR2OiPQcIAp8RqaxYl5WDGNALX085IxnSQ8aYGqC6r/iUpXNssk9gwSEZvz+NN1zq6ySWx2ppkt0TfATiZi68LAPyHc7y/ZzlVEQIWxWTjEcsCU1hfHKut+UMyDmSMica93wmM6WybVKEltYfX1XUOWmL3msemRsa51pAgSTO0n1BTx6HGTg5rh0rRjhxqXOvoglAaGtTUXyLO2Le41hJkFk+Uta41dEJoDQ1q6nbxjH0ucLVrLUFlzoGRYtca2qEBKAuzoQHEmMA0aDihZFbJj7ChVTJ1Odwec8/vmt7La2KCax0eG4FjY7U181wLSTVaUneB1499ODqktNssHS8fudbg8R5wYCYYGtTUCeGNPDsQNC5zd5hzYKTQtQbsWOuDYrU1GTOBR02dINVl1e8DBwFPu9YSFD4okAmNWaxwKOF24IhYbU1G1bLU1N3Am931LexsG50IkgCv7yorHWS7CTg+Vltzph+jUqYabSjrISWzSqZgFzP0S0OQL5m02tRc9dfmWBqzXAicGKutWZXGPH2FltQ9pLqsegmwLz4OlOYHasdKrCnCh2nIqgXbBTkzkw0NWlInhZJZJT8AbgBGutbiR668r3nennVmZgqzeBc4I1ZbMz+FeQQGLamTQHVZ9f3AROwotKCv/JF0Hpuasthkn2MXktxTDf0ftKROMiWzSg7AmlujZrZijLnvN82fZBkKknjUp4HzYrU1y5N4zFCgJXWSqS6rXoh4/x0AAAMXSURBVAzsD1xALwPfhwYRebcwaX38H2Fbtr+phm4fNXUKqC6rbq4uq74JGIddryosq2z2mMenRvJ7eYj1wGXAbrHamtlJkBRatPqdBkpmlYwCyoGzgT6O5Tgh0mKa7/1N82cRGN7NXTcCv8euw701BdJCh5o6jZTMKhmDXRP6DDJwgsi1dzUtGL+G6QluXo9d5+v6WG2NPsZ0AzW1Azxzn4k195eWvAkrX327ZclFc1qmdLHZO8CfgbtitTX1aZAVOtTUDimZVZINHIOdu32oYzkpJ6vZNN772+ZtAoPbJDUBjwE3x2prnncgLVSoqX1CyaySGPaZ+0S6/9wZGH53R9MLxZ8yzfu4EpgF3BarrfHLNM3Ao6b2GV7p/TXg+9hSfKhbRcll2pstz1zweEsN8ECstuYl13rCiJrax5TMKskCpgNHA98Gxne+hy8xwBvA48Cj3ph5JYWoqQNEyaySAqzJp2PDuuyB/8YaNAJLsIsTLAAWVpdVf+ZWUmahpg4wJbNKBgMHA1OASUAM2A3olyYJm4EabKTIGmAx8HJ1WXXGD7ZxiZo6ZJTMKhGgGGvySdgus+HtvAYD0sFhWrCDPta381qNZ+Lqsuo1KfshSo9RU6cBEakD9jPGrBeRKcBs4CTgTmAvY8wOb7sq4B5jTLLjOn0Jz/wdVd1bvGWSlQCipk4DrabGlppzgO8bYxaLSCXQZIy5UkSOAc41xnzdoVQlBKip04Bn6h9h+2RPNsa84H3fD3gN2311P3CkMSZjVr1UUoPfWk7DzBzgvFZDAxhjtmMXMZwP3K+GVpKBltRpwCupF2NDBx9vjGluk74K+8z9qQN5SsjQkjp9nOf9vbmdtBZ0GSQlSaip00cLcAIwUUSuci1GCS9q6jRijNmJHfJ5lIj8xLUeJZzoM7WihAwtqRUlZKipFSVkqKkVJWSoqRUlZKipFSVkqKkVJWSoqRUlZKipFSVkqKkVJWSoqRUlZKipFSVkqKkVJWSoqRUlZKipFSVkqKkVJWSoqRUlZKipFSVkqKkVJWSoqRUlZKipFSVk/H+59pREPUo9PQAAAABJRU5ErkJggg==\n",
      "text/plain": [
       "<Figure size 432x288 with 1 Axes>"
      ]
     },
     "metadata": {},
     "output_type": "display_data"
>>>>>>> 8457d42fc39d225daf96f9ce7fe033f29a6b50da
    }
   ],
   "source": [
    "poop_5['state'].value_counts(15).plot(kind = \"pie\")\n",
    "plt.title(\"Most popular Styles of Beer\")"
   ]
  },
  {
   "cell_type": "code",
<<<<<<< HEAD
   "execution_count": 19,
   "metadata": {},
   "outputs": [
    {
     "ename": "NameError",
     "evalue": "name 'top_5' is not defined",
     "output_type": "error",
     "traceback": [
      "\u001b[1;31m---------------------------------------------------------------------------\u001b[0m",
      "\u001b[1;31mNameError\u001b[0m                                 Traceback (most recent call last)",
      "\u001b[1;32m<ipython-input-19-3846202bbbec>\u001b[0m in \u001b[0;36m<module>\u001b[1;34m\u001b[0m\n\u001b[0;32m      1\u001b[0m \u001b[0mxlabel\u001b[0m \u001b[1;33m=\u001b[0m \u001b[1;34m'style'\u001b[0m\u001b[1;33m\u001b[0m\u001b[1;33m\u001b[0m\u001b[0m\n\u001b[0;32m      2\u001b[0m \u001b[0mylabel\u001b[0m \u001b[1;33m=\u001b[0m \u001b[1;34m'abv'\u001b[0m\u001b[1;33m\u001b[0m\u001b[1;33m\u001b[0m\u001b[0m\n\u001b[1;32m----> 3\u001b[1;33m \u001b[0mtop_5_chart\u001b[0m \u001b[1;33m=\u001b[0m \u001b[0mtop_5\u001b[0m\u001b[1;33m.\u001b[0m\u001b[0mplot\u001b[0m\u001b[1;33m(\u001b[0m\u001b[0mkind\u001b[0m\u001b[1;33m=\u001b[0m\u001b[1;34m'bar'\u001b[0m\u001b[1;33m,\u001b[0m \u001b[0mfacecolor\u001b[0m\u001b[1;33m=\u001b[0m\u001b[1;34m\"blue\"\u001b[0m\u001b[1;33m,\u001b[0m \u001b[0mfigsize\u001b[0m\u001b[1;33m=\u001b[0m\u001b[1;33m(\u001b[0m\u001b[1;36m10\u001b[0m\u001b[1;33m,\u001b[0m\u001b[1;36m5\u001b[0m\u001b[1;33m)\u001b[0m\u001b[1;33m)\u001b[0m\u001b[1;33m\u001b[0m\u001b[1;33m\u001b[0m\u001b[0m\n\u001b[0m\u001b[0;32m      4\u001b[0m \u001b[0mplt\u001b[0m\u001b[1;33m.\u001b[0m\u001b[0mtitle\u001b[0m\u001b[1;33m(\u001b[0m\u001b[1;34m\"ABV by style\"\u001b[0m\u001b[1;33m)\u001b[0m\u001b[1;33m\u001b[0m\u001b[1;33m\u001b[0m\u001b[0m\n\u001b[0;32m      5\u001b[0m \u001b[0mtop_5_chart\u001b[0m\u001b[1;33m.\u001b[0m\u001b[0mset_xlabel\u001b[0m\u001b[1;33m(\u001b[0m\u001b[1;34m\"style\"\u001b[0m\u001b[1;33m)\u001b[0m\u001b[1;33m\u001b[0m\u001b[1;33m\u001b[0m\u001b[0m\n",
      "\u001b[1;31mNameError\u001b[0m: name 'top_5' is not defined"
     ]
    }
   ],
   "source": [
    "xlabel = 'style'\n",
    "ylabel = 'abv'\n",
    "top_5_chart = top_5.plot(kind='bar', facecolor=\"blue\", figsize=(10,5))\n",
    "plt.title(\"ABV by style\")\n",
    "top_5_chart.set_xlabel(\"style\")\n",
    "top_5_chart.set_ylabel(\"abv\")\n",
    "plt.show()\n",
    "plt.tight_layout"
   ]
  },
  {
   "cell_type": "code",
   "execution_count": 20,
   "metadata": {},
   "outputs": [],
   "source": [
    "group1 = poop_df[poop_df[\"style\"] == \"Quadrupel (Quad)\"][\"abv\"]\n",
    "group2 = poop_df[poop_df[\"style\"] == \"English Barleywine\"][\"abv\"]\n",
    "group3 = poop_df[poop_df[\"style\"] == \"Russian Imperial Stout\"][\"abv\"]\n",
    "group4 = poop_df[poop_df[\"style\"] == \"Rye Beer\"][\"abv\"]"
   ]
  },
  {
   "cell_type": "code",
   "execution_count": 21,
   "metadata": {},
   "outputs": [
=======
   "execution_count": 92,
   "metadata": {},
   "outputs": [
    {
     "data": {
      "text/plain": [
       "Text(0.5, 1.0, 'States with Highest ABV')"
      ]
     },
     "execution_count": 92,
     "metadata": {},
     "output_type": "execute_result"
    },
>>>>>>> 8457d42fc39d225daf96f9ce7fe033f29a6b50da
    {
     "data": {
      "image/png": "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\n",
      "text/plain": [
       "<Figure size 432x288 with 1 Axes>"
      ]
     },
<<<<<<< HEAD
     "execution_count": 21,
=======
>>>>>>> 8457d42fc39d225daf96f9ce7fe033f29a6b50da
     "metadata": {},
     "output_type": "display_data"
    }
   ],
   "source": [
    "# explode = (0, 0.1, 0, 0)  # only \"explode\" the 2nd slice (i.e. 'Hogs')\n",
    "\n",
    "# fig1, ax1 = plt.subplots()\n",
    "# ax1.pie(sizes, explode=explode, labels=labels, autopct='%1.1f%%',\n",
    "#         shadow=True, startangle=90)\n",
    "# ax1.axis('equal')  # Equal aspect ratio ensures that pie is drawn as a circle.\n",
    "\n",
    "# plt.show()  \n",
    "\n",
    "# fig1, ax1 = plt.subplots()\n",
    "# ax1.pie(sizes, explode=explode, labels=labels, autopct='%1.1f%%',\n",
    "#         shadow=True, startangle=90)\n",
    "# ax1.axis('equal')  # Equal aspect ratio ensures that pie is drawn as a circle.\n",
    "\n",
    "# plt.show()\n",
    "\n",
    "poop_5['state'].value_counts(15).plot(kind = \"pie\", explode=explode, autopct='%1.1f%%',\n",
    "        shadow=True, startangle=90)\n",
    "explode = (.2, 0, 0, 0)\n",
    "plt.title(\"States with Highest ABV\")"
   ]
  },
  {
   "cell_type": "code",
   "execution_count": 22,
   "metadata": {},
   "outputs": [
    {
     "ename": "NameError",
     "evalue": "name 'poop_5' is not defined",
     "output_type": "error",
     "traceback": [
      "\u001b[1;31m---------------------------------------------------------------------------\u001b[0m",
      "\u001b[1;31mNameError\u001b[0m                                 Traceback (most recent call last)",
      "\u001b[1;32m<ipython-input-22-07280774a4d1>\u001b[0m in \u001b[0;36m<module>\u001b[1;34m\u001b[0m\n\u001b[1;32m----> 1\u001b[1;33m poop_5['state'].value_counts(15).plot(kind = \"pie\", explode=explode, autopct='%1.1f%%',\n\u001b[0m\u001b[0;32m      2\u001b[0m         shadow=True, startangle=90)\n\u001b[0;32m      3\u001b[0m \u001b[0mexplode\u001b[0m \u001b[1;33m=\u001b[0m \u001b[1;33m(\u001b[0m\u001b[1;36m.2\u001b[0m\u001b[1;33m,\u001b[0m \u001b[1;36m0\u001b[0m\u001b[1;33m,\u001b[0m \u001b[1;36m0\u001b[0m\u001b[1;33m,\u001b[0m \u001b[1;36m0\u001b[0m\u001b[1;33m)\u001b[0m\u001b[1;33m\u001b[0m\u001b[1;33m\u001b[0m\u001b[0m\n\u001b[0;32m      4\u001b[0m \u001b[0mplt\u001b[0m\u001b[1;33m.\u001b[0m\u001b[0mtitle\u001b[0m\u001b[1;33m(\u001b[0m\u001b[1;34m\"States with Highest ABV\"\u001b[0m\u001b[1;33m)\u001b[0m\u001b[1;33m\u001b[0m\u001b[1;33m\u001b[0m\u001b[0m\n",
      "\u001b[1;31mNameError\u001b[0m: name 'poop_5' is not defined"
     ]
    }
   ],
   "source": [
    "poop_5 = poop_df.nlargest(5, )\n",
    "poop_5['state'].value_counts(15).plot(kind = \"pie\", explode=explode, autopct='%1.1f%%',\n",
    "        shadow=True, startangle=90)\n",
    "explode = (.2, 0, 0, 0)\n",
    "plt.title(\"States with Highest ABV\")\n"
   ]
  },
  {
   "cell_type": "code",
   "execution_count": null,
   "metadata": {},
   "outputs": [],
   "source": []
  }
 ],
 "metadata": {
  "kernelspec": {
   "display_name": "Python 3",
   "language": "python",
   "name": "python3"
  },
  "language_info": {
   "codemirror_mode": {
    "name": "ipython",
    "version": 3
   },
   "file_extension": ".py",
   "mimetype": "text/x-python",
   "name": "python",
   "nbconvert_exporter": "python",
   "pygments_lexer": "ipython3",
   "version": "3.7.6"
  }
 },
 "nbformat": 4,
 "nbformat_minor": 4
}
